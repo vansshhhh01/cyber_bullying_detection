{
 "cells": [
  {
   "cell_type": "markdown",
   "metadata": {},
   "source": [
    "# Cyberbullying Detection using NLP\n",
    "---"
   ]
  },
  {
   "cell_type": "markdown",
   "metadata": {},
   "source": [
    "# Imports\n",
    "---"
   ]
  },
  {
   "cell_type": "code",
   "execution_count": 163,
   "metadata": {
    "execution": {
     "iopub.execute_input": "2023-03-04T08:30:56.337118Z",
     "iopub.status.busy": "2023-03-04T08:30:56.336049Z",
     "iopub.status.idle": "2023-03-04T08:30:56.343741Z",
     "shell.execute_reply": "2023-03-04T08:30:56.342607Z",
     "shell.execute_reply.started": "2023-03-04T08:30:56.337074Z"
    },
    "trusted": true
   },
   "outputs": [],
   "source": [
    "import pandas as pd\n",
    "import re\n",
    "import nltk\n",
    "from nltk.corpus import stopwords\n",
    "from nltk.stem import PorterStemmer\n",
    "from sklearn.feature_extraction.text import CountVectorizer\n",
    "\n",
    "import seaborn as sns\n",
    "import matplotlib.pyplot as plt\n",
    "\n",
    "from tqdm.auto import tqdm\n",
    "import time"
   ]
  },
  {
   "cell_type": "code",
   "execution_count": 164,
   "metadata": {},
   "outputs": [
    {
     "name": "stdout",
     "output_type": "stream",
     "text": [
      "NLTK resources checked.\n"
     ]
    }
   ],
   "source": [
    "import nltk\n",
    "# Ensure required NLTK resources are available. Downloads only if missing.\n",
    "try:\n",
    "    nltk.data.find('corpora/stopwords')\n",
    "except LookupError:\n",
    "    print(\"Downloading 'stopwords'...\")\n",
    "    nltk.download('stopwords')\n",
    "\n",
    "try:\n",
    "    nltk.data.find('tokenizers/punkt')\n",
    "except LookupError:\n",
    "    print(\"Downloading 'punkt' (tokenizer)...\")\n",
    "    nltk.download('punkt')\n",
    "\n",
    "print('NLTK resources checked.')\n"
   ]
  },
  {
   "cell_type": "markdown",
   "metadata": {},
   "source": [
    "# Loading the Dataset\n",
    "---"
   ]
  },
  {
   "cell_type": "code",
   "execution_count": 165,
   "metadata": {
    "execution": {
     "iopub.execute_input": "2023-03-04T08:30:56.350479Z",
     "iopub.status.busy": "2023-03-04T08:30:56.349639Z",
     "iopub.status.idle": "2023-03-04T08:30:56.442155Z",
     "shell.execute_reply": "2023-03-04T08:30:56.440917Z",
     "shell.execute_reply.started": "2023-03-04T08:30:56.350428Z"
    },
    "trusted": true
   },
   "outputs": [
    {
     "data": {
      "text/html": [
       "<div>\n",
       "<style scoped>\n",
       "    .dataframe tbody tr th:only-of-type {\n",
       "        vertical-align: middle;\n",
       "    }\n",
       "\n",
       "    .dataframe tbody tr th {\n",
       "        vertical-align: top;\n",
       "    }\n",
       "\n",
       "    .dataframe thead th {\n",
       "        text-align: right;\n",
       "    }\n",
       "</style>\n",
       "<table border=\"1\" class=\"dataframe\">\n",
       "  <thead>\n",
       "    <tr style=\"text-align: right;\">\n",
       "      <th></th>\n",
       "      <th>tweet_text</th>\n",
       "      <th>cyberbullying_type</th>\n",
       "    </tr>\n",
       "  </thead>\n",
       "  <tbody>\n",
       "    <tr>\n",
       "      <th>0</th>\n",
       "      <td>In other words #katandandre, your food was cra...</td>\n",
       "      <td>not_cyberbullying</td>\n",
       "    </tr>\n",
       "    <tr>\n",
       "      <th>1</th>\n",
       "      <td>Why is #aussietv so white? #MKR #theblock #ImA...</td>\n",
       "      <td>not_cyberbullying</td>\n",
       "    </tr>\n",
       "    <tr>\n",
       "      <th>2</th>\n",
       "      <td>@XochitlSuckkks a classy whore? Or more red ve...</td>\n",
       "      <td>not_cyberbullying</td>\n",
       "    </tr>\n",
       "    <tr>\n",
       "      <th>3</th>\n",
       "      <td>@Jason_Gio meh. :P  thanks for the heads up, b...</td>\n",
       "      <td>not_cyberbullying</td>\n",
       "    </tr>\n",
       "    <tr>\n",
       "      <th>4</th>\n",
       "      <td>@RudhoeEnglish This is an ISIS account pretend...</td>\n",
       "      <td>not_cyberbullying</td>\n",
       "    </tr>\n",
       "    <tr>\n",
       "      <th>...</th>\n",
       "      <td>...</td>\n",
       "      <td>...</td>\n",
       "    </tr>\n",
       "    <tr>\n",
       "      <th>19995</th>\n",
       "      <td>I am Christian who definitely does not support...</td>\n",
       "      <td>religion</td>\n",
       "    </tr>\n",
       "    <tr>\n",
       "      <th>19996</th>\n",
       "      <td>@yousufpoosuf @RKingLive2Dance @izrinhariri No...</td>\n",
       "      <td>religion</td>\n",
       "    </tr>\n",
       "    <tr>\n",
       "      <th>19997</th>\n",
       "      <td>How can you say Barack Obama was the best pres...</td>\n",
       "      <td>religion</td>\n",
       "    </tr>\n",
       "    <tr>\n",
       "      <th>19998</th>\n",
       "      <td>Another Mentally ill asylum seeker. WTHell do ...</td>\n",
       "      <td>religion</td>\n",
       "    </tr>\n",
       "    <tr>\n",
       "      <th>19999</th>\n",
       "      <td>shame on you. Bhagat singh did not kill innoce...</td>\n",
       "      <td>religion</td>\n",
       "    </tr>\n",
       "  </tbody>\n",
       "</table>\n",
       "<p>20000 rows × 2 columns</p>\n",
       "</div>"
      ],
      "text/plain": [
       "                                              tweet_text cyberbullying_type\n",
       "0      In other words #katandandre, your food was cra...  not_cyberbullying\n",
       "1      Why is #aussietv so white? #MKR #theblock #ImA...  not_cyberbullying\n",
       "2      @XochitlSuckkks a classy whore? Or more red ve...  not_cyberbullying\n",
       "3      @Jason_Gio meh. :P  thanks for the heads up, b...  not_cyberbullying\n",
       "4      @RudhoeEnglish This is an ISIS account pretend...  not_cyberbullying\n",
       "...                                                  ...                ...\n",
       "19995  I am Christian who definitely does not support...           religion\n",
       "19996  @yousufpoosuf @RKingLive2Dance @izrinhariri No...           religion\n",
       "19997  How can you say Barack Obama was the best pres...           religion\n",
       "19998  Another Mentally ill asylum seeker. WTHell do ...           religion\n",
       "19999  shame on you. Bhagat singh did not kill innoce...           religion\n",
       "\n",
       "[20000 rows x 2 columns]"
      ]
     },
     "execution_count": 165,
     "metadata": {},
     "output_type": "execute_result"
    }
   ],
   "source": [
    "df = pd.read_csv(r'E:\\CAUTION, FUTURE AHEAD!!!!!!\\cyber_bullying_detection\\cyberbullying_tweets.csv', nrows = 20000)\n",
    "df"
   ]
  },
  {
   "cell_type": "code",
   "execution_count": 166,
   "metadata": {
    "execution": {
     "iopub.execute_input": "2023-03-04T08:30:56.445548Z",
     "iopub.status.busy": "2023-03-04T08:30:56.444521Z",
     "iopub.status.idle": "2023-03-04T08:30:56.455197Z",
     "shell.execute_reply": "2023-03-04T08:30:56.454169Z",
     "shell.execute_reply.started": "2023-03-04T08:30:56.445507Z"
    },
    "trusted": true
   },
   "outputs": [
    {
     "data": {
      "text/html": [
       "<div>\n",
       "<style scoped>\n",
       "    .dataframe tbody tr th:only-of-type {\n",
       "        vertical-align: middle;\n",
       "    }\n",
       "\n",
       "    .dataframe tbody tr th {\n",
       "        vertical-align: top;\n",
       "    }\n",
       "\n",
       "    .dataframe thead th {\n",
       "        text-align: right;\n",
       "    }\n",
       "</style>\n",
       "<table border=\"1\" class=\"dataframe\">\n",
       "  <thead>\n",
       "    <tr style=\"text-align: right;\">\n",
       "      <th></th>\n",
       "      <th>tweet_text</th>\n",
       "      <th>cyberbullying_type</th>\n",
       "    </tr>\n",
       "  </thead>\n",
       "  <tbody>\n",
       "    <tr>\n",
       "      <th>0</th>\n",
       "      <td>In other words #katandandre, your food was cra...</td>\n",
       "      <td>not_cyberbullying</td>\n",
       "    </tr>\n",
       "    <tr>\n",
       "      <th>1</th>\n",
       "      <td>Why is #aussietv so white? #MKR #theblock #ImA...</td>\n",
       "      <td>not_cyberbullying</td>\n",
       "    </tr>\n",
       "    <tr>\n",
       "      <th>2</th>\n",
       "      <td>@XochitlSuckkks a classy whore? Or more red ve...</td>\n",
       "      <td>not_cyberbullying</td>\n",
       "    </tr>\n",
       "    <tr>\n",
       "      <th>3</th>\n",
       "      <td>@Jason_Gio meh. :P  thanks for the heads up, b...</td>\n",
       "      <td>not_cyberbullying</td>\n",
       "    </tr>\n",
       "    <tr>\n",
       "      <th>4</th>\n",
       "      <td>@RudhoeEnglish This is an ISIS account pretend...</td>\n",
       "      <td>not_cyberbullying</td>\n",
       "    </tr>\n",
       "  </tbody>\n",
       "</table>\n",
       "</div>"
      ],
      "text/plain": [
       "                                          tweet_text cyberbullying_type\n",
       "0  In other words #katandandre, your food was cra...  not_cyberbullying\n",
       "1  Why is #aussietv so white? #MKR #theblock #ImA...  not_cyberbullying\n",
       "2  @XochitlSuckkks a classy whore? Or more red ve...  not_cyberbullying\n",
       "3  @Jason_Gio meh. :P  thanks for the heads up, b...  not_cyberbullying\n",
       "4  @RudhoeEnglish This is an ISIS account pretend...  not_cyberbullying"
      ]
     },
     "execution_count": 166,
     "metadata": {},
     "output_type": "execute_result"
    }
   ],
   "source": [
    "df.head()"
   ]
  },
  {
   "cell_type": "code",
   "execution_count": 167,
   "metadata": {
    "execution": {
     "iopub.execute_input": "2023-03-04T08:30:56.456621Z",
     "iopub.status.busy": "2023-03-04T08:30:56.456231Z",
     "iopub.status.idle": "2023-03-04T08:30:56.474705Z",
     "shell.execute_reply": "2023-03-04T08:30:56.473737Z",
     "shell.execute_reply.started": "2023-03-04T08:30:56.456587Z"
    },
    "trusted": true
   },
   "outputs": [
    {
     "data": {
      "text/html": [
       "<div>\n",
       "<style scoped>\n",
       "    .dataframe tbody tr th:only-of-type {\n",
       "        vertical-align: middle;\n",
       "    }\n",
       "\n",
       "    .dataframe tbody tr th {\n",
       "        vertical-align: top;\n",
       "    }\n",
       "\n",
       "    .dataframe thead th {\n",
       "        text-align: right;\n",
       "    }\n",
       "</style>\n",
       "<table border=\"1\" class=\"dataframe\">\n",
       "  <thead>\n",
       "    <tr style=\"text-align: right;\">\n",
       "      <th></th>\n",
       "      <th>tweet_text</th>\n",
       "      <th>cyberbullying_type</th>\n",
       "    </tr>\n",
       "  </thead>\n",
       "  <tbody>\n",
       "    <tr>\n",
       "      <th>19995</th>\n",
       "      <td>I am Christian who definitely does not support...</td>\n",
       "      <td>religion</td>\n",
       "    </tr>\n",
       "    <tr>\n",
       "      <th>19996</th>\n",
       "      <td>@yousufpoosuf @RKingLive2Dance @izrinhariri No...</td>\n",
       "      <td>religion</td>\n",
       "    </tr>\n",
       "    <tr>\n",
       "      <th>19997</th>\n",
       "      <td>How can you say Barack Obama was the best pres...</td>\n",
       "      <td>religion</td>\n",
       "    </tr>\n",
       "    <tr>\n",
       "      <th>19998</th>\n",
       "      <td>Another Mentally ill asylum seeker. WTHell do ...</td>\n",
       "      <td>religion</td>\n",
       "    </tr>\n",
       "    <tr>\n",
       "      <th>19999</th>\n",
       "      <td>shame on you. Bhagat singh did not kill innoce...</td>\n",
       "      <td>religion</td>\n",
       "    </tr>\n",
       "  </tbody>\n",
       "</table>\n",
       "</div>"
      ],
      "text/plain": [
       "                                              tweet_text cyberbullying_type\n",
       "19995  I am Christian who definitely does not support...           religion\n",
       "19996  @yousufpoosuf @RKingLive2Dance @izrinhariri No...           religion\n",
       "19997  How can you say Barack Obama was the best pres...           religion\n",
       "19998  Another Mentally ill asylum seeker. WTHell do ...           religion\n",
       "19999  shame on you. Bhagat singh did not kill innoce...           religion"
      ]
     },
     "execution_count": 167,
     "metadata": {},
     "output_type": "execute_result"
    }
   ],
   "source": [
    "df.tail()"
   ]
  },
  {
   "cell_type": "code",
   "execution_count": 168,
   "metadata": {
    "execution": {
     "iopub.execute_input": "2023-03-04T08:30:56.477216Z",
     "iopub.status.busy": "2023-03-04T08:30:56.476461Z",
     "iopub.status.idle": "2023-03-04T08:30:56.486208Z",
     "shell.execute_reply": "2023-03-04T08:30:56.485052Z",
     "shell.execute_reply.started": "2023-03-04T08:30:56.477167Z"
    },
    "trusted": true
   },
   "outputs": [
    {
     "data": {
      "text/plain": [
       "(20000, 2)"
      ]
     },
     "execution_count": 168,
     "metadata": {},
     "output_type": "execute_result"
    }
   ],
   "source": [
    "df.shape"
   ]
  },
  {
   "cell_type": "markdown",
   "metadata": {},
   "source": [
    "# EDA\n",
    "---"
   ]
  },
  {
   "cell_type": "markdown",
   "metadata": {},
   "source": [
    "# 1. Handling Null Values"
   ]
  },
  {
   "cell_type": "code",
   "execution_count": 169,
   "metadata": {
    "execution": {
     "iopub.execute_input": "2023-03-04T08:30:56.953066Z",
     "iopub.status.busy": "2023-03-04T08:30:56.952651Z",
     "iopub.status.idle": "2023-03-04T08:30:56.965768Z",
     "shell.execute_reply": "2023-03-04T08:30:56.964554Z",
     "shell.execute_reply.started": "2023-03-04T08:30:56.953030Z"
    },
    "trusted": true
   },
   "outputs": [
    {
     "data": {
      "text/plain": [
       "tweet_text            False\n",
       "cyberbullying_type    False\n",
       "dtype: bool"
      ]
     },
     "execution_count": 169,
     "metadata": {},
     "output_type": "execute_result"
    }
   ],
   "source": [
    "df.isna().any()"
   ]
  },
  {
   "cell_type": "code",
   "execution_count": 170,
   "metadata": {
    "execution": {
     "iopub.execute_input": "2023-03-04T08:30:57.026040Z",
     "iopub.status.busy": "2023-03-04T08:30:57.025164Z",
     "iopub.status.idle": "2023-03-04T08:30:57.038563Z",
     "shell.execute_reply": "2023-03-04T08:30:57.037179Z",
     "shell.execute_reply.started": "2023-03-04T08:30:57.025993Z"
    },
    "trusted": true
   },
   "outputs": [
    {
     "data": {
      "text/plain": [
       "tweet_text            0\n",
       "cyberbullying_type    0\n",
       "dtype: int64"
      ]
     },
     "execution_count": 170,
     "metadata": {},
     "output_type": "execute_result"
    }
   ],
   "source": [
    "df.isna().sum()"
   ]
  },
  {
   "cell_type": "markdown",
   "metadata": {},
   "source": [
    "# 2. Handling Duplicate Values"
   ]
  },
  {
   "cell_type": "code",
   "execution_count": 171,
   "metadata": {
    "execution": {
     "iopub.execute_input": "2023-03-04T08:30:57.041404Z",
     "iopub.status.busy": "2023-03-04T08:30:57.040943Z",
     "iopub.status.idle": "2023-03-04T08:30:57.064930Z",
     "shell.execute_reply": "2023-03-04T08:30:57.064055Z",
     "shell.execute_reply.started": "2023-03-04T08:30:57.041359Z"
    },
    "trusted": true
   },
   "outputs": [
    {
     "data": {
      "text/plain": [
       "tweet_text            19915\n",
       "cyberbullying_type        3\n",
       "dtype: int64"
      ]
     },
     "execution_count": 171,
     "metadata": {},
     "output_type": "execute_result"
    }
   ],
   "source": [
    "df.nunique()"
   ]
  },
  {
   "cell_type": "code",
   "execution_count": 172,
   "metadata": {
    "execution": {
     "iopub.execute_input": "2023-03-04T08:30:57.068035Z",
     "iopub.status.busy": "2023-03-04T08:30:57.067146Z",
     "iopub.status.idle": "2023-03-04T08:30:57.086314Z",
     "shell.execute_reply": "2023-03-04T08:30:57.085197Z",
     "shell.execute_reply.started": "2023-03-04T08:30:57.067987Z"
    },
    "trusted": true
   },
   "outputs": [
    {
     "data": {
      "text/plain": [
       "19915"
      ]
     },
     "execution_count": 172,
     "metadata": {},
     "output_type": "execute_result"
    }
   ],
   "source": [
    "df['tweet_text'].nunique()"
   ]
  },
  {
   "cell_type": "markdown",
   "metadata": {},
   "source": [
    "# 3. Class Distributions"
   ]
  },
  {
   "cell_type": "code",
   "execution_count": 173,
   "metadata": {
    "execution": {
     "iopub.execute_input": "2023-03-04T08:30:57.089957Z",
     "iopub.status.busy": "2023-03-04T08:30:57.089317Z",
     "iopub.status.idle": "2023-03-04T08:30:57.098933Z",
     "shell.execute_reply": "2023-03-04T08:30:57.097823Z",
     "shell.execute_reply.started": "2023-03-04T08:30:57.089921Z"
    },
    "trusted": true
   },
   "outputs": [
    {
     "data": {
      "text/plain": [
       "cyberbullying_type\n",
       "gender               7973\n",
       "not_cyberbullying    7945\n",
       "religion             4082\n",
       "Name: count, dtype: int64"
      ]
     },
     "execution_count": 173,
     "metadata": {},
     "output_type": "execute_result"
    }
   ],
   "source": [
    "df['cyberbullying_type'].value_counts()"
   ]
  },
  {
   "cell_type": "code",
   "execution_count": 174,
   "metadata": {
    "execution": {
     "iopub.execute_input": "2023-03-04T08:30:57.100545Z",
     "iopub.status.busy": "2023-03-04T08:30:57.100223Z",
     "iopub.status.idle": "2023-03-04T08:30:57.324131Z",
     "shell.execute_reply": "2023-03-04T08:30:57.323182Z",
     "shell.execute_reply.started": "2023-03-04T08:30:57.100518Z"
    },
    "trusted": true
   },
   "outputs": [
    {
     "data": {
      "image/png": "[encoded data removed]",
      "text/plain": [
       "<Figure size 640x480 with 1 Axes>"
      ]
     },
     "metadata": {},
     "output_type": "display_data"
    }
   ],
   "source": [
    "# Create a bar plot of the class distribution\n",
    "class_counts = df['cyberbullying_type'].value_counts()\n",
    "class_counts.plot(kind='bar')\n",
    "plt.title('Class Distribution of Cyberbullying Types')\n",
    "plt.xlabel('Labels')\n",
    "plt.ylabel('Number of Tweets')\n",
    "plt.show()"
   ]
  },
  {
   "cell_type": "markdown",
   "metadata": {},
   "source": [
    "# 4. Word Count"
   ]
  },
  {
   "cell_type": "code",
   "execution_count": 175,
   "metadata": {
    "execution": {
     "iopub.execute_input": "2023-03-04T08:30:57.325726Z",
     "iopub.status.busy": "2023-03-04T08:30:57.325366Z",
     "iopub.status.idle": "2023-03-04T08:30:57.330770Z",
     "shell.execute_reply": "2023-03-04T08:30:57.329390Z",
     "shell.execute_reply.started": "2023-03-04T08:30:57.325692Z"
    },
    "trusted": true
   },
   "outputs": [],
   "source": [
    "from collections import Counter\n",
    "import re\n",
    "\n",
    "import nltk\n",
    "from nltk.corpus import stopwords"
   ]
  },
  {
   "cell_type": "code",
   "execution_count": 176,
   "metadata": {
    "execution": {
     "iopub.execute_input": "2023-03-04T08:30:57.710965Z",
     "iopub.status.busy": "2023-03-04T08:30:57.710574Z",
     "iopub.status.idle": "2023-03-04T08:30:57.812828Z",
     "shell.execute_reply": "2023-03-04T08:30:57.811685Z",
     "shell.execute_reply.started": "2023-03-04T08:30:57.710930Z"
    },
    "trusted": true
   },
   "outputs": [],
   "source": [
    "# Concatenate all tweet texts into a single string\n",
    "all_text = ' '.join(df['tweet_text'].values)\n",
    "# Remove URLs, mentions, and hashtags from the text\n",
    "all_text = re.sub(r'http\\S+', '', all_text)\n",
    "all_text = re.sub(r'@\\S+', '', all_text)\n",
    "all_text = re.sub(r'#\\S+', '', all_text)\n",
    "# Split the text into individual words\n",
    "words = all_text.split()"
   ]
  },
  {
   "cell_type": "code",
   "execution_count": 177,
   "metadata": {
    "execution": {
     "iopub.execute_input": "2023-03-04T08:30:57.815827Z",
     "iopub.status.busy": "2023-03-04T08:30:57.815018Z",
     "iopub.status.idle": "2023-03-04T08:30:57.879273Z",
     "shell.execute_reply": "2023-03-04T08:30:57.878314Z",
     "shell.execute_reply.started": "2023-03-04T08:30:57.815792Z"
    },
    "trusted": true
   },
   "outputs": [],
   "source": [
    "# Remove stop words\n",
    "stop_words = set(stopwords.words('english'))\n",
    "words = [word for word in words if not word in stop_words]"
   ]
  },
  {
   "cell_type": "code",
   "execution_count": 178,
   "metadata": {
    "execution": {
     "iopub.execute_input": "2023-03-04T08:30:57.881162Z",
     "iopub.status.busy": "2023-03-04T08:30:57.880717Z",
     "iopub.status.idle": "2023-03-04T08:30:57.944345Z",
     "shell.execute_reply": "2023-03-04T08:30:57.943354Z",
     "shell.execute_reply.started": "2023-03-04T08:30:57.881091Z"
    },
    "trusted": true
   },
   "outputs": [
    {
     "data": {
      "text/plain": [
       "[('I', 5256),\n",
       " ('rape', 2962),\n",
       " ('gay', 2507),\n",
       " ('RT', 2103),\n",
       " ('jokes', 2038),\n",
       " ('like', 1739),\n",
       " ('people', 1336),\n",
       " (\"I'm\", 1167),\n",
       " ('&amp;', 1117),\n",
       " ('joke', 1114),\n",
       " ('The', 1021),\n",
       " ('call', 955),\n",
       " ('u', 942),\n",
       " ('You', 932),\n",
       " ('think', 896),\n",
       " ('get', 863),\n",
       " ('make', 862),\n",
       " ('women', 811),\n",
       " ('know', 739),\n",
       " ('one', 738),\n",
       " ('Muslim', 733),\n",
       " ('Muslims', 728),\n",
       " ('female', 703),\n",
       " ('sexist', 668),\n",
       " ('-', 650),\n",
       " ('And', 638),\n",
       " ('would', 637),\n",
       " ('jokes,', 615),\n",
       " ('Christian', 605),\n",
       " ('woman', 571),\n",
       " ('If', 561),\n",
       " ('support', 560),\n",
       " ('say', 542),\n",
       " ('even', 523),\n",
       " ('want', 520),\n",
       " ('see', 512),\n",
       " ('right', 504),\n",
       " ('men', 502),\n",
       " ('idiots', 488),\n",
       " ('never', 483),\n",
       " ('still', 469),\n",
       " ('But', 467),\n",
       " ('made', 458),\n",
       " ('go', 456),\n",
       " ('really', 451),\n",
       " ('idiot', 447),\n",
       " ('This', 445),\n",
       " ('A', 444),\n",
       " ('So', 443),\n",
       " ('making', 443),\n",
       " ('.', 430),\n",
       " ('Islamic', 429),\n",
       " ('bitch', 428),\n",
       " ('need', 418),\n",
       " (\"can't\", 412),\n",
       " ('hate', 410),\n",
       " ('Rape', 409),\n",
       " ('Kat', 399),\n",
       " ('What', 390),\n",
       " ('They', 386),\n",
       " ('said', 384),\n",
       " ('bullying', 381),\n",
       " ('Gay', 378),\n",
       " ('radical', 377),\n",
       " (\"It's\", 375),\n",
       " ('going', 366),\n",
       " ('also', 366),\n",
       " ('good', 358),\n",
       " ('time', 352),\n",
       " ('man', 349),\n",
       " ('love', 347),\n",
       " ('We', 342),\n",
       " ('Islam', 342),\n",
       " ('It', 341),\n",
       " ('it.', 336),\n",
       " ('got', 334),\n",
       " ('fucking', 327),\n",
       " ('don’t', 326),\n",
       " ('funny', 324),\n",
       " ('many', 321),\n",
       " ('Why', 319),\n",
       " ('jokes.', 316),\n",
       " ('He', 312),\n",
       " ('someone', 309),\n",
       " ('makes', 309),\n",
       " ('shit', 308),\n",
       " ('way', 305),\n",
       " ('much', 301),\n",
       " ('No', 294),\n",
       " ('rape,', 292),\n",
       " ('How', 288),\n",
       " ('terrorism', 286),\n",
       " ('r', 284),\n",
       " ('bad', 280),\n",
       " (',', 280),\n",
       " ('every', 280),\n",
       " ('saying', 278),\n",
       " ('girls', 276),\n",
       " ('school', 276),\n",
       " ('stop', 274)]"
      ]
     },
     "execution_count": 178,
     "metadata": {},
     "output_type": "execute_result"
    }
   ],
   "source": [
    "# Count the frequency of each word\n",
    "word_counts = Counter(words)\n",
    "top_words = word_counts.most_common(100)\n",
    "top_words"
   ]
  },
  {
   "cell_type": "code",
   "execution_count": 179,
   "metadata": {
    "execution": {
     "iopub.execute_input": "2023-03-04T08:30:57.947764Z",
     "iopub.status.busy": "2023-03-04T08:30:57.947282Z",
     "iopub.status.idle": "2023-03-04T08:30:58.196337Z",
     "shell.execute_reply": "2023-03-04T08:30:58.195179Z",
     "shell.execute_reply.started": "2023-03-04T08:30:57.947714Z"
    },
    "trusted": true
   },
   "outputs": [
    {
     "data": {
      "image/png": "[encoded data removed]",
      "text/plain": [
       "<Figure size 640x480 with 1 Axes>"
      ]
     },
     "metadata": {},
     "output_type": "display_data"
    }
   ],
   "source": [
    "# Create a bar chart of the most common words\n",
    "top_words = word_counts.most_common(10) # Change the number to show more/less words\n",
    "x_values = [word[0] for word in top_words]\n",
    "y_values = [word[1] for word in top_words]\n",
    "plt.bar(x_values, y_values)\n",
    "plt.xlabel('Word')\n",
    "plt.ylabel('Frequency')\n",
    "plt.title('Most Commonly Used Words')\n",
    "plt.show()"
   ]
  },
  {
   "cell_type": "markdown",
   "metadata": {},
   "source": [
    "# Visualizations\n",
    "---"
   ]
  },
  {
   "cell_type": "markdown",
   "metadata": {},
   "source": [
    "# 1. Wordclouds"
   ]
  },
  {
   "cell_type": "code",
   "execution_count": 180,
   "metadata": {},
   "outputs": [
    {
     "name": "stdout",
     "output_type": "stream",
     "text": [
      "wordcloud already installed\n"
     ]
    }
   ],
   "source": [
    "# Ensure 'wordcloud' package is installed. Installs only if missing.\n",
    "try:\n",
    "    from wordcloud import WordCloud\n",
    "    print(\"wordcloud already installed\")\n",
    "except Exception:\n",
    "    import sys, subprocess\n",
    "    print(\"Installing 'wordcloud' package...\")\n",
    "    subprocess.check_call([sys.executable, \"-m\", \"pip\", \"install\", \"wordcloud\"])\n",
    "    from wordcloud import WordCloud\n",
    "    print(\"wordcloud installed\")\n"
   ]
  },
  {
   "cell_type": "code",
   "execution_count": null,
   "metadata": {
    "trusted": true
   },
   "outputs": [],
   "source": [
    "from wordcloud import WordCloud\n",
    "\n",
    "text = ' '.join([word for word in df['tweet_text']])\n",
    "plt.figure(figsize=(20,15), facecolor='None')\n",
    "wordcloud = WordCloud(max_words=1000, width=1600, height=800).generate(text)\n",
    "plt.imshow(wordcloud, interpolation='bilinear')\n",
    "plt.axis(\"off\")\n",
    "plt.title('Most frequent words used in Tweets', fontsize=19)\n",
    "plt.show()"
   ]
  },
  {
   "cell_type": "markdown",
   "metadata": {},
   "source": [
    "# 2. Sentiment Analysis Plot"
   ]
  },
  {
   "cell_type": "code",
   "execution_count": null,
   "metadata": {
    "execution": {
     "iopub.execute_input": "2023-03-04T08:31:09.801329Z",
     "iopub.status.busy": "2023-03-04T08:31:09.800767Z",
     "iopub.status.idle": "2023-03-04T08:31:16.302610Z",
     "shell.execute_reply": "2023-03-04T08:31:16.301192Z",
     "shell.execute_reply.started": "2023-03-04T08:31:09.801291Z"
    },
    "trusted": true
   },
   "outputs": [
    {
     "data": {
      "image/png": "[encoded data removed]",
      "text/plain": [
       "<Figure size 1000x500 with 2 Axes>"
      ]
     },
     "metadata": {},
     "output_type": "display_data"
    }
   ],
   "source": [
    "import pandas as pd\n",
    "import matplotlib.pyplot as plt\n",
    "\n",
    "# Ensure TextBlob is available at runtime; install if missing\n",
    "try:\n",
    "    from textblob import TextBlob\n",
    "except Exception:\n",
    "    import sys, subprocess\n",
    "    print(\"TextBlob not found — installing textblob...\")\n",
    "    subprocess.check_call([sys.executable, \"-m\", \"pip\", \"install\", \"textblob\"]) \n",
    "    from textblob import TextBlob\n",
    "    print(\"TextBlob installed\")\n",
    "\n",
    "# perform sentiment analysis on each text in DataFrame\n",
    "sentiment_scores = []\n",
    "for text in df['tweet_text']:\n",
    "    analysis = TextBlob(text)\n",
    "    sentiment_scores.append((analysis.sentiment.polarity, analysis.sentiment.subjectivity))\n",
    "\n",
    "# create DataFrame with sentiment scores\n",
    "sentiment_df = pd.DataFrame(sentiment_scores, columns=['polarity', 'subjectivity'])\n",
    "\n",
    "# plot distribution of sentiment scores\n",
    "fig, axes = plt.subplots(nrows=1, ncols=2, figsize=(10, 5))\n",
    "sentiment_df['polarity'].plot(kind='hist', ax=axes[0], title='Polarity')\n",
    "sentiment_df['subjectivity'].plot(kind='hist', ax=axes[1], title='Subjectivity')\n",
    "plt.show()\n"
   ]
  },
  {
   "cell_type": "code",
   "execution_count": null,
   "metadata": {},
   "outputs": [
    {
     "name": "stdout",
     "output_type": "stream",
     "text": [
      "textblob already installed\n",
      "Downloading WordNet and omw-1.4 for TextBlob...\n"
     ]
    },
    {
     "name": "stderr",
     "output_type": "stream",
     "text": [
      "[nltk_data] Downloading package wordnet to\n",
      "[nltk_data]     C:\\Users\\vanss\\AppData\\Roaming\\nltk_data...\n",
      "[nltk_data]   Package wordnet is already up-to-date!\n",
      "[nltk_data] Downloading package omw-1.4 to\n",
      "[nltk_data]     C:\\Users\\vanss\\AppData\\Roaming\\nltk_data...\n",
      "[nltk_data]   Package omw-1.4 is already up-to-date!\n"
     ]
    },
    {
     "name": "stdout",
     "output_type": "stream",
     "text": [
      "TextBlob corpora checked/downloaded.\n"
     ]
    }
   ],
   "source": [
    "# Ensure 'textblob' package and corpora are installed. Installs/downloads only if missing.\n",
    "try:\n",
    "    from textblob import TextBlob\n",
    "    print(\"textblob already installed\")\n",
    "except Exception:\n",
    "    import sys, subprocess\n",
    "    print(\"Installing 'textblob' package...\")\n",
    "    subprocess.check_call([sys.executable, \"-m\", \"pip\", \"install\", \"textblob\"]) \n",
    "    from textblob import TextBlob\n",
    "    print(\"textblob installed\")\n",
    "\n",
    "# Download required corpora for TextBlob (WordNet/omw) and NLTK resources if missing\n",
    "import nltk\n",
    "try:\n",
    "    nltk.data.find('corpora/wordnet')\n",
    "except LookupError:\n",
    "    print(\"Downloading WordNet and omw-1.4 for TextBlob...\")\n",
    "    nltk.download('wordnet')\n",
    "    nltk.download('omw-1.4')\n",
    "\n",
    "# Run the textblob downloader as a final step (idempotent)\n",
    "import subprocess, sys\n",
    "try:\n",
    "    subprocess.check_call([sys.executable, \"-m\", \"textblob.download_corpora\", \"-q\"])  # -q for quiet\n",
    "    print('TextBlob corpora checked/downloaded.')\n",
    "except Exception as e:\n",
    "    print('Could not run textblob downloader (may not be available in this TextBlob version):', e)\n",
    "    print('If sentiment functions fail, run `python -m textblob.download_corpora` manually.')\n"
   ]
  },
  {
   "cell_type": "markdown",
   "metadata": {},
   "source": [
    "# 3. Named Entity Recognition (NER) Plot"
   ]
  },
  {
   "cell_type": "code",
   "execution_count": null,
   "metadata": {
    "execution": {
     "iopub.execute_input": "2023-03-04T08:31:16.304215Z",
     "iopub.status.busy": "2023-03-04T08:31:16.303856Z",
     "iopub.status.idle": "2023-03-04T08:31:16.309183Z",
     "shell.execute_reply": "2023-03-04T08:31:16.308037Z",
     "shell.execute_reply.started": "2023-03-04T08:31:16.304181Z"
    },
    "trusted": true
   },
   "outputs": [],
   "source": [
    "import spacy\n",
    "from spacy import displacy"
   ]
  },
  {
   "cell_type": "code",
   "execution_count": null,
   "metadata": {
    "execution": {
     "iopub.execute_input": "2023-03-04T08:31:16.312931Z",
     "iopub.status.busy": "2023-03-04T08:31:16.312601Z",
     "iopub.status.idle": "2023-03-04T08:31:16.979411Z",
     "shell.execute_reply": "2023-03-04T08:31:16.978282Z",
     "shell.execute_reply.started": "2023-03-04T08:31:16.312898Z"
    },
    "trusted": true
   },
   "outputs": [
    {
     "name": "stdout",
     "output_type": "stream",
     "text": [
      "Could not render via displacy in this environment: cannot import name 'display' from 'IPython.core.display' (e:\\CAUTION, FUTURE AHEAD!!!!!!\\cyber_bullying_detection\\env\\Lib\\site-packages\\IPython\\core\\display.py)\n",
      "Falling back to printing entities:\n",
      "\n",
      "ISIS ORG\n",
      "Kurdish NORP\n",
      "Islam ORG\n"
     ]
    }
   ],
   "source": [
    "#sample text\n",
    "text = df['tweet_text'].iloc[4]\n",
    "\n",
    "#load pre-trained NER model (install if missing)\n",
    "import spacy\n",
    "from spacy import displacy\n",
    "try:\n",
    "    nlp = spacy.load('en_core_web_sm')\n",
    "except OSError:\n",
    "    import sys, subprocess\n",
    "    print(\"spaCy model 'en_core_web_sm' not found — installing now...\")\n",
    "    subprocess.check_call([sys.executable, \"-m\", \"spacy\", \"download\", \"en_core_web_sm\"])\n",
    "    nlp = spacy.load('en_core_web_sm')\n",
    "\n",
    "#perform named entity recognition\n",
    "doc = nlp(text)\n",
    "\n",
    "#visualize named entities with fallback if display isn't available\n",
    "try:\n",
    "    from IPython.display import HTML, display\n",
    "    html = displacy.render(doc, style='ent')\n",
    "    display(HTML(html))\n",
    "except Exception as e:\n",
    "    print(\"Could not render via displacy in this environment:\", e)\n",
    "    print(\"Falling back to printing entities:\\n\")\n",
    "    for ent in doc.ents:\n",
    "        print(ent.text, ent.label_)\n"
   ]
  },
  {
   "cell_type": "markdown",
   "metadata": {},
   "source": [
    "# 4. Part-of-Speech (POS) Tagging Plot"
   ]
  },
  {
   "cell_type": "code",
   "execution_count": null,
   "metadata": {
    "execution": {
     "iopub.execute_input": "2023-03-04T08:31:16.981406Z",
     "iopub.status.busy": "2023-03-04T08:31:16.981045Z",
     "iopub.status.idle": "2023-03-04T08:31:17.641352Z",
     "shell.execute_reply": "2023-03-04T08:31:17.640525Z",
     "shell.execute_reply.started": "2023-03-04T08:31:16.981371Z"
    },
    "trusted": true
   },
   "outputs": [
    {
     "name": "stdout",
     "output_type": "stream",
     "text": [
      "Could not render dependency parse via displacy in this environment: cannot import name 'display' from 'IPython.core.display' (e:\\CAUTION, FUTURE AHEAD!!!!!!\\cyber_bullying_detection\\env\\Lib\\site-packages\\IPython\\core\\display.py)\n",
      "Falling back to printing tokens with POS and dependency labels:\n",
      "\n",
      "Why\tSCONJ\tadvmod\t(head: is)\n",
      "is\tAUX\tROOT\t(head: is)\n",
      "#\tSYM\tnsubj\t(head: is)\n",
      "aussietv\tADJ\tacomp\t(head: is)\n",
      "so\tADV\tadvmod\t(head: white)\n",
      "white\tADJ\tacomp\t(head: is)\n",
      "?\tPUNCT\tpunct\t(head: is)\n",
      "#\tSYM\tnmod\t(head: theblock)\n",
      "MKR\tNOUN\tcompound\t(head: #)\n",
      "#\tSYM\tnmod\t(head: theblock)\n",
      "theblock\tNOUN\tROOT\t(head: theblock)\n",
      "#\tNOUN\tappos\t(head: theblock)\n",
      "ImACelebrityAU\tNOUN\tnummod\t(head: theblock)\n",
      "#\tSYM\tpunct\t(head: theblock)\n",
      "today\tNOUN\tnpadvmod\t(head: theblock)\n",
      "#\tSYM\tpunct\t(head: theblock)\n",
      "sunrise\tNOUN\tcompound\t(head: studio10)\n",
      "#\tSYM\tdep\t(head: sunrise)\n",
      "studio10\tNOUN\tappos\t(head: theblock)\n",
      "#\tSYM\tnmod\t(head: Neighbours)\n",
      "Neighbours\tPROPN\tnmod\t(head: WonderlandTen)\n",
      "#\tSYM\tnmod\t(head: WonderlandTen)\n",
      "WonderlandTen\tPROPN\tappos\t(head: studio10)\n",
      "#\tSYM\tpunct\t(head: theblock)\n",
      "etc\tNOUN\tnummod\t(head: theblock)\n"
     ]
    }
   ],
   "source": [
    "import spacy\n",
    "from spacy import displacy\n",
    "\n",
    "#sample text\n",
    "text = df['tweet_text'].iloc[1]\n",
    "\n",
    "#load pre-trained POS tagging model (install if missing)\n",
    "try:\n",
    "    nlp = spacy.load('en_core_web_sm')\n",
    "except OSError:\n",
    "    import sys, subprocess\n",
    "    print(\"spaCy model 'en_core_web_sm' not found — installing now...\")\n",
    "    subprocess.check_call([sys.executable, \"-m\", \"spacy\", \"download\", \"en_core_web_sm\"])\n",
    "    nlp = spacy.load('en_core_web_sm')\n",
    "\n",
    "#perform POS tagging\n",
    "doc = nlp(text)\n",
    "\n",
    "#visualize POS tagging with fallback if display isn't available\n",
    "try:\n",
    "    from IPython.display import HTML, display\n",
    "    html = displacy.render(doc, style='dep', options={'distance': 90})\n",
    "    display(HTML(html))\n",
    "except Exception as e:\n",
    "    print(\"Could not render dependency parse via displacy in this environment:\", e)\n",
    "    print(\"Falling back to printing tokens with POS and dependency labels:\\n\")\n",
    "    for token in doc:\n",
    "        print(f\"{token.text}\\t{token.pos_}\\t{token.dep_}\\t(head: {token.head.text})\")\n"
   ]
  },
  {
   "cell_type": "markdown",
   "metadata": {},
   "source": [
    "# 5. Topic Modeling Visualization"
   ]
  },
  {
   "cell_type": "code",
   "execution_count": null,
   "metadata": {
    "execution": {
     "iopub.execute_input": "2023-03-04T08:31:17.643070Z",
     "iopub.status.busy": "2023-03-04T08:31:17.642562Z",
     "iopub.status.idle": "2023-03-04T08:31:28.537747Z",
     "shell.execute_reply": "2023-03-04T08:31:28.536558Z",
     "shell.execute_reply.started": "2023-03-04T08:31:17.643035Z"
    },
    "trusted": true
   },
   "outputs": [
    {
     "name": "stdout",
     "output_type": "stream",
     "text": [
      "Requirement already satisfied: pyLDAvis in /opt/conda/lib/python3.7/site-packages (3.2.2)\n",
      "Requirement already satisfied: funcy in /opt/conda/lib/python3.7/site-packages (from pyLDAvis) (1.18)\n",
      "Requirement already satisfied: numexpr in /opt/conda/lib/python3.7/site-packages (from pyLDAvis) (2.8.4)\n",
      "Requirement already satisfied: pandas>=0.17.0 in /opt/conda/lib/python3.7/site-packages (from pyLDAvis) (1.3.5)\n",
      "Requirement already satisfied: joblib>=0.8.4 in /opt/conda/lib/python3.7/site-packages (from pyLDAvis) (1.2.0)\n",
      "Requirement already satisfied: future in /opt/conda/lib/python3.7/site-packages (from pyLDAvis) (0.18.3)\n",
      "Requirement already satisfied: jinja2>=2.7.2 in /opt/conda/lib/python3.7/site-packages (from pyLDAvis) (3.1.2)\n",
      "Requirement already satisfied: scipy>=0.18.0 in /opt/conda/lib/python3.7/site-packages (from pyLDAvis) (1.7.3)\n",
      "Requirement already satisfied: numpy>=1.9.2 in /opt/conda/lib/python3.7/site-packages (from pyLDAvis) (1.21.6)\n",
      "Requirement already satisfied: wheel>=0.23.0 in /opt/conda/lib/python3.7/site-packages (from pyLDAvis) (0.38.4)\n",
      "Requirement already satisfied: MarkupSafe>=2.0 in /opt/conda/lib/python3.7/site-packages (from jinja2>=2.7.2->pyLDAvis) (2.1.1)\n",
      "Requirement already satisfied: python-dateutil>=2.7.3 in /opt/conda/lib/python3.7/site-packages (from pandas>=0.17.0->pyLDAvis) (2.8.2)\n",
      "Requirement already satisfied: pytz>=2017.3 in /opt/conda/lib/python3.7/site-packages (from pandas>=0.17.0->pyLDAvis) (2022.7.1)\n",
      "Requirement already satisfied: six>=1.5 in /opt/conda/lib/python3.7/site-packages (from python-dateutil>=2.7.3->pandas>=0.17.0->pyLDAvis) (1.16.0)\n",
      "\u001b[33mWARNING: Running pip as the 'root' user can result in broken permissions and conflicting behaviour with the system package manager. It is recommended to use a virtual environment instead: https://pip.pypa.io/warnings/venv\u001b[0m\u001b[33m\n",
      "\u001b[0m"
     ]
    }
   ],
   "source": [
    "!pip install pyLDAvis"
   ]
  },
  {
   "cell_type": "code",
   "execution_count": null,
   "metadata": {
    "_kg_hide-output": false,
    "execution": {
     "iopub.execute_input": "2023-03-04T08:31:28.540547Z",
     "iopub.status.busy": "2023-03-04T08:31:28.540034Z",
     "iopub.status.idle": "2023-03-04T08:31:44.610783Z",
     "shell.execute_reply": "2023-03-04T08:31:44.609464Z",
     "shell.execute_reply.started": "2023-03-04T08:31:28.540497Z"
    },
    "trusted": true
   },
   "outputs": [
    {
     "name": "stderr",
     "output_type": "stream",
     "text": [
      "/opt/conda/lib/python3.7/site-packages/pyLDAvis/_prepare.py:248: FutureWarning: In a future version of pandas all arguments of DataFrame.drop except for the argument 'labels' will be keyword-only\n",
      "  by='saliency', ascending=False).head(R).drop('saliency', 1)\n"
     ]
    },
    {
     "data": {
      "text/html": [
       "\n",
       "<link rel=\"stylesheet\" type=\"text/css\" href=\"https://cdn.jsdelivr.net/gh/bmabey/pyLDAvis@3.2.2/pyLDAvis/js/ldavis.v1.0.0.css\">\n",
       "\n",
       "\n",
       "<div id=\"ldavis_el2401402063979149603377330049\"></div>\n",
       "<script type=\"text/javascript\">\n",
       "\n",
       "var ldavis_el2401402063979149603377330049_data = {\"mdsDat\": {\"x\": [-0.269616196746714, -0.13998093056503372, -0.12191123265743074, -0.08554649550101288, 0.059149081499466655, -0.013693773671162065, 0.007868313148886181, 0.10719138632076008, 0.23665231098506154, 0.2198875371871789], \"y\": [-0.0057332082882704215, -0.061642158048722334, -0.0698978438611249, 0.05849232975748672, 0.1925938983378814, 0.12148049035079228, -0.10093110715623083, -0.06245105511109925, -0.00712537460194463, -0.06478597137876835], \"topics\": [1, 2, 3, 4, 5, 6, 7, 8, 9, 10], \"cluster\": [1, 1, 1, 1, 1, 1, 1, 1, 1, 1], \"Freq\": [52.01069505414404, 11.788697475795459, 7.312488399782134, 6.633752215751507, 4.952421943473894, 4.947579534724314, 4.521432505666341, 2.754871771733179, 2.7301809655188123, 2.3478801334103143]}, \"tinfo\": {\"Term\": [\"rape\", \"gay\", \"jokes\", \"a\", \"is\", \"Muslim\", \"idiots\", \"are\", \"and\", \"Muslims\", \"idiot\", \"you\", \"the\", \"I\", \"joke\", \"as\", \"about\", \"but\", \"woman\", \"female\", \"in\", \"that\", \"not\", \"r\", \"terrorists\", \".\", \"of\", \"for\", \"Islam\", \"he\", \"Christian\", \"don\\u2019t\", \"Gay\", \"radical\", \"countries\", \"idiots.\", \"support\", \"rights\", \"community\", \"groups\", \"between\", \"speak\", \"entire\", \"straight\", \"knows\", \"him.\", \"woman.\", \"themselves\", \"during\", \"laugh\", \"It\\u2019s\", \"etc.\", \"murdered\", \"full\", \"abt\", \"THE\", \"That\\u2019s\", \"state\", \"condemn\", \"defend\", \"world\", \"lives\", \"follow\", \"death\", \"can\\u2019t\", \"joke.\", \"war\", \"to\", \"will\", \"which\", \"take\", \"do\", \"you\", \"let\", \"go\", \"first\", \"of\", \"your\", \"You\", \"the\", \"terrorist\", \"them\", \"have\", \"nothing\", \"be\", \"They\", \"a\", \"for\", \"call\", \"and\", \"that\", \"they\", \"their\", \"in\", \"it\", \"what\", \"are\", \"like\", \"I\", \"is\", \"by\", \"with\", \"can\", \"not\", \"on\", \"people\", \"who\", \"all\", \"about\", \"was\", \"American\", \"right.\", \"male\", \"become\", \"times\", \"slave\", \"evil\", \"country.\", \"@sajid_fairooz\", \"Yes\", \"idiot\", \"@Vandaliser\", \"b\", \"sense\", \"Hey\", \"truth\", \"Which\", \"football\", \"Makes\", \"wearing\", \"years.\", \"joke?\", \"deal\", \"certain\", \"fine\", \"treat\", \"became\", \"mouth\", \"except\", \"Still\", \"joke,\", \"sexist\", \"joke\", \"killing\", \"hate\", \"Im\", \"child\", \"play\", \"said\", \"but\", \"funny\", \"stop\", \"I'm\", \"Like\", \"not\", \"I\", \"every\", \"RT\", \"and\", \"just\", \"me\", \"a\", \"is\", \"in\", \"so\", \"#MKR\", \"u\", \"the\", \"when\", \"female\", \"like\", \"was\", \"with\", \"are\", \"be\", \"my\", \"this\", \"on\", \"to\", \"of\", \"I\\u2019m\", \"innocent\", \"word\", \"majority\", \"bc\", \"..\", \"history\", \"Did\", \"government\", \"peace\", \"question\", \"Obama\", \"dumb\", \"front\", \"He's\", \"consider\", \"imagine\", \"ignorant\", \"genocide\", \"leave\", \"hurt\", \"/\", \"judge\", \"hating\", \"forced\", \"forgot\", \"married\", \"society\", \"happen\", \"complete\", \"used\", \"living\", \"forget\", \"bring\", \"hear\", \"laughing\", \"asking\", \"woman\", \"murder\", \"religious\", \"gave\", \"respect\", \"she\", \"telling\", \"muslim\", \"else\", \"his\", \"called\", \"as\", \"he\", \"Don't\", \"anything\", \"him\", \"is\", \"you\", \"a\", \"that\", \"an\", \"I\", \"who\", \"about\", \"Muslims\", \"the\", \"to\", \"for\", \"if\", \"and\", \"of\", \"don't\", \"when\", \"joke\", \"in\", \"jokes\", \"r\", \"sexist,\", \"gays\", \"Muslims,\", \"sexual\", \"America\", \"culture\", \"millions\", \"biggest\", \"bunch\", \"ago\", \"Arab\", \"men.\", \"Any\", \"totally\", \"bet\", \"verses\", \"takes\", \"ago.\", \"Christians,\", \"is,\", \"aren\\u2019t\", \"simple\", \"From\", \"terrorist.\", \"9/11\", \"boy\", \"Keep\", \"itself\", \"Indians\", \"violent\", \"black\", \"Christians\", \"president\", \"You're\", \"behind\", \"Trump\", \"Call\", \"live\", \"religion.\", \"them.\", \"funny.\", \"about\", \"As\", \"are\", \"few\", \"said\", \"the\", \"and\", \"Muslim\", \"on\", \"against\", \"is\", \"that\", \"who\", \"people\", \"as\", \"in\", \"of\", \"u\", \"Islamic\", \"all\", \"not\", \"-\", \"was\", \"a\", \"rape\", \"terrorists\", \"idiot.\", \"gay,\", \"U\", \"racist\", \"woman,\", \"true\", \"Right\", \"clearly\", \"accept\", \"pray\", \"false\", \"Jews\", \"following\", \"hv\", \"proof\", \"holy\", \"wife\", \"Sharia\", \"believes\", \"members\", \"gone\", \"lies\", \"Al\", \"His\", \"myself\", \"suicide\", \"raised\", \"longer\", \"cannot\", \"More\", \"people,\", \"#Islam\", \"jokes,\", \"taken\", \"Muslim\", \"aren't\", \"raped\", \"jokes.\", \"ISIS\", \"anti\", \"and\", \"says\", \"for\", \"The\", \"in\", \"is\", \"a\", \"are\", \"the\", \"of\", \"who\", \"idiots\", \"religion\", \"India\", \"country\", \"jihad\", \"Miley\", \"humanity.\", \"friends\", \"freedom\", \"destroy\", \"free\", \"group\", \"Those\", \"proud\", \"shouldn't\", \"racist,\", \"white\", \"Every\", \"born\", \"lie\", \"minority\", \"prove\", \"acting\", \"Cyrus\", \"#MileyCyrus\", \"reality\", \"non\", \"them,\", \"allowed\", \"blind\", \"not.\", \"comes\", \"issue\", \"London\", \"propaganda\", \"Muslim\", \"Only\", \"GAY\", \"Muslims\", \"Islam.\", \"muslim\", \"is\", \"both\", \"&\", \"in\", \"are\", \"at\", \"The\", \"with\", \"of\", \"the\", \"a\", \"and\", \"that\", \"to\", \"all\", \"bitch\", \"date\", \"victims\", \"political\", \"Indian\", \"victim\", \"happening\", \"responsible\", \"2.\", \"feminists\", \"defending\", \"mother\", \"disgusting\", \"dead\", \"BUT\", \"comment\", \"Christianity\", \"term\", \"gives\", \"ugly\", \"focus\", \"crimes\", \"mom\", \"religion,\", \"strong\", \"worse\", \"vile\", \"you'll\", \"crying\", \"including\", \"humanity\", \"sexist.\", \"human\", \"nigga\", \"you,\", \"sad\", \"supposed\", \"beat\", \"here.\", \"female\", \"calling\", \"Or\", \"a\", \"fighting\", \"as\", \"told\", \"I\", \"for\", \"you\", \"the\", \"i\", \"to\", \"of\", \"and\", \"just\", \"not\", \"is\", \"my\", \"are\", \"-\", \"you\\u2019re\", \"part\", \"fake\", \"matter\", \"that\\u2019s\", \"#notsexist\", \"bitch.\", \"Humanity\", \"attacks\", \"son\", \"actual\", \"issues\", \"trust\", \"Such\", \"sports\", \"1st\", \"showing\", \"lived\", \"according\", \"Feminazi\", \"Remember\", \"problems\", \"rules\", \"led\", \"swear\", \"alone\", \"movie\", \"further\", \"liked\", \"okay.\", \"know.\", \"side\", \"\\u2026\", \"Where\", \"set\", \"Men\", \"damn\", \"Because\", \"asked\", \"#MKR\", \"Ur\", \"and\", \"RT\", \"on\", \"are\", \"of\", \"the\", \"&amp;\", \"a\", \"is\", \"Muslims.\", \"terrorism.\", \"God\", \"ARE\", \"slavery\", \"Shame\", \"d\", \"crime\", \"simply\", \"fellow\", \"pro\", \"minorities\", \"Middle\", \"fans\", \"Was\", \"out.\", \"huge\", \"weren't\", \"useless\", \"Tell\", \"daughter\", \"N\", \"business\", \"near\", \"girls,\", \"90%\", \"present\", \"Turkey\", \"criminal\", \"Female\", \"do.\", \"racism\", \"e\", \"attacked\", \"sin\", \"@greenlinerzjm\", \"!!\", \"na\", \"jokes.\", \"case\", \"Mohammed\", \"Islam.\", \"ISIS\", \"Islam\", \"gay\", \"it\\u2019s\", \"act\", \"race\", \"teach\", \"Jewish\", \"kids\", \"feminist\", \"special\", \"protest\", \"brothers\", \"@MT8_9\", \"views\", \"ISIS.\", \"second\", \"debate\", \"racist.\", \"chance\", \"u.\", \"yo\", \"fascist\", \"deny\", \"disagree\", \"girls.\", \"break\", \"slur\", \"Party\", \"me?\", \"did.\", \"GET\", \"grown\", \"@rfrankh53\", \".\", \"@cdnKhadija\", \"@johnnygjokaj\", \"@98Halima\", \"@BilalIGhumman\", \"story\", \"Don't\", \"rape,\", \"making\", \"terrorist\", \"a\", \"calling\", \"is\"], \"Freq\": [2393.0, 1830.0, 1545.0, 10532.0, 6957.0, 1378.0, 906.0, 5228.0, 9417.0, 1563.0, 1173.0, 7553.0, 12302.0, 5075.0, 1088.0, 2027.0, 2504.0, 2506.0, 868.0, 619.0, 5377.0, 4246.0, 3859.0, 513.0, 455.0, 391.0, 7753.0, 3630.0, 754.0, 1132.0, 1418.9535850221287, 453.5228671130754, 327.85724653905265, 803.8546460896721, 203.2844075576855, 188.14134458249453, 1173.8556281021602, 213.2264523575601, 131.62519461526205, 104.8053539345951, 125.48181806511752, 143.30263466030559, 97.72457016183532, 95.68569879619372, 101.78209514176436, 92.28449986517161, 104.33574206556365, 133.38017150348762, 87.73485002873177, 85.93480781864247, 192.33757396037757, 123.53590376254613, 79.54306704629984, 107.87826196372247, 74.03913016499834, 168.6895987749212, 79.46513394312338, 102.513318024345, 75.03223293164571, 77.98563785246067, 481.2636942413362, 107.76591343430316, 137.17257047968715, 108.65567155495945, 145.93892975806423, 200.20604998221518, 197.09736905862235, 9250.300818047865, 1262.7885520413363, 382.2934535296376, 310.9231255637481, 1229.5803937690619, 6428.919138254818, 165.57716677971806, 450.0302259748257, 208.1698373236057, 6434.663576535134, 1622.6779040933857, 1336.5306327470125, 9807.2985431763, 549.2324298071536, 830.4208369472354, 1829.216208885396, 292.1350046559598, 1940.7985753704907, 508.06266138889896, 7403.803238634875, 2770.2111872239225, 780.9685450257939, 6520.073431062858, 3134.1303968238662, 1754.620352803689, 1047.1939537436147, 3742.2583232907045, 1745.4384639772074, 1069.7294476526438, 3531.4185099186575, 1607.006399068366, 3309.253712960951, 4134.360829081305, 1303.6644253104864, 1628.39600617862, 993.1074882759688, 2338.738692912456, 1589.57519552652, 1218.620339611673, 1372.1448280289662, 1330.0447938513546, 1354.8450956123716, 1220.0007339642675, 186.24399857440238, 183.0918549755706, 177.79278295169067, 155.24698441839334, 133.06879962020594, 108.02035003899728, 101.92217148990761, 99.26165998136383, 89.09200027230526, 83.97864958505201, 1163.2141896559103, 79.8800329069359, 82.90674310823225, 74.78165313000137, 82.43977913030025, 72.56023283228308, 71.06078141462949, 67.28986595336691, 68.38493037128733, 65.2993353821448, 64.47478782228306, 60.768524338306364, 59.77173996310578, 58.18383650700433, 56.75174824022888, 56.03615894188459, 52.23102680513184, 51.87255138978357, 48.402094607217116, 44.82619338680213, 116.03377058211841, 621.852278840569, 936.7100956141368, 244.07233244412015, 472.2757377726356, 87.10750444054841, 131.15096536370467, 81.53129815464445, 309.4980168394434, 1031.834427401465, 202.375505230641, 224.73367390379602, 427.54413223820063, 105.73864774774381, 1006.5436488437787, 1018.6180744769794, 210.65424027021282, 443.05147441260453, 1319.2633485064732, 433.53791871287564, 380.7488955200064, 1115.9140087472679, 889.3175445455611, 679.7536241394821, 330.2152833692129, 182.4017661674396, 345.77608798427843, 790.0098719053582, 287.3426391945453, 222.8611804582918, 355.37135940736744, 338.18218588122454, 318.38990519090936, 382.08838175015984, 306.96587583315994, 252.08054468007717, 262.95049577157454, 271.28533307872675, 280.4105963991486, 258.6824188528292, 269.94232677158317, 109.95622409988692, 194.7313198989698, 96.42485649373921, 86.53485830344076, 72.8084614601107, 86.64310871321679, 78.92955891914512, 64.97723470790555, 63.17374718111972, 67.28653990304798, 61.37542286548428, 59.71035734163262, 57.54151730583674, 52.27216897422755, 51.56763037271607, 48.398831233422825, 46.80213768922631, 56.6331351281076, 94.31279334055787, 42.21261092975005, 42.509056697950086, 39.97932664278129, 37.99503083752448, 37.34732812675498, 36.52114427054016, 38.112512331235834, 34.31407803219152, 50.609589167744005, 35.63505610095684, 190.1095968299628, 100.11741546013668, 65.14255335292533, 68.39588532277448, 78.00147171486128, 48.69543558596534, 59.82277151240066, 627.6932317813144, 111.03666291318712, 159.3678081364362, 85.25459584260427, 83.66352282254577, 377.57722277036316, 73.62843839892116, 210.73191947763547, 76.73284860716099, 287.8958445837431, 157.58138133449447, 592.9470630479859, 405.4813106156316, 119.22068450728294, 121.45983641492333, 161.7409527494453, 675.1479219117836, 621.53549765116, 701.4479033168468, 424.2333264082164, 231.90112945035818, 361.30759038669805, 246.0069485530831, 253.77631265969057, 204.30291023363918, 370.80344378980703, 332.2620493243635, 243.88662426206113, 182.52601981257848, 269.9096067649215, 219.49750304766422, 155.99210068630674, 152.02974918526917, 150.6756454289661, 159.72651854310206, 1543.8797198374218, 511.6629864263114, 160.37782789064545, 143.56670454780016, 120.79563310439302, 110.47549941546342, 103.93235712090306, 72.60528163763426, 69.29673390680234, 72.06954942465862, 61.22189384993724, 59.42735855561792, 55.797520714845916, 53.06842000342169, 53.74049249474671, 51.88843472476641, 48.019272872537336, 49.215802596149494, 51.774500543055304, 52.791891901384155, 44.11116717009633, 43.76118440900354, 52.62849166938237, 40.833597197779206, 37.763466795981024, 37.19433119808132, 36.29342343846199, 39.94562388188147, 34.33099130263188, 34.942888184857935, 54.60681249461595, 50.149869505206155, 221.8905894768134, 372.8992496758523, 61.47624001667365, 109.92686621568217, 72.05869600111158, 159.7413435208586, 96.0714138193429, 113.06572046861467, 78.58837523267772, 143.02399322214907, 115.89460977766957, 549.7691289929331, 109.24553619570283, 653.9557319098246, 85.25231706811027, 158.42263248574392, 742.4541460293806, 651.6540031518688, 248.81852213873609, 270.9810791941237, 166.7157454625254, 346.5453975440126, 283.02235708645776, 221.8563563603728, 194.98864614723146, 208.8384175592357, 282.36229228228143, 299.42283024244625, 181.0005103134605, 151.5975019204565, 164.40697736944537, 161.5263502855041, 130.32888689477915, 137.8192346293053, 135.4471259028737, 2392.81526237266, 455.0084281537635, 391.1878450565223, 145.39975800223166, 372.36316506234385, 215.7925300918486, 108.12707464691098, 111.75634631322662, 90.26958299325369, 78.8770580725232, 70.78525431475592, 58.44968404548701, 67.83569804055907, 188.69583061907363, 52.100661621254304, 47.4954645788335, 49.175223361808634, 44.48443933787747, 44.174861539584086, 43.627670342439245, 43.26964171045247, 43.3590901719551, 42.20152037737798, 40.868675358365316, 40.653921121796664, 40.996945930812196, 37.48971301768037, 37.201887890313685, 36.96110737850608, 37.04902723343997, 111.12874841238768, 40.490360218941795, 86.4676287391338, 96.78519356080093, 218.98517976949137, 53.987181926713184, 292.0314130445837, 79.79771383073128, 61.27126198084571, 99.31635622988479, 103.11969921807693, 68.83486223286609, 257.8763477634338, 78.94292303202907, 166.62416048236776, 114.07391368928414, 160.6889108754177, 153.15749628392794, 152.0060758837499, 109.23232713235613, 117.55280244009239, 107.99602410859644, 75.593331417883, 906.2101710068417, 328.3172448622086, 281.28301621951806, 238.47200061620538, 179.68751411715832, 138.55189998659773, 118.461135735674, 109.36730403351781, 83.95828768629806, 76.81598025214792, 68.63368464857895, 109.16933842701606, 63.80816569301949, 51.44398888311303, 54.02139448136525, 50.8467384060609, 238.9667848778523, 54.52446806620464, 58.146328386709705, 45.87007529504837, 44.611635262833296, 40.869479944800716, 40.800023800591575, 117.04911615383493, 43.69610671478551, 37.73927230839694, 157.31566386694496, 35.84637217015734, 92.82225411076266, 35.098673721026834, 53.838116098316526, 78.16259852126126, 58.27336313798283, 50.68582273055313, 48.935398141875346, 833.4926547201148, 67.6521908543191, 69.47710456880723, 360.1450519617744, 108.49990446371704, 138.73006304377512, 560.0996169357874, 66.71377558973867, 90.3337304186261, 262.4623499532342, 253.86321268261207, 139.0157926705436, 133.6164639068273, 153.3420587678411, 198.35802435923057, 220.3308692103558, 178.40843312123215, 119.36677299018326, 109.58154885269498, 114.81103881635916, 94.5239857877071, 353.21708647112797, 103.8065990318005, 84.49405161730031, 82.1959632527867, 164.5586296735387, 67.66617132091028, 63.009952810140234, 57.978456060805264, 56.081290821961765, 55.97822327728985, 65.36453472197236, 53.544677187022856, 52.43403876580336, 62.36733471876862, 50.955519581900965, 50.54633244494957, 50.6437401452506, 61.546087195910424, 46.76936003952335, 43.95905347908745, 43.40930061823973, 45.831403880523986, 41.19241574206115, 39.354288928182385, 41.87100873463955, 38.19361036801248, 37.27324943833053, 37.56531291429163, 36.40935925240396, 36.09671099999803, 173.1118083782554, 49.58368002707157, 163.03150241445096, 40.151063667080685, 104.36234922975356, 51.64747546247833, 45.431360972391005, 57.63045544446622, 47.73933240116871, 395.92447517312416, 176.9144211100742, 76.94485906900586, 691.3836023568551, 56.935338990037906, 171.92717239465253, 70.18198354555454, 180.2445257708195, 153.65066382492162, 158.05417780970706, 161.59880014960578, 84.3780635737543, 142.1722622836905, 129.8919232768666, 126.23541753478672, 85.00188696838744, 91.7562202770872, 87.89854150100234, 73.08620886113133, 74.32454267521197, 65.0945268522785, 201.45545823449, 162.0317760723058, 131.06257425408177, 98.96956818726106, 105.28982638623538, 75.04752100778536, 66.81543952944058, 65.02657836371534, 54.93126934483462, 43.882074434988375, 42.648679681579495, 43.073242156051805, 39.733841241881976, 38.29280307649511, 51.212878355373995, 36.78404543744645, 40.07350567124493, 36.38057409161973, 35.88570785499547, 36.66597957790841, 33.464076705439815, 33.53142937686429, 35.71631469147683, 31.632327465997047, 31.422872273271114, 29.72501418686265, 29.652373449850224, 28.438702653111484, 27.564315589474244, 25.70199393931227, 38.17824406865018, 53.66201133631375, 60.01595976502444, 59.13530649649974, 40.419658609881594, 35.39788866741536, 45.27771526589791, 73.16538092158909, 47.38695873428364, 94.38578512539189, 40.77612369323548, 121.06850265269986, 79.05173986186854, 83.88544307237103, 86.00004129766059, 85.32982691877099, 77.944102699762, 54.70077304195, 63.139186336393884, 60.85783203336761, 239.04515375201265, 210.70461957763783, 209.86941693133952, 82.96378415391223, 79.13636503140806, 71.9894945683844, 94.75115155699808, 60.59144594038163, 50.343221963191176, 49.60794731486033, 47.10660241242162, 46.261425142063366, 42.357918529732714, 42.70399282065982, 40.86795974925702, 60.12106337904019, 37.990412895146996, 34.8353886332431, 34.499266935179755, 33.161937527777766, 32.62508684763173, 35.13983497903223, 30.568893279136073, 29.080873243922163, 28.607045554281722, 28.90903817559891, 29.644445011106693, 27.136085926591615, 25.898717563951358, 25.861173651800918, 81.28024276060715, 82.35089280023153, 51.56914236552854, 55.38381093325705, 42.18988108884696, 48.47531801264827, 35.57277827640498, 50.7239540795722, 173.6197494303183, 65.45880361506782, 106.41745202940415, 71.29217416323242, 79.1222210034755, 75.44656377569636, 1829.477720892716, 260.43130359866143, 99.39824275383218, 72.62153656415619, 65.65926982706733, 59.614653757003076, 52.53007022700192, 42.6473716452602, 32.82230746315281, 33.636990163901054, 32.32824216142228, 61.87365887021804, 32.28883876147505, 36.487245211629016, 30.423597664104964, 28.746232015575742, 24.58663926428794, 22.606072528990786, 22.26782093619935, 19.40387250834788, 18.182673801911267, 17.56567121858073, 17.58740371645402, 17.068553207237752, 24.441063618696123, 17.01155824251061, 16.878803266807864, 21.250802084598114, 16.496366721929903, 15.807355479079247, 16.523166149373278, 31.202564372870743, 297.53647028526535, 29.15804704202273, 30.50935298999085, 30.509438247978476, 29.93803447836257, 28.665632429663717, 38.866587237821435, 36.06318145429327, 41.11132111121899, 40.462171529999054, 53.152249864803224, 27.04322502726838, 27.107760587345442], \"Total\": [2393.0, 1830.0, 1545.0, 10532.0, 6957.0, 1378.0, 906.0, 5228.0, 9417.0, 1563.0, 1173.0, 7553.0, 12302.0, 5075.0, 1088.0, 2027.0, 2504.0, 2506.0, 868.0, 619.0, 5377.0, 4246.0, 3859.0, 513.0, 455.0, 391.0, 7753.0, 3630.0, 754.0, 1132.0, 1419.6895749294272, 454.2584125170616, 328.5930898609242, 805.8139853843444, 204.02917732318443, 188.922633901174, 1179.3658720293888, 214.36874514739523, 132.48064878560518, 105.5448241774247, 126.37465021633228, 144.33686690721652, 98.46277169877762, 96.42238709361474, 102.57133340347528, 93.01981783091274, 105.17068867123925, 134.45634872486332, 88.47348743199042, 86.67016888089972, 194.00791817620416, 124.66279199065532, 80.32967671182914, 108.94882547721973, 74.77442669866979, 170.38335421379657, 80.26986304211083, 103.55766673604893, 75.79707868032932, 78.79122371049205, 486.98606906572826, 108.90229046275884, 139.02965807091584, 110.01397347143815, 148.23476737389097, 204.36833704411816, 201.9540318727921, 10283.852008156922, 1360.3491124822476, 398.59363689180225, 324.77486516279333, 1346.0557513058561, 7553.080828231497, 169.66591523614161, 481.1603749260911, 215.93058304929892, 7753.167486796127, 1833.96444998741, 1503.0259238332296, 12302.223969074792, 595.3884674098605, 922.9733074349128, 2137.6242988551116, 310.52299028384414, 2401.9156593725047, 564.3958825883906, 10532.655957187773, 3630.657979331209, 907.9194960160726, 9417.665476634102, 4246.378354083301, 2234.710369400718, 1269.858146082432, 5377.224510614607, 2317.9875037937923, 1324.1434961448558, 5228.167850455238, 2134.4756012673724, 5075.7436522019125, 6957.147016327974, 1730.868473441575, 2348.527658861627, 1236.5060938964994, 3859.0339350967906, 2416.510913122554, 1633.862863655263, 2092.7299929930377, 2000.9356137843338, 2504.802627967793, 1911.1499409102887, 186.97109254005824, 183.81336736685782, 178.514106270757, 155.96854102409168, 133.79013903498907, 108.74269868356191, 102.64496665394704, 99.98482345290029, 89.81336099677732, 84.70133595336304, 1173.4999527869936, 80.60139971759884, 83.67392967638578, 75.50303772025576, 83.24490080783563, 73.2847717396099, 71.7822487999588, 68.01107930488111, 69.12091818621266, 66.02082394556108, 65.19636719245496, 61.48998485912123, 60.49570856910543, 58.90514959003762, 57.47308164629449, 56.75764959843265, 52.952512455082704, 52.60086082526705, 49.13275680262283, 45.54774442740781, 118.33417177693596, 676.0303898853878, 1088.0509816101417, 269.72584371317373, 563.7795559199457, 93.96725902589316, 154.50946840322214, 88.26723260080374, 482.45338665416773, 2506.845436908137, 299.43188185036655, 368.6291249541171, 924.9993991243626, 129.42931158947556, 3859.0339350967906, 5075.7436522019125, 400.95054693495314, 1398.5186228477914, 9417.665476634102, 1566.3584698225545, 1270.9901825653938, 10532.655957187773, 6957.147016327974, 5377.224510614607, 1267.9153624018206, 378.0802647044779, 1684.7390175716944, 12302.223969074792, 1151.1084120210728, 619.423244021368, 2134.4756012673724, 1911.1499409102887, 2348.527658861627, 5228.167850455238, 2401.9156593725047, 1114.2369036421517, 1702.3508577766695, 2416.510913122554, 10283.852008156922, 7753.167486796127, 271.27730277052746, 110.76656427522758, 196.24740842675664, 97.1879103713903, 87.28295923895952, 73.55659246699223, 87.5481492809776, 79.76564783603064, 65.72601584708609, 63.92971837966404, 68.10138660278133, 62.123724598365406, 60.45842578871824, 58.290629382941816, 53.02022658249323, 52.31580525649458, 49.15155105216191, 47.550363862784664, 57.54254078890786, 95.84640890523471, 42.967238991857066, 43.28692910417594, 40.763960639899835, 38.74487483830396, 38.10715095121372, 37.269313790438154, 38.92135544817384, 35.062233781629594, 51.714646337356804, 36.4226390314001, 195.4026687948651, 102.34332519272964, 66.64346495284715, 70.17332717963497, 80.2241499226618, 50.404929662817196, 62.753112226207456, 868.6923819104893, 128.1227893834307, 193.8819705791827, 95.34945543234335, 93.96803856943784, 603.742287807625, 82.96927139729225, 353.800717081774, 90.83426183469638, 656.9173991275, 267.7038386557243, 2027.3800415816959, 1132.404190103806, 202.69423268911106, 218.17710845874615, 394.8390175325621, 6957.147016327974, 7553.080828231497, 10532.655957187773, 4246.378354083301, 1486.1473149486203, 5075.7436522019125, 2092.7299929930377, 2504.802627967793, 1563.4694964751147, 12302.223969074792, 10283.852008156922, 3630.657979331209, 1263.0983037362616, 9417.665476634102, 7753.167486796127, 1168.7170664968078, 1151.1084120210728, 1088.0509816101417, 5377.224510614607, 1545.7836903354405, 513.3095358209666, 161.1246056574668, 144.32443126921737, 121.54357793028649, 111.2222097604955, 104.69600364621726, 73.39566863681348, 70.05652077911951, 72.86730645760183, 61.968673625602314, 60.17413088907604, 56.54755850960151, 53.81518895002282, 54.49963619299762, 52.63514862954527, 48.773991385241594, 49.99435791683906, 52.620431592682685, 53.669296520484046, 44.86003009538234, 44.51135373809859, 53.57049601805691, 41.580564863469085, 38.510192572760154, 37.96365185147147, 37.06175372935919, 40.812543983442794, 35.0815457529574, 35.710852764478275, 55.830265376804896, 51.31195554305132, 232.59203408601988, 416.76932017238227, 64.88862994127113, 124.8669322996651, 79.36663692906639, 201.5137558211333, 111.229446462972, 137.39582924279316, 91.09975721929165, 196.37752158293398, 155.85418410770885, 2504.802627967793, 189.40286202797571, 5228.167850455238, 133.01089706381643, 482.45338665416773, 12302.223969074792, 9417.665476634102, 1378.5310106457448, 2416.510913122554, 839.3192340809701, 6957.147016327974, 4246.378354083301, 2092.7299929930377, 1633.862863655263, 2027.3800415816959, 5377.224510614607, 7753.167486796127, 1684.7390175716944, 974.5807325383046, 2000.9356137843338, 3859.0339350967906, 537.7136391289297, 1911.1499409102887, 10532.655957187773, 2393.5595250837764, 455.75349725165404, 391.9371518881576, 146.15000575352462, 374.3773708573168, 217.03194904005585, 108.87141876132664, 112.56196096673773, 91.01438612475461, 79.62097496198095, 71.52921803285881, 59.194159535918544, 68.73627497788951, 191.30588359908955, 52.84480937486415, 48.23982585267038, 49.95170148433635, 45.228357813066204, 44.91873996379798, 44.37208666898631, 44.01364870562282, 44.113595198663646, 42.945280856586976, 41.61331209470621, 41.3991058684797, 41.776152725349526, 38.23349065786618, 37.945623064779966, 37.70602992429828, 37.8081055627683, 116.4146905401925, 41.477153623114035, 93.62622291642185, 128.4774207430567, 423.10761382783596, 67.20806979542851, 1378.5310106457448, 163.77638035921174, 95.85392377881455, 278.46439697534305, 409.22262422573095, 146.16805434129435, 9417.665476634102, 263.46478885917765, 3630.657979331209, 1241.9210341893067, 5377.224510614607, 6957.147016327974, 10532.655957187773, 5228.167850455238, 12302.223969074792, 7753.167486796127, 2092.7299929930377, 906.9715480302903, 329.08163686532777, 282.0389230164948, 239.2428915790485, 180.52666191474705, 139.3068861954003, 119.21715862670321, 110.12278906647732, 84.71377596344622, 77.57137333172598, 69.38841535909341, 110.53954964939803, 64.65744274141353, 52.198762440027274, 54.81710347946518, 51.60160568508897, 242.62257013351172, 55.3677593350336, 59.08710478856215, 46.62487013287165, 45.38548757984087, 41.624257874486226, 41.5547516312568, 119.26390841607397, 44.542726615470414, 38.49392030014262, 160.49318341232276, 36.60116041006683, 94.80525035077407, 35.85844137548608, 55.61466684347578, 82.11634762932168, 60.98564172085469, 52.92112004890978, 50.951846899968885, 1378.5310106457448, 82.74092741921461, 89.99250374068787, 1563.4694964751147, 203.74189734926145, 353.800717081774, 6957.147016327974, 94.30425754724716, 209.0537420161083, 5377.224510614607, 5228.167850455238, 1082.4529247920657, 1241.9210341893067, 2348.527658861627, 7753.167486796127, 12302.223969074792, 10532.655957187773, 9417.665476634102, 4246.378354083301, 10283.852008156922, 2000.9356137843338, 353.9575213984863, 104.54731263531993, 85.24746214918505, 82.9367042094147, 166.1565314855898, 68.40674811415694, 63.76782477531688, 58.73174958511007, 56.82186033103228, 56.71869319450683, 66.23979793342282, 54.29000442888939, 53.17456959333031, 63.248290824309514, 51.69610575776992, 51.296131048342446, 51.40024524027966, 62.490228959996415, 47.509910944510054, 44.70456007707697, 44.15006387566831, 46.634323275886416, 41.93286106536156, 40.095025218285116, 42.67791791750227, 38.9340908015303, 38.01381809272145, 38.328531507896436, 37.1499163844173, 36.83727634925499, 179.1216590540305, 51.041070291152906, 177.02107536707433, 41.081793260205835, 113.9981375526101, 54.01414128431726, 47.00425564163077, 61.64811024514707, 49.856005856062055, 619.423244021368, 247.31958495574193, 109.97194918027525, 10532.655957187773, 76.05432063064481, 2027.3800415816959, 174.36164091871362, 5075.7436522019125, 3630.657979331209, 7553.080828231497, 12302.223969074792, 625.6505961821529, 10283.852008156922, 7753.167486796127, 9417.665476634102, 1566.3584698225545, 3859.0339350967906, 6957.147016327974, 1114.2369036421517, 5228.167850455238, 537.7136391289297, 202.20403777109044, 162.77980702054143, 132.0358752970098, 99.74032943166478, 106.17209751936893, 75.79541628563847, 67.56366452686764, 65.90631290142727, 55.71489993353687, 44.641671897701, 43.396710535557524, 43.83098434840948, 40.48190325155295, 39.054090748712206, 52.24770831585616, 37.532078935062046, 40.894038018404856, 37.12883795647556, 36.63394908421961, 37.43441001390285, 34.21204767360948, 34.28108755964525, 36.560136644432504, 32.380401824888956, 32.20024315950631, 30.4729761518244, 30.402048262629755, 29.186889142223652, 28.365821069894917, 26.449921090547566, 39.64600984249039, 56.44077386264199, 65.47017607178906, 67.36924308064384, 45.16207007642225, 38.94647243144997, 58.597869599159054, 131.72218734786966, 64.38533465260838, 378.0802647044779, 54.4823848275175, 9417.665476634102, 1398.5186228477914, 2416.510913122554, 5228.167850455238, 7753.167486796127, 12302.223969074792, 1395.0538251901735, 10532.655957187773, 6957.147016327974, 239.7878858828829, 211.4346651840449, 210.68579805637458, 83.69272931993298, 79.86571570463718, 72.73968191822436, 95.78149091751084, 61.33739825365026, 51.07514601850161, 50.34343624863993, 47.83625723558352, 47.0035239140517, 43.08746197103074, 43.44762135737527, 41.59696196683842, 61.26797051292668, 38.71944589446451, 35.56440660591449, 35.228365421003694, 33.891062688761856, 33.35893578212132, 35.9503104887925, 31.301328476852547, 29.809840665985842, 29.3361079993554, 29.650616467669153, 30.41023275926561, 27.86541312713576, 26.6278412429937, 26.590149587377585, 84.70060375985625, 86.2883257526342, 53.524156096843356, 57.731479864698386, 43.789676085515765, 50.897882174374075, 37.414563787855926, 56.512553261007824, 278.46439697534305, 88.56905731960973, 186.55109933227834, 203.74189734926145, 409.22262422573095, 754.6589195297104, 1830.2295895534671, 261.18293039446104, 100.14972603327607, 73.37611237530825, 66.4111470605939, 60.36878037752487, 53.28148415904406, 43.39872214505111, 33.57371241501291, 34.407874362456795, 33.08044912201342, 63.31444812001068, 33.048330100430725, 37.35836483739193, 31.17504780862825, 29.516508220244404, 25.33963588007055, 23.35755560346508, 23.020298997103005, 20.155179715400845, 18.9346067038116, 18.31735202184122, 18.34995724475699, 17.819927071471728, 25.519056320492453, 17.76297434172578, 17.630301412919657, 22.19832466017285, 17.248661268159694, 16.55875881289731, 17.31738197329701, 33.13242770587305, 391.3456029342713, 32.01456119796985, 33.901711056318355, 33.901898921146795, 54.43140821439974, 56.013751418672086, 202.69423268911106, 206.66065399642494, 416.0621285114969, 595.3884674098605, 10532.655957187773, 247.31958495574193, 6957.147016327974], \"Category\": [\"Default\", \"Default\", \"Default\", \"Default\", \"Default\", \"Default\", \"Default\", \"Default\", \"Default\", \"Default\", \"Default\", \"Default\", \"Default\", \"Default\", \"Default\", \"Default\", \"Default\", \"Default\", \"Default\", \"Default\", \"Default\", \"Default\", \"Default\", \"Default\", \"Default\", \"Default\", \"Default\", \"Default\", \"Default\", \"Default\", \"Topic1\", \"Topic1\", \"Topic1\", \"Topic1\", \"Topic1\", \"Topic1\", \"Topic1\", \"Topic1\", \"Topic1\", \"Topic1\", \"Topic1\", \"Topic1\", \"Topic1\", \"Topic1\", \"Topic1\", \"Topic1\", \"Topic1\", \"Topic1\", \"Topic1\", \"Topic1\", \"Topic1\", \"Topic1\", \"Topic1\", \"Topic1\", \"Topic1\", \"Topic1\", \"Topic1\", \"Topic1\", \"Topic1\", \"Topic1\", \"Topic1\", \"Topic1\", \"Topic1\", \"Topic1\", \"Topic1\", \"Topic1\", \"Topic1\", \"Topic1\", \"Topic1\", \"Topic1\", \"Topic1\", \"Topic1\", \"Topic1\", \"Topic1\", \"Topic1\", \"Topic1\", \"Topic1\", \"Topic1\", \"Topic1\", \"Topic1\", \"Topic1\", \"Topic1\", \"Topic1\", \"Topic1\", \"Topic1\", \"Topic1\", \"Topic1\", \"Topic1\", \"Topic1\", \"Topic1\", \"Topic1\", \"Topic1\", \"Topic1\", \"Topic1\", \"Topic1\", \"Topic1\", \"Topic1\", \"Topic1\", \"Topic1\", \"Topic1\", \"Topic1\", \"Topic1\", \"Topic1\", \"Topic1\", \"Topic1\", \"Topic1\", \"Topic1\", \"Topic1\", \"Topic1\", \"Topic1\", \"Topic2\", \"Topic2\", \"Topic2\", \"Topic2\", \"Topic2\", \"Topic2\", \"Topic2\", \"Topic2\", \"Topic2\", \"Topic2\", \"Topic2\", \"Topic2\", \"Topic2\", \"Topic2\", \"Topic2\", \"Topic2\", \"Topic2\", \"Topic2\", \"Topic2\", \"Topic2\", \"Topic2\", \"Topic2\", \"Topic2\", \"Topic2\", \"Topic2\", \"Topic2\", \"Topic2\", \"Topic2\", \"Topic2\", \"Topic2\", \"Topic2\", \"Topic2\", \"Topic2\", \"Topic2\", \"Topic2\", \"Topic2\", \"Topic2\", \"Topic2\", \"Topic2\", \"Topic2\", \"Topic2\", \"Topic2\", \"Topic2\", \"Topic2\", \"Topic2\", \"Topic2\", \"Topic2\", \"Topic2\", \"Topic2\", \"Topic2\", \"Topic2\", \"Topic2\", \"Topic2\", \"Topic2\", \"Topic2\", \"Topic2\", \"Topic2\", \"Topic2\", \"Topic2\", \"Topic2\", \"Topic2\", \"Topic2\", \"Topic2\", \"Topic2\", \"Topic2\", \"Topic2\", \"Topic2\", \"Topic2\", \"Topic2\", \"Topic2\", \"Topic3\", \"Topic3\", \"Topic3\", \"Topic3\", \"Topic3\", \"Topic3\", \"Topic3\", \"Topic3\", \"Topic3\", \"Topic3\", \"Topic3\", \"Topic3\", \"Topic3\", \"Topic3\", \"Topic3\", \"Topic3\", \"Topic3\", \"Topic3\", \"Topic3\", \"Topic3\", \"Topic3\", \"Topic3\", \"Topic3\", \"Topic3\", \"Topic3\", \"Topic3\", \"Topic3\", \"Topic3\", \"Topic3\", \"Topic3\", \"Topic3\", \"Topic3\", \"Topic3\", \"Topic3\", \"Topic3\", \"Topic3\", \"Topic3\", \"Topic3\", \"Topic3\", \"Topic3\", \"Topic3\", \"Topic3\", \"Topic3\", \"Topic3\", \"Topic3\", \"Topic3\", \"Topic3\", \"Topic3\", \"Topic3\", \"Topic3\", \"Topic3\", \"Topic3\", \"Topic3\", \"Topic3\", \"Topic3\", \"Topic3\", \"Topic3\", \"Topic3\", \"Topic3\", \"Topic3\", \"Topic3\", \"Topic3\", \"Topic3\", \"Topic3\", \"Topic3\", \"Topic3\", \"Topic3\", \"Topic3\", \"Topic3\", \"Topic3\", \"Topic3\", \"Topic3\", \"Topic4\", \"Topic4\", \"Topic4\", \"Topic4\", \"Topic4\", \"Topic4\", \"Topic4\", \"Topic4\", \"Topic4\", \"Topic4\", \"Topic4\", \"Topic4\", \"Topic4\", \"Topic4\", \"Topic4\", \"Topic4\", \"Topic4\", \"Topic4\", \"Topic4\", \"Topic4\", \"Topic4\", \"Topic4\", \"Topic4\", \"Topic4\", \"Topic4\", \"Topic4\", \"Topic4\", \"Topic4\", \"Topic4\", \"Topic4\", \"Topic4\", \"Topic4\", \"Topic4\", \"Topic4\", \"Topic4\", \"Topic4\", \"Topic4\", \"Topic4\", \"Topic4\", \"Topic4\", \"Topic4\", \"Topic4\", \"Topic4\", \"Topic4\", \"Topic4\", \"Topic4\", \"Topic4\", \"Topic4\", \"Topic4\", \"Topic4\", \"Topic4\", \"Topic4\", \"Topic4\", \"Topic4\", \"Topic4\", \"Topic4\", \"Topic4\", \"Topic4\", \"Topic4\", \"Topic4\", \"Topic4\", \"Topic4\", \"Topic4\", \"Topic4\", \"Topic4\", \"Topic4\", \"Topic4\", \"Topic5\", \"Topic5\", \"Topic5\", \"Topic5\", \"Topic5\", \"Topic5\", \"Topic5\", \"Topic5\", \"Topic5\", \"Topic5\", \"Topic5\", \"Topic5\", \"Topic5\", \"Topic5\", \"Topic5\", \"Topic5\", \"Topic5\", \"Topic5\", \"Topic5\", \"Topic5\", \"Topic5\", \"Topic5\", \"Topic5\", \"Topic5\", \"Topic5\", \"Topic5\", \"Topic5\", \"Topic5\", \"Topic5\", \"Topic5\", \"Topic5\", \"Topic5\", \"Topic5\", \"Topic5\", \"Topic5\", \"Topic5\", \"Topic5\", \"Topic5\", \"Topic5\", \"Topic5\", \"Topic5\", \"Topic5\", \"Topic5\", \"Topic5\", \"Topic5\", \"Topic5\", \"Topic5\", \"Topic5\", \"Topic5\", \"Topic5\", \"Topic5\", \"Topic5\", \"Topic5\", \"Topic6\", \"Topic6\", \"Topic6\", \"Topic6\", \"Topic6\", \"Topic6\", \"Topic6\", \"Topic6\", \"Topic6\", \"Topic6\", \"Topic6\", \"Topic6\", \"Topic6\", \"Topic6\", \"Topic6\", \"Topic6\", \"Topic6\", \"Topic6\", \"Topic6\", \"Topic6\", \"Topic6\", \"Topic6\", \"Topic6\", \"Topic6\", \"Topic6\", \"Topic6\", \"Topic6\", \"Topic6\", \"Topic6\", \"Topic6\", \"Topic6\", \"Topic6\", \"Topic6\", \"Topic6\", \"Topic6\", \"Topic6\", \"Topic6\", \"Topic6\", \"Topic6\", \"Topic6\", \"Topic6\", \"Topic6\", \"Topic6\", \"Topic6\", \"Topic6\", \"Topic6\", \"Topic6\", \"Topic6\", \"Topic6\", \"Topic6\", \"Topic6\", \"Topic6\", \"Topic6\", \"Topic6\", \"Topic6\", \"Topic6\", \"Topic7\", \"Topic7\", \"Topic7\", \"Topic7\", \"Topic7\", \"Topic7\", \"Topic7\", \"Topic7\", \"Topic7\", \"Topic7\", \"Topic7\", \"Topic7\", \"Topic7\", \"Topic7\", \"Topic7\", \"Topic7\", \"Topic7\", \"Topic7\", \"Topic7\", \"Topic7\", \"Topic7\", \"Topic7\", \"Topic7\", \"Topic7\", \"Topic7\", \"Topic7\", \"Topic7\", \"Topic7\", \"Topic7\", \"Topic7\", \"Topic7\", \"Topic7\", \"Topic7\", \"Topic7\", \"Topic7\", \"Topic7\", \"Topic7\", \"Topic7\", \"Topic7\", \"Topic7\", \"Topic7\", \"Topic7\", \"Topic7\", \"Topic7\", \"Topic7\", \"Topic7\", \"Topic7\", \"Topic7\", \"Topic7\", \"Topic7\", \"Topic7\", \"Topic7\", \"Topic7\", \"Topic7\", \"Topic7\", \"Topic7\", \"Topic7\", \"Topic7\", \"Topic7\", \"Topic7\", \"Topic8\", \"Topic8\", \"Topic8\", \"Topic8\", \"Topic8\", \"Topic8\", \"Topic8\", \"Topic8\", \"Topic8\", \"Topic8\", \"Topic8\", \"Topic8\", \"Topic8\", \"Topic8\", \"Topic8\", \"Topic8\", \"Topic8\", \"Topic8\", \"Topic8\", \"Topic8\", \"Topic8\", \"Topic8\", \"Topic8\", \"Topic8\", \"Topic8\", \"Topic8\", \"Topic8\", \"Topic8\", \"Topic8\", \"Topic8\", \"Topic8\", \"Topic8\", \"Topic8\", \"Topic8\", \"Topic8\", \"Topic8\", \"Topic8\", \"Topic8\", \"Topic8\", \"Topic8\", \"Topic8\", \"Topic8\", \"Topic8\", \"Topic8\", \"Topic8\", \"Topic8\", \"Topic8\", \"Topic8\", \"Topic8\", \"Topic8\", \"Topic9\", \"Topic9\", \"Topic9\", \"Topic9\", \"Topic9\", \"Topic9\", \"Topic9\", \"Topic9\", \"Topic9\", \"Topic9\", \"Topic9\", \"Topic9\", \"Topic9\", \"Topic9\", \"Topic9\", \"Topic9\", \"Topic9\", \"Topic9\", \"Topic9\", \"Topic9\", \"Topic9\", \"Topic9\", \"Topic9\", \"Topic9\", \"Topic9\", \"Topic9\", \"Topic9\", \"Topic9\", \"Topic9\", \"Topic9\", \"Topic9\", \"Topic9\", \"Topic9\", \"Topic9\", \"Topic9\", \"Topic9\", \"Topic9\", \"Topic9\", \"Topic9\", \"Topic9\", \"Topic9\", \"Topic9\", \"Topic9\", \"Topic9\", \"Topic10\", \"Topic10\", \"Topic10\", \"Topic10\", \"Topic10\", \"Topic10\", \"Topic10\", \"Topic10\", \"Topic10\", \"Topic10\", \"Topic10\", \"Topic10\", \"Topic10\", \"Topic10\", \"Topic10\", \"Topic10\", \"Topic10\", \"Topic10\", \"Topic10\", \"Topic10\", \"Topic10\", \"Topic10\", \"Topic10\", \"Topic10\", \"Topic10\", \"Topic10\", \"Topic10\", \"Topic10\", \"Topic10\", \"Topic10\", \"Topic10\", \"Topic10\", \"Topic10\", \"Topic10\", \"Topic10\", \"Topic10\", \"Topic10\", \"Topic10\", \"Topic10\", \"Topic10\", \"Topic10\", \"Topic10\", \"Topic10\", \"Topic10\", \"Topic10\"], \"logprob\": [30.0, 29.0, 28.0, 27.0, 26.0, 25.0, 24.0, 23.0, 22.0, 21.0, 20.0, 19.0, 18.0, 17.0, 16.0, 15.0, 14.0, 13.0, 12.0, 11.0, 10.0, 9.0, 8.0, 7.0, 6.0, 5.0, 4.0, 3.0, 2.0, 1.0, -5.0676, -6.2083, -6.5327, -5.6359, -7.0107, -7.0881, -5.2572, -6.9629, -7.4453, -7.6732, -7.4931, -7.3603, -7.7431, -7.7642, -7.7025, -7.8004, -7.6777, -7.4321, -7.851, -7.8717, -7.066, -7.5088, -7.949, -7.6443, -8.0207, -7.1972, -7.95, -7.6953, -8.0074, -7.9688, -6.1489, -7.6453, -7.4041, -7.6371, -7.3421, -7.026, -7.0416, -3.1929, -5.1842, -6.3791, -6.5858, -5.2109, -3.5567, -7.2159, -6.216, -6.9869, -3.5558, -4.9335, -5.1275, -3.1344, -6.0168, -5.6034, -4.8137, -6.6481, -4.7544, -6.0947, -3.4155, -4.3986, -5.6648, -3.5427, -4.2752, -4.8553, -5.3714, -4.0979, -4.8605, -5.3501, -4.1558, -4.9432, -4.2208, -3.9982, -5.1524, -4.9299, -5.4245, -4.5679, -4.9541, -5.2198, -5.1012, -5.1323, -5.1139, -5.2187, -5.6139, -5.631, -5.6604, -5.796, -5.9501, -6.1587, -6.2168, -6.2432, -6.3513, -6.4104, -3.782, -6.4605, -6.4233, -6.5264, -6.4289, -6.5566, -6.5775, -6.632, -6.6158, -6.662, -6.6747, -6.7339, -6.7505, -6.7774, -6.8023, -6.815, -6.8853, -6.8922, -6.9614, -7.0382, -6.0871, -4.4083, -3.9986, -5.3435, -4.6834, -6.3738, -5.9646, -6.44, -5.106, -3.9019, -5.5309, -5.4261, -4.7829, -6.18, -3.9267, -3.9148, -5.4908, -4.7473, -3.6562, -4.769, -4.8989, -3.8236, -4.0505, -4.3193, -5.0412, -5.6348, -4.9952, -4.1689, -5.1803, -5.4344, -4.9678, -5.0174, -5.0777, -4.8953, -5.1143, -5.3112, -5.269, -5.2378, -5.2047, -5.2854, -4.7652, -5.6634, -5.0918, -5.7947, -5.9029, -6.0756, -5.9016, -5.9949, -6.1894, -6.2175, -6.1545, -6.2464, -6.2739, -6.3109, -6.407, -6.4205, -6.484, -6.5175, -6.3268, -5.8168, -6.6207, -6.6137, -6.6751, -6.726, -6.7432, -6.7655, -6.7229, -6.8279, -6.4393, -6.7901, -5.1158, -5.7571, -6.1869, -6.1381, -6.0067, -6.4778, -6.272, -3.9214, -5.6536, -5.2922, -5.9178, -5.9366, -4.4297, -6.0644, -5.0128, -6.0231, -4.7008, -5.3035, -3.9783, -4.3584, -5.5825, -5.5638, -5.2774, -3.8485, -3.9312, -3.8103, -4.3131, -4.9171, -4.4737, -4.8581, -4.827, -5.0438, -4.4478, -4.5575, -4.8667, -5.1565, -4.7653, -4.9721, -5.3136, -5.3394, -5.3483, -5.29, -2.924, -4.0284, -5.1885, -5.2992, -5.4719, -5.5612, -5.6223, -5.981, -6.0276, -5.9884, -6.1515, -6.1813, -6.2443, -6.2944, -6.2819, -6.3169, -6.3944, -6.3698, -6.3191, -6.2997, -6.4793, -6.4873, -6.3028, -6.5565, -6.6347, -6.6499, -6.6744, -6.5785, -6.73, -6.7123, -6.2659, -6.351, -4.8638, -4.3447, -6.1474, -5.5662, -5.9885, -5.1925, -5.7009, -5.5381, -5.9018, -5.303, -5.5133, -3.9565, -5.5724, -3.783, -5.8204, -5.2008, -3.6561, -3.7865, -4.7493, -4.664, -5.1497, -4.418, -4.6205, -4.864, -4.9931, -4.9245, -4.6228, -4.5642, -5.0675, -5.2448, -5.1637, -5.1814, -5.396, -5.3401, -5.3574, -2.1935, -3.8534, -4.0045, -4.9942, -4.0539, -4.5994, -5.2904, -5.2574, -5.4709, -5.6058, -5.7141, -5.9056, -5.7566, -4.7336, -6.0205, -6.1131, -6.0783, -6.1786, -6.1856, -6.198, -6.2063, -6.2042, -6.2313, -6.2634, -6.2686, -6.2602, -6.3497, -6.3574, -6.3639, -6.3615, -5.263, -6.2727, -5.514, -5.4012, -4.5847, -5.985, -4.2969, -5.5942, -5.8584, -5.3754, -5.3378, -5.742, -4.4212, -5.605, -4.858, -5.2369, -4.8943, -4.9423, -4.9498, -5.2802, -5.2068, -5.2916, -5.6484, -3.1635, -4.1788, -4.3334, -4.4985, -4.7815, -5.0415, -5.1982, -5.278, -5.5424, -5.6313, -5.744, -5.2798, -5.8169, -6.0323, -5.9834, -6.0439, -4.4964, -5.9741, -5.9098, -6.1469, -6.1748, -6.2624, -6.2641, -5.2102, -6.1955, -6.342, -4.9145, -6.3935, -5.4421, -6.4146, -5.9868, -5.614, -5.9076, -6.0471, -6.0822, -3.2471, -5.7584, -5.7318, -4.0862, -5.286, -5.0402, -3.6446, -5.7723, -5.4692, -4.4026, -4.436, -5.0382, -5.0778, -4.9401, -4.6827, -4.5776, -4.7887, -5.1905, -5.2761, -5.2295, -5.4239, -4.0156, -5.2401, -5.446, -5.4736, -4.7794, -5.6681, -5.7394, -5.8226, -5.8559, -5.8577, -5.7027, -5.9022, -5.9231, -5.7496, -5.9517, -5.9598, -5.9579, -5.7629, -6.0374, -6.0994, -6.112, -6.0577, -6.1644, -6.2101, -6.1481, -6.24, -6.2644, -6.2566, -6.2879, -6.2965, -4.7287, -5.979, -4.7887, -6.19, -5.2348, -5.9382, -6.0665, -5.8286, -6.0169, -3.9015, -4.707, -5.5396, -3.344, -5.8408, -4.7356, -5.6316, -4.6884, -4.848, -4.8197, -4.7976, -5.4474, -4.9256, -5.016, -5.0445, -5.44, -5.3635, -5.4065, -5.591, -5.5742, -5.7068, -4.0817, -4.2994, -4.5115, -4.7924, -4.7305, -5.0691, -5.1853, -5.2124, -5.3811, -5.6057, -5.6342, -5.6243, -5.705, -5.742, -5.4512, -5.7822, -5.6965, -5.7932, -5.8069, -5.7854, -5.8767, -5.8747, -5.8116, -5.933, -5.9397, -5.9952, -5.9977, -6.0395, -6.0707, -6.1407, -5.745, -5.4045, -5.2926, -5.3074, -5.6879, -5.8206, -5.5744, -5.0945, -5.5289, -4.8398, -5.6791, -4.5909, -5.0171, -4.9578, -4.9329, -4.9407, -5.0312, -5.3853, -5.2419, -5.2787, -3.9016, -4.0278, -4.0317, -4.9598, -5.007, -5.1017, -4.827, -5.2741, -5.4594, -5.4741, -5.5258, -5.5439, -5.6321, -5.6239, -5.6679, -5.2819, -5.7409, -5.8276, -5.8373, -5.8768, -5.8931, -5.8189, -5.9582, -6.0081, -6.0246, -6.0141, -5.9889, -6.0774, -6.124, -6.1255, -4.9803, -4.9672, -5.4353, -5.3639, -5.636, -5.4972, -5.8066, -5.4518, -4.2213, -5.1968, -4.7108, -5.1114, -5.0072, -5.0548, -1.7156, -3.665, -4.6282, -4.9421, -5.0429, -5.1395, -5.266, -5.4744, -5.7363, -5.7117, -5.7514, -5.1023, -5.7526, -5.6304, -5.8121, -5.8689, -6.0252, -6.1091, -6.1242, -6.2619, -6.3269, -6.3614, -6.3602, -6.3901, -6.0311, -6.3935, -6.4013, -6.171, -6.4242, -6.4669, -6.4226, -5.7869, -3.5318, -5.8546, -5.8093, -5.8093, -5.8282, -5.8717, -5.5672, -5.6421, -5.5111, -5.527, -5.2542, -5.9299, -5.9275], \"loglift\": [30.0, 29.0, 28.0, 27.0, 26.0, 25.0, 24.0, 23.0, 22.0, 21.0, 20.0, 19.0, 18.0, 17.0, 16.0, 15.0, 14.0, 13.0, 12.0, 11.0, 10.0, 9.0, 8.0, 7.0, 6.0, 5.0, 4.0, 3.0, 2.0, 1.0, 0.6532, 0.6521, 0.6515, 0.6513, 0.6501, 0.6496, 0.649, 0.6484, 0.6472, 0.6467, 0.6466, 0.6465, 0.6462, 0.6461, 0.646, 0.6458, 0.6458, 0.6457, 0.6453, 0.6452, 0.6451, 0.6446, 0.6439, 0.6438, 0.6438, 0.6437, 0.6436, 0.6436, 0.6436, 0.6434, 0.6419, 0.6432, 0.6403, 0.6413, 0.6381, 0.6331, 0.6294, 0.5478, 0.5793, 0.612, 0.6101, 0.5632, 0.4926, 0.6293, 0.5868, 0.6171, 0.4673, 0.5313, 0.5363, 0.4271, 0.573, 0.5481, 0.4979, 0.5927, 0.4406, 0.5486, 0.3012, 0.3832, 0.5031, 0.286, 0.35, 0.4119, 0.4609, 0.2912, 0.37, 0.4404, 0.2614, 0.3699, 0.226, 0.1333, 0.3703, 0.2875, 0.4345, 0.1529, 0.2349, 0.3605, 0.2316, 0.2453, 0.0392, 0.2049, 2.1341, 2.1341, 2.134, 2.1334, 2.1326, 2.1314, 2.131, 2.1308, 2.13, 2.1295, 2.1292, 2.129, 2.1288, 2.1284, 2.1283, 2.1281, 2.1279, 2.1274, 2.1273, 2.127, 2.1269, 2.1262, 2.126, 2.1257, 2.1254, 2.1252, 2.1243, 2.1241, 2.123, 2.1221, 2.1184, 2.0545, 1.9883, 2.0381, 1.9609, 2.0622, 1.9741, 2.0586, 1.6941, 1.2503, 1.7463, 1.6432, 1.3663, 1.9359, 0.7941, 0.532, 1.4944, 0.9885, 0.1725, 0.8535, 0.9326, -0.1068, 0.081, 0.0698, 0.7926, 1.4091, 0.5545, -0.6075, 0.7502, 1.1158, 0.3452, 0.4062, 0.1398, -0.4781, 0.0807, 0.6519, 0.2702, -0.0489, -1.464, -1.2622, 2.6107, 2.6082, 2.6078, 2.6077, 2.607, 2.6054, 2.6052, 2.605, 2.6041, 2.6037, 2.6035, 2.6035, 2.6031, 2.6027, 2.6014, 2.6012, 2.6002, 2.5997, 2.5997, 2.5995, 2.5979, 2.5975, 2.5962, 2.596, 2.5954, 2.5953, 2.5946, 2.594, 2.594, 2.5937, 2.5881, 2.5936, 2.5928, 2.5899, 2.5875, 2.5811, 2.5678, 2.2906, 2.4725, 2.4196, 2.5037, 2.4994, 2.1462, 2.4961, 2.0974, 2.4469, 1.7906, 2.0856, 1.3862, 1.5886, 2.0849, 2.0299, 1.7231, 0.283, 0.1181, -0.0935, 0.312, 0.758, -0.0269, 0.4747, 0.3261, 0.5805, -0.8863, -0.8168, -0.0849, 0.6812, -0.9367, -0.9489, 0.6017, 0.5912, 0.6386, -0.9009, 2.7118, 2.7098, 2.7084, 2.7077, 2.7068, 2.7063, 2.7057, 2.7022, 2.7021, 2.702, 2.7009, 2.7005, 2.6996, 2.699, 2.699, 2.6987, 2.6974, 2.6973, 2.6968, 2.6965, 2.6962, 2.696, 2.6953, 2.6949, 2.6934, 2.6925, 2.6921, 2.6915, 2.6914, 2.6913, 2.6908, 2.6901, 2.6659, 2.6018, 2.659, 2.5856, 2.6164, 2.4807, 2.5665, 2.5181, 2.5653, 2.396, 2.4168, 1.1965, 2.1627, 0.6342, 2.2682, 1.5994, -0.0946, 0.0422, 1.0009, 0.525, 1.0967, -0.2865, 0.0047, 0.4688, 0.5872, 0.4401, -0.2337, -0.541, 0.4821, 0.8522, 0.214, -0.4605, 1.2957, 0.0835, -1.6407, 3.005, 3.0037, 3.0034, 3.0001, 2.9999, 2.9996, 2.9984, 2.9981, 2.9971, 2.9959, 2.9948, 2.9926, 2.9921, 2.9916, 2.9911, 2.9897, 2.9896, 2.9887, 2.9886, 2.9884, 2.9882, 2.988, 2.9878, 2.9872, 2.9871, 2.9865, 2.9856, 2.9855, 2.9853, 2.985, 2.9588, 2.9812, 2.9258, 2.722, 2.3467, 2.7862, 1.4534, 2.2863, 2.5578, 1.9743, 1.6269, 2.2522, -0.5926, 1.8001, -0.0761, 0.6177, -0.5052, -0.8108, -1.233, -0.863, -1.6454, -1.2685, -0.3156, 3.0054, 3.0039, 3.0036, 3.003, 3.0016, 3.0008, 2.9999, 2.9994, 2.9973, 2.9965, 2.9953, 2.9938, 2.993, 2.9917, 2.9916, 2.9915, 2.9911, 2.9909, 2.9902, 2.99, 2.9891, 2.988, 2.9879, 2.9875, 2.9871, 2.9865, 2.9863, 2.9854, 2.9851, 2.9849, 2.9738, 2.9569, 2.9608, 2.9631, 2.9659, 2.5031, 2.8049, 2.7475, 1.5381, 2.3762, 2.0701, 0.4869, 2.6602, 2.1672, -0.0135, -0.0187, 0.9539, 0.7768, 0.2774, -0.6595, -1.0161, -1.0719, -1.3619, -0.6509, -1.4888, -0.0462, 3.0942, 3.0892, 3.0875, 3.0874, 3.0867, 3.0855, 3.0844, 3.0834, 3.0832, 3.0832, 3.083, 3.0825, 3.0823, 3.0823, 3.0819, 3.0816, 3.0815, 3.0811, 3.0806, 3.0795, 3.0794, 3.079, 3.0785, 3.0777, 3.0773, 3.0771, 3.0767, 3.0762, 3.0762, 3.076, 3.0622, 3.0674, 3.014, 3.0734, 3.008, 3.0515, 3.0623, 3.0289, 3.053, 2.6488, 2.7613, 2.7392, 0.3728, 2.8068, 0.6289, 2.1863, -0.2416, -0.0661, -0.7704, -1.2361, 1.0929, -1.1849, -0.9928, -1.2159, 0.1825, -0.6427, -1.275, 0.3721, -1.157, 0.9849, 3.5881, 3.5872, 3.5844, 3.584, 3.5835, 3.5819, 3.5807, 3.5784, 3.5776, 3.5746, 3.5744, 3.5744, 3.5731, 3.5721, 3.5718, 3.5717, 3.5715, 3.5714, 3.5712, 3.5711, 3.5697, 3.5697, 3.5684, 3.5684, 3.5674, 3.5669, 3.5668, 3.5658, 3.5631, 3.5631, 3.5541, 3.5413, 3.5048, 3.4614, 3.4809, 3.4963, 3.3339, 3.0038, 3.2853, 2.2041, 3.302, -0.7622, 0.7187, 0.2312, -0.5157, -0.9175, -1.4697, 0.353, -1.5251, -1.1472, 3.5977, 3.5973, 3.5969, 3.5921, 3.5916, 3.5904, 3.59, 3.5886, 3.5864, 3.5861, 3.5854, 3.5849, 3.5837, 3.5835, 3.5831, 3.5819, 3.5818, 3.5801, 3.5799, 3.5791, 3.5786, 3.578, 3.5771, 3.576, 3.5756, 3.5755, 3.5753, 3.5743, 3.573, 3.573, 3.5596, 3.5541, 3.5636, 3.5593, 3.5636, 3.552, 3.5503, 3.4927, 3.1284, 3.2984, 3.0395, 2.5507, 1.9575, 1.298, 3.7512, 3.7488, 3.7441, 3.7413, 3.7403, 3.7391, 3.7375, 3.7342, 3.729, 3.729, 3.7287, 3.7286, 3.7284, 3.7281, 3.7273, 3.7252, 3.7215, 3.719, 3.7184, 3.7137, 3.7111, 3.7098, 3.7092, 3.7086, 3.7085, 3.7084, 3.7081, 3.708, 3.7071, 3.7052, 3.7047, 3.6916, 3.4776, 3.6582, 3.6462, 3.6462, 3.1538, 3.0818, 2.1001, 2.0059, 1.4371, 1.0628, -1.5374, 1.5384, -1.796]}, \"token.table\": {\"Topic\": [1, 5, 9, 5, 9, 1, 2, 3, 4, 5, 6, 7, 8, 9, 10, 6, 8, 2, 6, 7, 8, 1, 2, 3, 4, 5, 6, 7, 8, 10, 1, 2, 3, 4, 5, 6, 7, 8, 9, 10, 2, 8, 10, 3, 3, 8, 7, 4, 9, 1, 10, 1, 10, 7, 10, 2, 1, 10, 3, 9, 1, 10, 1, 10, 2, 9, 5, 4, 2, 4, 4, 1, 3, 4, 7, 2, 3, 5, 8, 3, 4, 1, 7, 4, 6, 4, 2, 6, 3, 3, 5, 8, 10, 6, 9, 8, 4, 1, 2, 6, 7, 10, 1, 9, 3, 2, 5, 8, 1, 2, 3, 4, 5, 6, 7, 8, 9, 10, 1, 2, 3, 4, 5, 6, 7, 8, 9, 10, 1, 4, 5, 6, 7, 8, 9, 10, 10, 1, 2, 3, 5, 10, 6, 5, 7, 4, 1, 5, 6, 9, 3, 5, 6, 9, 10, 1, 3, 4, 7, 1, 3, 2, 3, 10, 5, 8, 4, 2, 6, 10, 1, 6, 9, 2, 4, 8, 9, 6, 1, 9, 5, 2, 4, 5, 6, 1, 3, 6, 9, 4, 9, 9, 3, 3, 6, 7, 6, 7, 8, 10, 1, 2, 3, 4, 5, 6, 7, 8, 9, 10, 8, 5, 9, 5, 2, 8, 1, 7, 9, 1, 1, 2, 3, 4, 5, 6, 7, 8, 9, 10, 1, 2, 3, 4, 5, 7, 8, 9, 10, 6, 1, 4, 5, 9, 5, 6, 4, 8, 9, 1, 4, 8, 2, 2, 1, 2, 3, 4, 5, 6, 7, 8, 9, 10, 4, 8, 1, 2, 3, 4, 5, 6, 7, 8, 9, 10, 1, 2, 3, 4, 5, 6, 7, 8, 9, 10, 1, 5, 8, 10, 6, 8, 1, 3, 4, 5, 6, 8, 4, 4, 1, 2, 3, 4, 5, 6, 7, 8, 9, 10, 3, 6, 8, 1, 2, 3, 4, 5, 6, 7, 9, 10, 1, 2, 3, 4, 5, 6, 7, 8, 9, 10, 2, 4, 5, 2, 3, 4, 7, 1, 2, 3, 4, 5, 6, 7, 8, 9, 1, 2, 3, 5, 6, 4, 1, 2, 3, 4, 5, 6, 7, 8, 9, 10, 3, 8, 3, 8, 1, 2, 3, 4, 5, 6, 7, 8, 9, 10, 5, 9, 8, 2, 3, 1, 2, 3, 4, 5, 6, 7, 8, 9, 10, 7, 9, 2, 2, 4, 9, 5, 4, 1, 4, 7, 8, 4, 10, 6, 6, 4, 6, 8, 4, 10, 3, 5, 10, 4, 9, 1, 2, 3, 4, 5, 6, 7, 8, 9, 10, 1, 2, 4, 5, 6, 8, 9, 10, 1, 2, 3, 8, 1, 3, 5, 10, 5, 7, 10, 1, 2, 3, 4, 5, 6, 7, 8, 9, 10, 5, 7, 1, 5, 5, 9, 2, 10, 2, 9, 5, 4, 6, 7, 1, 3, 1, 3, 1, 6, 2, 9, 7, 9, 7, 4, 9, 5, 8, 7, 9, 7, 2, 1, 3, 10, 1, 7, 10, 6, 10, 10, 7, 1, 2, 3, 4, 5, 6, 7, 8, 9, 5, 9, 1, 2, 3, 4, 5, 6, 7, 8, 9, 10, 1, 3, 1, 7, 9, 3, 8, 1, 1, 1, 2, 3, 4, 5, 6, 10, 2, 2, 8, 5, 9, 10, 9, 2, 7, 10, 7, 4, 5, 6, 7, 9, 3, 6, 7, 2, 1, 2, 6, 7, 7, 1, 3, 5, 2, 1, 2, 3, 4, 5, 6, 7, 8, 9, 10, 3, 3, 5, 3, 6, 6, 6, 3, 1, 2, 4, 7, 8, 1, 2, 4, 5, 6, 8, 3, 4, 10, 5, 4, 3, 9, 10, 7, 1, 2, 3, 5, 6, 7, 5, 3, 6, 8, 1, 10, 3, 7, 2, 3, 5, 7, 3, 1, 2, 3, 4, 5, 6, 7, 8, 9, 10, 1, 2, 3, 4, 6, 7, 8, 9, 10, 3, 5, 7, 5, 7, 1, 3, 4, 6, 9, 1, 1, 2, 3, 4, 5, 6, 7, 8, 9, 10, 3, 5, 9, 1, 7, 1, 7, 6, 3, 5, 1, 2, 3, 4, 5, 6, 7, 8, 9, 10, 2, 8, 5, 6, 1, 1, 2, 3, 4, 5, 6, 7, 8, 9, 10, 3, 3, 1, 2, 3, 4, 5, 6, 7, 8, 9, 10, 7, 3, 1, 2, 3, 4, 5, 6, 7, 8, 9, 10, 4, 1, 6, 8, 1, 2, 3, 4, 5, 6, 7, 8, 9, 10, 4, 10, 6, 2, 3, 1, 2, 1, 7, 10, 2, 4, 7, 1, 2, 3, 4, 5, 6, 7, 10, 1, 5, 9, 3, 1, 2, 3, 4, 5, 6, 7, 8, 9, 10, 10, 2, 9, 10, 7, 8, 1, 1, 1, 3, 3, 9, 8, 1, 2, 7, 10, 6, 5, 1, 2, 3, 4, 5, 6, 7, 8, 9, 10, 8, 4, 5, 8, 8, 1, 3, 9, 5, 3, 1, 2, 3, 4, 5, 10, 2, 3, 8, 1, 2, 3, 4, 5, 6, 7, 9, 10, 10, 5, 4, 4, 9, 6, 7, 7, 2, 8, 2, 3, 4, 8, 9, 10, 1, 1, 3, 6, 1, 2, 3, 4, 5, 6, 7, 8, 9, 10, 5, 1, 9, 9, 7, 4, 6, 1, 2, 3, 4, 5, 6, 7, 8, 9, 10, 5, 6, 1, 4, 8, 9, 1, 2, 3, 4, 5, 6, 7, 8, 9, 10, 8, 1, 2, 3, 4, 5, 6, 7, 8, 9, 10, 9, 8, 3, 1, 2, 3, 4, 5, 6, 7, 8, 10, 4, 5, 6, 8, 2, 4, 7, 7, 5, 9, 4, 8, 9, 8, 5, 1, 6, 10, 6, 6, 3, 2, 4, 10, 7, 9, 5, 6, 10, 1, 4, 5, 5, 1, 2, 3, 4, 5, 6, 7, 10, 1, 5, 6, 6, 7, 4, 9, 2, 3, 5, 8, 3, 9, 10, 7, 2, 1, 8, 7, 8, 2, 4, 7, 1, 2, 5, 7, 10, 2, 6, 8, 2, 5, 4, 7, 9, 4, 2, 3, 4, 6, 7, 8, 9, 6, 8, 3, 8, 4, 9, 2, 9, 2, 9, 10, 1, 2, 3, 4, 5, 6, 7, 8, 9, 10, 3, 8, 1, 10, 8, 1, 2, 4, 5, 6, 7, 10, 6, 10, 1, 7, 5, 1, 6, 8, 9, 4, 7, 8, 1, 3, 4, 6, 7, 5, 9, 4, 10, 3, 8, 10, 7, 9, 1, 4, 6, 10, 4, 5, 1, 2, 3, 4, 5, 6, 7, 8, 9, 10, 8, 1, 2, 3, 4, 5, 6, 7, 8, 9, 10, 1, 2, 3, 4, 5, 6, 7, 8, 9, 10, 1, 2, 3, 4, 5, 6, 7, 6, 4, 5, 6, 7, 8, 9, 10, 1, 1, 2, 3, 4, 5, 6, 7, 8, 9, 10, 1, 2, 3, 4, 5, 6, 7, 8, 9, 10, 2, 1, 2, 3, 4, 5, 6, 7, 8, 9, 10, 1, 4, 6, 7, 8, 4, 2, 5, 8, 2, 1, 2, 4, 5, 6, 9, 10, 7, 1, 2, 3, 4, 9, 4, 7, 7, 10, 7, 4, 1, 6, 7, 1, 2, 3, 4, 5, 6, 7, 8, 9, 10, 2, 9, 1, 2, 3, 4, 5, 6, 7, 8, 9, 10, 1, 2, 3, 4, 6, 7, 8, 9, 10, 1, 3, 5, 7, 2, 6, 9, 1, 2, 3, 4, 5, 6, 7, 8, 10, 5, 1, 2, 3, 5, 6, 7, 8, 10, 1, 2, 3, 4, 5, 6, 7, 8, 9, 10, 1, 2, 3, 5, 7, 8, 9, 5, 1, 3, 5, 1, 5, 7, 2, 10, 1, 2, 3, 4, 5, 6, 7, 8, 9, 10, 7, 7, 8, 1, 2, 3, 4, 5, 6, 7, 8, 9, 8, 6, 8, 10], \"Freq\": [0.02672756003972393, 0.02672756003972393, 0.9621921614300615, 0.7549964767271541, 0.24128753379939977, 0.19043575325540457, 0.4813792651733838, 0.002644941017436175, 0.02380446915692557, 0.0105797640697447, 0.018514587122053224, 0.01586964610461705, 0.24862445563900043, 0.002644941017436175, 0.002644941017436175, 0.9878155951216081, 0.9895057468562359, 0.48312935719762246, 0.43051130839392104, 0.043051130839392104, 0.03826767185723742, 0.6616232172075345, 0.10752273302397636, 0.020070910164475587, 0.08100045887806219, 0.04372591142975038, 0.01792045550399606, 0.025805455925754325, 0.03942500210879133, 0.002150454660479527, 0.401700801842984, 0.059511229902664296, 0.013018081541207815, 0.24176437147957372, 0.037194518689165186, 0.10786410419857904, 0.12088218573978686, 0.005579177803374778, 0.009298629672291297, 0.0018597259344582593, 0.2350863260253672, 0.0025552861524496435, 0.7614752734299938, 0.9924331395959921, 0.9933714608517179, 0.9858233556424453, 0.9855361945870076, 0.9713517677249552, 0.9780572364025355, 0.05899374559082504, 0.9144030566577881, 0.4225501554066975, 0.5511523766174315, 0.015794183313491562, 0.9792393654364769, 0.9925385946186301, 0.062471573095520885, 0.9058378098850528, 0.01964718289405521, 0.9430647789146501, 0.058994072502050146, 0.9144081237817773, 0.030181911475890437, 0.9356392557526035, 0.99094387530151, 0.9917229450447854, 0.9903595534225397, 0.9933521469590266, 0.9948061888772983, 0.9908323022335731, 0.9903168496742696, 0.005279751262957659, 0.41710034977365507, 0.5754928876623848, 0.9865346577355046, 0.022775206367300876, 0.4099537146114158, 0.0075917354557669585, 0.554196688270988, 0.12586595047616786, 0.8630808032651511, 0.9995142776691437, 0.9922131647736574, 0.894979505318965, 0.10317458104213269, 0.9808285885329607, 0.008384766299217002, 0.9810176570083892, 0.9904012835499746, 0.5870911985074591, 0.1430726450144228, 0.07400309224883937, 0.19240803984698238, 0.9933578793967756, 0.9778057063786609, 0.9883954358104879, 0.9867517522329651, 0.055560183261568426, 0.11112036652313685, 0.7667305290096443, 0.044448146609254745, 0.9662559966473995, 0.9981950628932118, 0.9967449250841717, 0.980757785316027, 0.985045320545106, 0.9814211535836673, 0.9862484660189867, 0.6519241763843846, 0.20075875966627013, 0.07112258315949314, 0.02364185589789246, 0.002364185589789246, 0.005122402111210033, 0.03546278384683869, 0.006895541303551967, 0.0009850773290788525, 0.001576123726526164, 0.4356759586887236, 0.46270300327239133, 0.014054063183507213, 0.014054063183507213, 0.0032432453500401263, 0.023783799233627594, 0.04324327133386835, 0.0010810817833467087, 0.0010810817833467087, 0.0010810817833467087, 0.22726016230397944, 0.20526724337133626, 0.2516967388958052, 0.08064070275302496, 0.007330972977547723, 0.0024436576591825745, 0.19304895507542338, 0.029323891910190893, 0.9636396067305294, 0.02128400914034206, 0.9258543976048796, 0.03192601371051309, 0.01064200457017103, 0.01064200457017103, 0.9963163842586578, 0.006018421250486483, 0.9930395063302697, 0.9851287581887469, 0.8334891216709944, 0.0053004077689729374, 0.05962958740094555, 0.09938264566824258, 0.03435719452440534, 0.024540853231718097, 0.5300824298051109, 0.348480115890397, 0.05889804775612344, 0.8218918897706792, 0.0020521645187782252, 0.1559645034271451, 0.019495562928393138, 0.9896503287335906, 0.005154428795487451, 0.0036862649023235703, 0.995291523627364, 0.9938912070905085, 0.9879466143136408, 0.010454461527128475, 0.9691705217160727, 0.8189798639755672, 0.15452450263689949, 0.02317867539553492, 0.018896047534061988, 0.9636984242371613, 0.018896047534061988, 0.9837832277749422, 0.07702879908521437, 0.8986693226608343, 0.9747615217679361, 0.99779704935067, 0.4234764645331194, 0.5682089270950715, 0.9643863309296408, 0.0021762296073373866, 0.1806270574090031, 0.21181968178083896, 0.6042664209706811, 0.6351259185028848, 0.1304790406592029, 0.23025713057506397, 0.003198015702431444, 0.9955277116278552, 0.9967142381693639, 0.9735660005192789, 0.9819115063426996, 0.012085917226107546, 0.821842371375313, 0.15711692393939808, 0.1818645586358965, 0.7001785507482016, 0.10911873518153792, 0.9642489712366593, 0.44475632275344806, 0.31676374755591236, 0.04790783540913347, 0.02359639654479708, 0.050052962367751384, 0.020021184947100555, 0.02216631190571847, 0.05648834324360514, 0.005005296236775139, 0.0128707617517075, 0.9645724896336902, 0.9888546616865143, 0.9898311087054803, 0.9916143977685327, 0.9879742798618539, 0.9730094663963732, 0.9918809309736869, 0.005869117934755544, 0.9737080333849393, 0.9841800771300103, 0.5958510884575302, 0.07729960066476067, 0.03542898363801531, 0.08535164240067325, 0.0917932757894033, 0.10789735926122844, 0.000805204173591257, 0.001610408347182514, 0.003220816694365028, 0.001610408347182514, 0.9000774379682716, 0.047838761466817585, 0.001771805980252503, 0.037207925585302566, 0.001771805980252503, 0.0053154179407575095, 0.003543611960505006, 0.001771805980252503, 0.001771805980252503, 0.9898319093125464, 0.009924880769803282, 0.7939904615842626, 0.19353517501116402, 0.9689431079601326, 0.9936498008630364, 0.0026711016152232165, 0.23860923197756334, 0.7525368085446228, 0.9856489046648569, 0.05937427551637815, 0.05937427551637815, 0.8757705638665778, 0.989102475709019, 0.991719895023271, 0.8895388820641185, 0.014637139420651165, 0.009314543267687105, 0.03991947114723045, 0.013971814901530656, 0.011975841344169135, 0.013971814901530656, 0.0019959735573615222, 0.0039919471147230445, 0.0006653245191205074, 0.8809377949320777, 0.11211935571862808, 0.702956598040906, 0.10595618090405877, 0.06655491291554229, 0.012817279948071626, 0.014431307793384349, 0.016899820968568513, 0.06560548477124069, 0.005981397309100092, 0.003607826948346087, 0.00503196916479849, 0.540960786638644, 0.07425734783379172, 0.10140519542894139, 0.2195781790784164, 0.024752449277930574, 0.02355475011932103, 0.011178525480355743, 0.0015969322114793918, 0.0011976991586095439, 0.0015969322114793918, 0.9896431609995405, 0.9926013725941237, 0.9826950383437453, 0.9885199283231783, 0.9866501035506244, 0.9908585113788181, 0.733928134834777, 0.017871626659937752, 0.19897077681397365, 0.025020277323912852, 0.022637393769254485, 0.0011914417773291836, 0.9804877798527675, 0.9875292473746401, 0.6646890538794473, 0.09295651430193774, 0.0694675026234911, 0.08196165777160103, 0.015992518589580687, 0.04747778956281767, 0.01999064823697586, 0.003998129647395172, 0.002998597235546379, 0.0004997662059243965, 0.010547939025529245, 0.9809583293742198, 0.984478833000495, 0.6459655717462905, 0.13188463756486765, 0.15610834650535355, 0.018840662509266807, 0.03297115939121691, 0.00807456964682863, 0.000672880803902386, 0.00336440401951193, 0.0020186424117071577, 0.6923159477448614, 0.14005594096249574, 0.028669525443422175, 0.06923159477448614, 0.02739532431260341, 0.012635827880619403, 0.013379111873597015, 0.012848194735755863, 0.0012742011308187634, 0.0021236685513646054, 0.5062665733185042, 0.013682880359959572, 0.47205937241860524, 0.21083788452855895, 0.5545953049555572, 0.11458580680899942, 0.11458580680899942, 0.6753799994567009, 0.07306574902080423, 0.025056578852684173, 0.12509162266912557, 0.020848603778187594, 0.04858298495100596, 0.014154097977852128, 0.016449357109395716, 0.0013389011600670932, 0.4762591518320415, 0.00610588656194925, 0.00610588656194925, 0.48847092495593997, 0.024423546247797, 0.9893505556143327, 0.4310982559136439, 0.026635361349355575, 0.2924957274105158, 0.10308871337065398, 0.0054257217563502096, 0.04389902148319715, 0.08483855837202146, 0.0019729897295818945, 0.004439226891559262, 0.00690546405353663, 0.2485037949453573, 0.729979897651987, 0.9561278775101504, 0.031870929250338347, 0.5635348993280038, 0.15982219276023715, 0.03787693585647239, 0.051734351413718384, 0.013857415557245996, 0.12841205083047955, 0.023095692595409993, 0.018476554076327992, 0.0018476554076327994, 0.0018476554076327994, 0.034643144514695856, 0.952686474154136, 0.9871686041904466, 0.9919457628081739, 0.9967581388002114, 0.80810497755241, 0.12781464611467794, 0.014571702325777616, 0.01498803667794269, 0.005412346578145971, 0.00707768398680627, 0.01498803667794269, 0.005828680930311046, 0.0004163343521650747, 0.0012490030564952241, 0.9408236484356104, 0.048663292160462605, 0.9820119497466587, 0.9937901514130207, 0.9071821962715859, 0.07559851635596548, 0.9769696733755835, 0.9841310632314625, 0.9891224211977709, 0.9880974541290822, 0.9972948126806203, 0.9916572830852967, 0.9544608905991053, 0.04299373381077051, 0.9760602708160947, 0.9816016575452079, 0.14845565156998233, 0.7104663325134868, 0.13785167645784072, 0.9800908273747299, 0.9404736483428421, 0.9690291558490376, 0.014250428762485848, 0.9673387408366704, 0.9843683337252823, 0.990373300702704, 0.48387506550706033, 0.41167276801589964, 0.025929001861466548, 0.04108749525740084, 0.007180338977021505, 0.008377062139858423, 0.017950847442553763, 0.0015956308837825567, 0.0007978154418912783, 0.0015956308837825567, 0.7533790233102979, 0.12652607830134605, 0.03582016828622582, 0.04217535943378201, 0.01964331809244642, 0.011554892995556716, 0.006355191147556194, 0.004621957198222687, 0.8602084253361757, 0.02973831944183962, 0.10793908538149195, 0.0011014192385866526, 0.33619241491618235, 0.5902044617417423, 0.04109018404531117, 0.03361924149161823, 0.1738641119250418, 0.7156732049007535, 0.10917048888316579, 0.8030692326560569, 0.09623891106351538, 0.05337620277472282, 0.012130955176073367, 0.0008087303450715578, 0.005661112415500905, 0.016983337246502715, 0.008896033795787135, 0.0008087303450715578, 0.0016174606901431157, 0.953487910202166, 0.04294990586496243, 0.9849241347797022, 0.006746055717669193, 0.24839374682075416, 0.7338906156067736, 0.9846337782632386, 0.9846920795336975, 0.8478444806898845, 0.14238609599372107, 0.9922008621185879, 0.03653352939590284, 0.9498717642934739, 0.9942270295577776, 0.9963719321273629, 0.9883962545647573, 0.9894840448443804, 0.9939634828337968, 0.9949557345832248, 0.9948048965181571, 0.9901502706221789, 0.9944993060798731, 0.9863979311518302, 0.9764216243718632, 0.9690465956230351, 0.9946091009978888, 0.9918408983820906, 0.22185106880040165, 0.7679460073860057, 0.9947649287052547, 0.9892401908602344, 0.980263643364261, 0.9918058887013584, 0.9907832301711982, 0.00908975440524035, 0.9825010392018475, 0.9899579715451647, 0.9812831866626627, 0.9826747871928859, 0.9926342243641535, 0.9276082213716684, 0.9809287160678818, 0.9779110653398192, 0.9137808733455012, 0.0230302496534232, 0.025258983490851254, 0.000742911279142684, 0.002971645116570736, 0.009657846628854891, 0.015601136861996363, 0.001485822558285368, 0.008172024070569522, 0.03541887385485021, 0.9563095940809557, 0.682799988873252, 0.12321202806735373, 0.13347969707296656, 0.019679698927424556, 0.011978947173214946, 0.006845112670408541, 0.015401503508419217, 0.004278195419005338, 0.0008556390838010676, 0.0008556390838010676, 0.9994311332273855, 0.9924175037186664, 0.9946482562659872, 0.018683153045713805, 0.9715239583771178, 0.8476977568236037, 0.14311780310008895, 0.9953000338016753, 0.9946833214620686, 0.23444287760318175, 0.5262494380241634, 0.029928877991895544, 0.014964438995947772, 0.07232812181374756, 0.10973921930361699, 0.012470365829956476, 0.9937165291687273, 0.9769449777228385, 0.9921545921161228, 0.9892884073493021, 0.9896974484818538, 0.950640289580271, 0.9931781325584582, 0.36001232138506456, 0.6393043913385004, 0.9908125832894695, 0.9873288125302501, 0.6390453855763292, 0.3307999642983351, 0.015036362013560687, 0.007518181006780343, 0.007518181006780343, 0.19722745368862057, 0.052593987650298823, 0.7494643240167582, 0.9917686396354042, 0.9632725344538698, 0.009262235908210287, 0.0046311179541051435, 0.018524471816420574, 0.9739510257809134, 0.9854012582705155, 0.0071927099143833245, 0.9840133896808797, 0.9851336088882132, 0.7629471064939728, 0.053433840671419035, 0.06720544909188786, 0.015699633599334458, 0.04599717212436587, 0.006885804210234412, 0.042416553935043975, 0.0033051860209125177, 0.001101728673637506, 0.0013771608420468824, 0.9709463729620947, 0.97533944319957, 0.015005222203070307, 0.9927738462813541, 0.9944023025013136, 0.9915742633907121, 0.9898042078665522, 0.9950141320136978, 0.9912910903530748, 0.6746108622492789, 0.28721056511602966, 0.01669828866953661, 0.01669828866953661, 0.09624380690115891, 0.14757383724844367, 0.7442854400356289, 0.006416253793410594, 0.006416253793410594, 0.9593348528361448, 0.8914576345987948, 0.09438963189869591, 0.9993281774262173, 0.9921313328207181, 0.9977520696505487, 0.9905714836107404, 0.9885428564906161, 0.9539881915238382, 0.9892672721465293, 0.9352391083100359, 0.02493970955493429, 0.0020783091295778575, 0.0020783091295778575, 0.006234927388733573, 0.029096327814090005, 0.9779887140628168, 0.9889539045121009, 0.9860724088864025, 0.009046535861343142, 0.9948379829928105, 0.9816726354026026, 0.9861809682948451, 0.987959056498755, 0.8372066617949907, 0.08159217466646096, 0.0177374292753176, 0.06030725953607984, 0.9807748807703578, 0.8556227588634694, 0.050523377778706774, 0.02760073415688611, 0.015905507819222505, 0.00561370864207853, 0.011695226337663605, 0.02339045267532721, 0.004678090535065442, 0.0014034271605196326, 0.0032746633745458094, 0.513950765182747, 0.052101538051171944, 0.35764615102923114, 0.0423876919738348, 0.0017661538322431168, 0.013246153741823375, 0.006181538412850908, 0.0008830769161215584, 0.01147999990958026, 0.9722758056669228, 0.012465074431627216, 0.012465074431627216, 0.02005776401116193, 0.9627726725357727, 0.5749178523910178, 0.4102937977416074, 0.007598033291511248, 0.0025326777638370827, 0.0025326777638370827, 0.9890365531271356, 0.2481286082793548, 0.13243674184235502, 0.4384112833402097, 0.009133568402921035, 0.053279149017039375, 0.0045667842014605175, 0.08067985422580248, 0.02283392100730259, 0.0030445228009736785, 0.007611307002434196, 0.9937388821410906, 0.9728409813563618, 0.9814190033497517, 0.07343758348006274, 0.9207943159423252, 0.027913988885575215, 0.9658240154409025, 0.989790407348036, 0.9774889191264914, 0.9742987079502123, 0.48749254274058396, 0.22216873259324973, 0.0927034999309963, 0.03836006893696398, 0.007991681028534163, 0.0031966724114136655, 0.13426024127937394, 0.0015983362057068328, 0.0015983362057068328, 0.009590017234240996, 0.9910524472011636, 0.008521517172838897, 0.9976089230540078, 0.998928799880878, 0.9951163400481879, 0.741034959219959, 0.031668160650425596, 0.1448818349756971, 0.048293944991899034, 0.005541928113824479, 0.006333632130085119, 0.015834080325212798, 0.0039585200813031995, 0.0015834080325212798, 0.0007917040162606399, 0.9884256645359678, 0.9765714198736102, 0.6958980404506666, 0.1264592911561874, 0.029755127330867624, 0.052443411920654194, 0.029941096876685547, 0.04872402100429574, 0.009856385928349901, 0.0029755127330867628, 0.0018596954581792265, 0.0020456650039971493, 0.9772709485544817, 0.9930794614760926, 0.5942090903495024, 0.1277822644704179, 0.09702252926606535, 0.049876766896777294, 0.021991773300308146, 0.08049276502073568, 0.012648863074687038, 0.008767961904044424, 0.00330595284906593, 0.0038809011706426137, 0.9885118358541203, 0.0327946044932094, 0.9510435303030728, 0.9810411661804344, 0.7528081998474979, 0.09189005533955132, 0.0491805929986331, 0.05435749752480501, 0.0025884522630859525, 0.013805078736458415, 0.02157043552571627, 0.006471130657714882, 0.004314087105143255, 0.0025884522630859525, 0.9800942091983487, 0.9954708740242922, 0.9970826363864427, 0.8611728823711824, 0.1387802617268394, 0.016901288697655902, 0.9802747444640424, 0.9786251769364099, 0.01467937765404615, 0.00489312588468205, 0.9920314688604359, 0.9988460931845817, 0.0006469210448086669, 0.28361578964359746, 0.009453859654786583, 0.01654425439587652, 0.1347175000807088, 0.5175988160995654, 0.004726929827393291, 0.0023634649136966457, 0.028361578964359747, 0.017955616783723812, 0.3555212123177315, 0.6248554640735886, 0.981258920185688, 0.5969259387386093, 0.27707578332893734, 0.029367479339011796, 0.00829950503059029, 0.007022658102807168, 0.01596058659728902, 0.054265994430782664, 0.00893792849448185, 0.0006384234638915607, 0.0012768469277831215, 0.9947170360682177, 0.9046222513978655, 0.022244809460603247, 0.07044189662524361, 0.02522321928418268, 0.9584823327989418, 0.9944298920125385, 0.9922675946112364, 0.019839329341187078, 0.9721271377181667, 0.9807357528954445, 0.010433359073355793, 0.9882520968409798, 0.9783933312059798, 0.005893935730156505, 0.005893935730156505, 0.01178787146031301, 0.9865979222871636, 0.9852616371100096, 0.7528781303688001, 0.16631719743679158, 0.0117124786927318, 0.014991972726696706, 0.004216492329383448, 0.010775480397313257, 0.02483045482859142, 0.01358647528356889, 0.00046849914770927205, 0.00046849914770927205, 0.9871034556343878, 0.8224412678518567, 0.01455648261684702, 0.15284306747689372, 0.9695967334663464, 0.9917146787370152, 0.9771032923904245, 0.009771032923904245, 0.9786261292191248, 0.9877771796219215, 0.17545456555049763, 0.3965753878881111, 0.23073477113490098, 0.014420923195931312, 0.0817185647769441, 0.0985429751721973, 0.9971200804155094, 0.9763277656298306, 0.9925774314574327, 0.5877307395815121, 0.2997662808307311, 0.0456337120424735, 0.015735762773266725, 0.009441457663960035, 0.0023603644159900087, 0.030684737407870113, 0.007867881386633363, 0.0007867881386633362, 0.9460173378614096, 0.9747561903841975, 0.9848520656355982, 0.9849190229921551, 0.9786500281151964, 0.9915063690973303, 0.977753460134583, 0.9946582353061098, 0.9885769773376328, 0.9867756192228682, 0.023415038139873428, 0.8663564111753168, 0.023415038139873428, 0.046830076279746856, 0.007805012713291142, 0.039025063566455714, 0.9958959537082192, 0.008479349687995713, 0.5963809280556985, 0.39287653554380136, 0.5411775521246418, 0.22616375312671597, 0.10949197572007678, 0.023334355481327836, 0.0035899008432812058, 0.015257078583945125, 0.065515690389882, 0.0044873760541015075, 0.0017949504216406029, 0.009872227319023315, 0.9677379533847925, 0.08847591749937564, 0.9024543584936315, 0.9728331098760317, 0.9736673310886426, 0.012461588445546646, 0.9782346929754118, 0.6061102439984981, 0.2609461375401828, 0.03420545199136458, 0.041979418353038346, 0.012438346178678028, 0.013993139451012783, 0.023840163509132886, 0.004664379817004261, 0.001036528848223169, 0.0012956610602789613, 0.0179808682989047, 0.9709668881408539, 0.9403490534890426, 0.009661120412558656, 0.038644481650234624, 0.006440746941705771, 0.8299833598279663, 0.03340570166207355, 0.028246519938201188, 0.038564883385945915, 0.01392979065445538, 0.025537949533168198, 0.01676734060258518, 0.010963261163228771, 0.001805713603355327, 0.0007738772585808544, 0.9829897000823812, 0.6579734407015122, 0.11214515876107535, 0.03020884350390591, 0.11214515876107535, 0.015311331638966008, 0.013242232768835467, 0.021104808475331523, 0.0347608610181931, 0.0016552790961044334, 0.0016552790961044334, 0.9793045125811837, 0.9952094363864, 0.9854571801154722, 0.7460846482995913, 0.05753236828561246, 0.03243846296954745, 0.11934906186908967, 0.013465022364717808, 0.009792743537976588, 0.0012240929422470735, 0.019585487075953176, 0.0006120464711235368, 0.042723073465974544, 0.9185460795184527, 0.010680768366493636, 0.021361536732987272, 0.9289970647528076, 0.04531692998794183, 0.011329232496985458, 0.9887057941553895, 0.9798263959606701, 0.9865100421126958, 0.9400722446322164, 0.04623306121142048, 0.9825183389355667, 0.9918005063533591, 0.9809475662278536, 0.01962637393622351, 0.961692322874952, 0.9881459006109998, 0.9770346578349521, 0.9850025464389393, 0.9838272514302029, 0.001948142261570575, 0.9974488379241344, 0.9948741850292573, 0.034767159680443985, 0.9503023645988022, 0.995245174525593, 0.9883413378885841, 0.9865966550712092, 0.997748878255719, 0.001240981191860347, 0.981275410704448, 0.9997662372387598, 0.3096864292373097, 0.029033102740997786, 0.038710803654663714, 0.41130228883080194, 0.029033102740997786, 0.004838850456832964, 0.004838850456832964, 0.17419861644598672, 0.34427385650010917, 0.6363850074698988, 0.9871688750771174, 0.9967131655365795, 0.9726892497928712, 0.8671812352895123, 0.13172373194271073, 0.1495755377014605, 0.8200865687769732, 0.020631108648477312, 0.005157777162119328, 0.8939209680100757, 0.010641916285834234, 0.0957772465725081, 0.9875408175257971, 0.9955750369055887, 0.9936149966896801, 0.9846790330714532, 0.9627108524466711, 0.03702734047871812, 0.640476382895613, 0.3274927783090837, 0.029018347445108682, 0.6907943971870917, 0.003795573610918086, 0.2998503152625288, 0.003795573610918086, 0.962308067149041, 0.9933375168013828, 0.08856989932550233, 0.8856989932550232, 0.9200769807189468, 0.07839884240852762, 0.9930202736392878, 0.9796032825092745, 0.01959206565018549, 0.9890110998232512, 0.2815770957792647, 0.6260949541444827, 0.044721068153177335, 0.004969007572575259, 0.03975206058060207, 0.0016563358575250864, 0.003312671715050173, 0.9850940048342526, 0.9781376928831904, 0.035435375228329305, 0.9567551311648912, 0.9860375907500202, 0.9789497220798518, 0.022836432908229898, 0.9591301821456557, 0.9931701282701918, 0.989160358772232, 0.9570469265423905, 0.589944740935277, 0.26026973864791636, 0.049687859196420395, 0.04653307448553656, 0.0007886961777209587, 0.01183044266581438, 0.01183044266581438, 0.024449581509349717, 0.002366088533162876, 0.0031547847108838348, 0.9697043323524317, 0.9856261678735637, 0.9907378694309896, 0.9829118565167559, 0.976119367603392, 0.9946149159823161, 0.6103695686769338, 0.19803101561518296, 0.10851014554256601, 0.027127536385641502, 0.0488295654941547, 0.00813826091569245, 0.4820244907038952, 0.5177300085338133, 0.9956194084553761, 0.9841154875733932, 0.9750795220000573, 0.9954502057786737, 0.0016958265856536177, 0.0016958265856536177, 0.0008479132928268089, 0.021274669417683943, 0.9573601237957774, 0.9627256491958519, 0.957586418653769, 0.006158112017066039, 0.021553392059731134, 0.0030790560085330195, 0.009237168025599058, 0.8034749422854734, 0.1934291527724288, 0.9882093024723697, 0.9938090655139751, 0.8918964666527738, 0.0843685846833705, 0.024105309909534425, 0.9921551101963438, 0.9979442104081346, 0.9220870575278929, 0.0016795756967721183, 0.006718302787088473, 0.06718302787088473, 0.9746164606281386, 0.9983467000117434, 0.7380406875393847, 0.03320476609542222, 0.09984979308126965, 0.06664502698584743, 0.016955625240215603, 0.02590442745032939, 0.012716718930161701, 0.0032969271300419224, 0.0018839583600239558, 0.0016484635650209612, 0.9889603997024256, 0.7971729359384725, 0.06421603134408008, 0.030157148897030008, 0.060314297794060015, 0.009591761643799303, 0.01788294543759192, 0.013168350731317686, 0.006340317018782589, 0.0004877166937525069, 0.0007315750406287603, 0.8245015423415921, 0.03386204997200426, 0.011812343013489858, 0.05827422553321663, 0.034649539506236914, 0.013387322081955172, 0.010237363945024544, 0.010237363945024544, 0.0007874895342326572, 0.0023624686026979718, 0.899267609706612, 0.027086373786343734, 0.042254743106696226, 0.016251824271806242, 0.008667639611629994, 0.004333819805814997, 0.0021669099029074986, 0.9835753729299389, 0.7281892491937187, 0.19350483545007913, 0.015276697535532562, 0.0407378600947535, 0.010184465023688374, 0.005092232511844187, 0.010184465023688374, 0.9891686131694426, 0.7853366700359645, 0.10336910015857995, 0.021479293539445183, 0.052355778002397636, 0.007607249795220169, 0.012082102615937916, 0.0062647939490048455, 0.009844676205579043, 0.001342455846215324, 0.001342455846215324, 0.6949213756939858, 0.15449224159553532, 0.08811344577692128, 0.007049075662153703, 0.011748459436922837, 0.01586042023984583, 0.013510728352461263, 0.007636498633999844, 0.0023496918873845674, 0.0035245378310768513, 0.9940941907924736, 0.8994684085946693, 0.027227151827730528, 0.03228362288145191, 0.004473032085984301, 0.006806787956932632, 0.011182580214960752, 0.013808055569777624, 0.0021392762150359702, 0.0007779186236494437, 0.0016530770752550678, 0.21220263703098083, 0.3383771779683208, 0.0229408256249709, 0.40146444843699075, 0.0229408256249709, 0.9879329944707567, 0.9866511456377578, 0.9950075410741663, 0.9880958351054193, 0.9961141757987358, 0.6808176150946117, 0.2053730556431871, 0.10743503777866148, 0.004154946212434421, 0.0005935637446334888, 0.0011871274892669777, 0.9556782908323039, 0.9842396373913039, 0.015352912109657101, 0.005117637369885701, 0.9723511002782831, 0.005117637369885701, 0.9651313534896137, 0.9801105973099389, 0.9940539767585771, 0.9853665772829464, 0.9682788783201769, 0.9733302745267893, 0.9744317765876108, 0.9754695074574566, 0.004951621865266278, 0.014854865595798832, 0.638359122894831, 0.17685687175283024, 0.06226617674138106, 0.072207835212694, 0.011511394019414985, 0.012034639202115666, 0.01831358139452384, 0.003139471096204087, 0.0015697355481020434, 0.004185961461605449, 0.9845378490519473, 0.9841300148159753, 0.8080695204977592, 0.04380189924193461, 0.08760379848386922, 0.023411359939654704, 0.0007552051593437001, 0.015859308346217703, 0.009817667071468101, 0.004531230956062201, 0.005286436115405901, 0.0007552051593437001, 0.5664105945114613, 0.24932490893372605, 0.13204664166524865, 0.003474911622769701, 0.009556006962616678, 0.02953674879354246, 0.006081095339846977, 0.0008687279056924253, 0.0017374558113848505, 0.9583695389088548, 0.002508820782483913, 0.02759702860732304, 0.010035283129935652, 0.008243256177277442, 0.9850691131846544, 0.004121628088638721, 0.6556029705665735, 0.03822757845869233, 0.11754980376047891, 0.10608153022287121, 0.036316199535757716, 0.02532577072888367, 0.0071676709610048114, 0.012423962999075007, 0.0009556894614673083, 0.9795466220882768, 0.9284381401884305, 0.035285059959655314, 0.011761686653218438, 0.0029404216633046095, 0.002205316247478457, 0.010291475821566134, 0.008086159574087676, 0.0007351054158261524, 0.6932002669234564, 0.13540398334254247, 0.06259240739419415, 0.03023170697270602, 0.0012773960692692686, 0.0651471995327327, 0.0068127790361027655, 0.0021289934487821144, 0.0008515973795128457, 0.0017031947590256914, 0.15770830141125444, 0.00575577742376841, 0.7229256444253123, 0.05410430778342305, 0.014965021301797866, 0.039139286481625186, 0.0046046219390147285, 0.9919958904619678, 0.9888686792296398, 0.9936436947791737, 0.00509560869117525, 0.9877079254500803, 0.010267234152287738, 0.9760084085103744, 0.9816497874962363, 0.9426857149520649, 0.851175850782641, 0.012842441674586433, 0.08235050228446146, 0.01072410077980929, 0.007546589437643574, 0.009135345108726432, 0.020918616335924293, 0.003309907648089287, 0.0011915667533121434, 0.0007943778355414289, 0.9914285391333412, 0.9122956061628993, 0.07894865822563552, 0.8849680810394889, 0.0234464741125681, 0.014722204675333457, 0.009814803116888971, 0.0032716010389629902, 0.02562754147187676, 0.021265406753259438, 0.011995870476197632, 0.00436213471861732, 0.9940454316127282, 0.04582239089613038, 0.9164478179226077, 0.015274130298710128], \"Term\": [\"!!\", \"!!\", \"!!\", \"#Islam\", \"#Islam\", \"#MKR\", \"#MKR\", \"#MKR\", \"#MKR\", \"#MKR\", \"#MKR\", \"#MKR\", \"#MKR\", \"#MKR\", \"#MKR\", \"#MileyCyrus\", \"#notsexist\", \"&\", \"&\", \"&\", \"&\", \"&amp;\", \"&amp;\", \"&amp;\", \"&amp;\", \"&amp;\", \"&amp;\", \"&amp;\", \"&amp;\", \"&amp;\", \"-\", \"-\", \"-\", \"-\", \"-\", \"-\", \"-\", \"-\", \"-\", \"-\", \".\", \".\", \".\", \"..\", \"/\", \"1st\", \"2.\", \"9/11\", \"90%\", \"@98Halima\", \"@98Halima\", \"@BilalIGhumman\", \"@BilalIGhumman\", \"@MT8_9\", \"@MT8_9\", \"@Vandaliser\", \"@cdnKhadija\", \"@cdnKhadija\", \"@greenlinerzjm\", \"@greenlinerzjm\", \"@johnnygjokaj\", \"@johnnygjokaj\", \"@rfrankh53\", \"@rfrankh53\", \"@sajid_fairooz\", \"ARE\", \"Al\", \"America\", \"American\", \"Any\", \"Arab\", \"As\", \"As\", \"As\", \"BUT\", \"Because\", \"Because\", \"Because\", \"Because\", \"Call\", \"Call\", \"Christian\", \"Christianity\", \"Christians\", \"Christians\", \"Christians,\", \"Cyrus\", \"Cyrus\", \"Did\", \"Don't\", \"Don't\", \"Don't\", \"Don't\", \"Every\", \"Female\", \"Feminazi\", \"From\", \"GAY\", \"GAY\", \"GAY\", \"GAY\", \"GET\", \"Gay\", \"God\", \"He's\", \"Hey\", \"His\", \"Humanity\", \"I\", \"I\", \"I\", \"I\", \"I\", \"I\", \"I\", \"I\", \"I\", \"I\", \"I'm\", \"I'm\", \"I'm\", \"I'm\", \"I'm\", \"I'm\", \"I'm\", \"I'm\", \"I'm\", \"I'm\", \"ISIS\", \"ISIS\", \"ISIS\", \"ISIS\", \"ISIS\", \"ISIS\", \"ISIS\", \"ISIS\", \"ISIS.\", \"Im\", \"Im\", \"Im\", \"Im\", \"Im\", \"India\", \"Indian\", \"Indian\", \"Indians\", \"Islam\", \"Islam\", \"Islam\", \"Islam\", \"Islam.\", \"Islam.\", \"Islam.\", \"Islam.\", \"Islam.\", \"Islamic\", \"Islamic\", \"Islamic\", \"Islamic\", \"It\\u2019s\", \"It\\u2019s\", \"I\\u2019m\", \"I\\u2019m\", \"Jewish\", \"Jews\", \"Jews\", \"Keep\", \"Like\", \"Like\", \"Like\", \"London\", \"London\", \"London\", \"Makes\", \"Men\", \"Men\", \"Middle\", \"Miley\", \"Mohammed\", \"Mohammed\", \"More\", \"Muslim\", \"Muslim\", \"Muslim\", \"Muslim\", \"Muslims\", \"Muslims\", \"Muslims\", \"Muslims\", \"Muslims,\", \"Muslims.\", \"N\", \"Obama\", \"Only\", \"Only\", \"Only\", \"Or\", \"Or\", \"Or\", \"Party\", \"RT\", \"RT\", \"RT\", \"RT\", \"RT\", \"RT\", \"RT\", \"RT\", \"RT\", \"RT\", \"Remember\", \"Right\", \"Shame\", \"Sharia\", \"Still\", \"Such\", \"THE\", \"THE\", \"Tell\", \"That\\u2019s\", \"The\", \"The\", \"The\", \"The\", \"The\", \"The\", \"The\", \"The\", \"The\", \"The\", \"They\", \"They\", \"They\", \"They\", \"They\", \"They\", \"They\", \"They\", \"They\", \"Those\", \"Trump\", \"Trump\", \"Trump\", \"Turkey\", \"U\", \"U\", \"Ur\", \"Ur\", \"Was\", \"Where\", \"Where\", \"Where\", \"Which\", \"Yes\", \"You\", \"You\", \"You\", \"You\", \"You\", \"You\", \"You\", \"You\", \"You\", \"You\", \"You're\", \"You're\", \"a\", \"a\", \"a\", \"a\", \"a\", \"a\", \"a\", \"a\", \"a\", \"a\", \"about\", \"about\", \"about\", \"about\", \"about\", \"about\", \"about\", \"about\", \"about\", \"about\", \"abt\", \"accept\", \"according\", \"act\", \"acting\", \"actual\", \"against\", \"against\", \"against\", \"against\", \"against\", \"against\", \"ago\", \"ago.\", \"all\", \"all\", \"all\", \"all\", \"all\", \"all\", \"all\", \"all\", \"all\", \"all\", \"allowed\", \"allowed\", \"alone\", \"an\", \"an\", \"an\", \"an\", \"an\", \"an\", \"an\", \"an\", \"an\", \"and\", \"and\", \"and\", \"and\", \"and\", \"and\", \"and\", \"and\", \"and\", \"and\", \"anti\", \"anti\", \"anti\", \"anything\", \"anything\", \"anything\", \"anything\", \"are\", \"are\", \"are\", \"are\", \"are\", \"are\", \"are\", \"are\", \"are\", \"aren't\", \"aren't\", \"aren't\", \"aren't\", \"aren't\", \"aren\\u2019t\", \"as\", \"as\", \"as\", \"as\", \"as\", \"as\", \"as\", \"as\", \"as\", \"as\", \"asked\", \"asked\", \"asking\", \"asking\", \"at\", \"at\", \"at\", \"at\", \"at\", \"at\", \"at\", \"at\", \"at\", \"at\", \"attacked\", \"attacked\", \"attacks\", \"b\", \"bc\", \"be\", \"be\", \"be\", \"be\", \"be\", \"be\", \"be\", \"be\", \"be\", \"be\", \"beat\", \"beat\", \"became\", \"become\", \"behind\", \"behind\", \"believes\", \"bet\", \"between\", \"biggest\", \"bitch\", \"bitch.\", \"black\", \"black\", \"blind\", \"born\", \"both\", \"both\", \"both\", \"boy\", \"break\", \"bring\", \"bring\", \"brothers\", \"bunch\", \"business\", \"but\", \"but\", \"but\", \"but\", \"but\", \"but\", \"but\", \"but\", \"but\", \"but\", \"by\", \"by\", \"by\", \"by\", \"by\", \"by\", \"by\", \"by\", \"call\", \"call\", \"call\", \"call\", \"called\", \"called\", \"called\", \"called\", \"calling\", \"calling\", \"calling\", \"can\", \"can\", \"can\", \"can\", \"can\", \"can\", \"can\", \"can\", \"can\", \"can\", \"cannot\", \"cannot\", \"can\\u2019t\", \"can\\u2019t\", \"case\", \"case\", \"certain\", \"chance\", \"child\", \"child\", \"clearly\", \"comes\", \"comes\", \"comment\", \"community\", \"complete\", \"condemn\", \"consider\", \"countries\", \"country\", \"country.\", \"crime\", \"crimes\", \"criminal\", \"crying\", \"culture\", \"d\", \"damn\", \"damn\", \"date\", \"daughter\", \"dead\", \"deal\", \"death\", \"death\", \"debate\", \"defend\", \"defending\", \"deny\", \"destroy\", \"did.\", \"disagree\", \"disgusting\", \"do\", \"do\", \"do\", \"do\", \"do\", \"do\", \"do\", \"do\", \"do\", \"do.\", \"do.\", \"don't\", \"don't\", \"don't\", \"don't\", \"don't\", \"don't\", \"don't\", \"don't\", \"don't\", \"don't\", \"don\\u2019t\", \"dumb\", \"during\", \"e\", \"e\", \"else\", \"else\", \"entire\", \"etc.\", \"every\", \"every\", \"every\", \"every\", \"every\", \"every\", \"every\", \"evil\", \"except\", \"fake\", \"false\", \"fans\", \"fascist\", \"fellow\", \"female\", \"female\", \"feminist\", \"feminists\", \"few\", \"few\", \"few\", \"few\", \"few\", \"fighting\", \"fighting\", \"fighting\", \"fine\", \"first\", \"first\", \"first\", \"first\", \"focus\", \"follow\", \"follow\", \"following\", \"football\", \"for\", \"for\", \"for\", \"for\", \"for\", \"for\", \"for\", \"for\", \"for\", \"for\", \"forced\", \"forget\", \"forget\", \"forgot\", \"free\", \"freedom\", \"friends\", \"front\", \"full\", \"funny\", \"funny\", \"funny\", \"funny\", \"funny.\", \"funny.\", \"funny.\", \"funny.\", \"funny.\", \"further\", \"gave\", \"gave\", \"gay\", \"gay,\", \"gays\", \"genocide\", \"girls,\", \"girls.\", \"gives\", \"go\", \"go\", \"go\", \"go\", \"go\", \"go\", \"gone\", \"government\", \"group\", \"group\", \"groups\", \"grown\", \"happen\", \"happening\", \"hate\", \"hate\", \"hate\", \"hate\", \"hating\", \"have\", \"have\", \"have\", \"have\", \"have\", \"have\", \"have\", \"have\", \"have\", \"have\", \"he\", \"he\", \"he\", \"he\", \"he\", \"he\", \"he\", \"he\", \"he\", \"hear\", \"hear\", \"hear\", \"here.\", \"here.\", \"him\", \"him\", \"him\", \"him\", \"him\", \"him.\", \"his\", \"his\", \"his\", \"his\", \"his\", \"his\", \"his\", \"his\", \"his\", \"his\", \"history\", \"holy\", \"huge\", \"human\", \"human\", \"humanity\", \"humanity\", \"humanity.\", \"hurt\", \"hv\", \"i\", \"i\", \"i\", \"i\", \"i\", \"i\", \"i\", \"i\", \"i\", \"i\", \"idiot\", \"idiot\", \"idiot.\", \"idiots\", \"idiots.\", \"if\", \"if\", \"if\", \"if\", \"if\", \"if\", \"if\", \"if\", \"if\", \"if\", \"ignorant\", \"imagine\", \"in\", \"in\", \"in\", \"in\", \"in\", \"in\", \"in\", \"in\", \"in\", \"in\", \"including\", \"innocent\", \"is\", \"is\", \"is\", \"is\", \"is\", \"is\", \"is\", \"is\", \"is\", \"is\", \"is,\", \"issue\", \"issue\", \"issues\", \"it\", \"it\", \"it\", \"it\", \"it\", \"it\", \"it\", \"it\", \"it\", \"it\", \"itself\", \"it\\u2019s\", \"jihad\", \"joke\", \"joke\", \"joke,\", \"joke,\", \"joke.\", \"joke.\", \"joke.\", \"joke?\", \"jokes\", \"jokes\", \"jokes,\", \"jokes,\", \"jokes,\", \"jokes,\", \"jokes,\", \"jokes,\", \"jokes,\", \"jokes,\", \"jokes.\", \"jokes.\", \"jokes.\", \"judge\", \"just\", \"just\", \"just\", \"just\", \"just\", \"just\", \"just\", \"just\", \"just\", \"just\", \"kids\", \"killing\", \"killing\", \"killing\", \"know.\", \"know.\", \"knows\", \"laugh\", \"laughing\", \"laughing\", \"leave\", \"leave\", \"led\", \"let\", \"let\", \"let\", \"let\", \"lie\", \"lies\", \"like\", \"like\", \"like\", \"like\", \"like\", \"like\", \"like\", \"like\", \"like\", \"like\", \"liked\", \"live\", \"live\", \"live\", \"lived\", \"lives\", \"living\", \"living\", \"longer\", \"majority\", \"making\", \"making\", \"making\", \"making\", \"making\", \"making\", \"male\", \"married\", \"matter\", \"me\", \"me\", \"me\", \"me\", \"me\", \"me\", \"me\", \"me\", \"me\", \"me?\", \"members\", \"men.\", \"millions\", \"minorities\", \"minority\", \"mom\", \"mother\", \"mouth\", \"movie\", \"murder\", \"murder\", \"murder\", \"murder\", \"murder\", \"murder\", \"murdered\", \"muslim\", \"muslim\", \"muslim\", \"my\", \"my\", \"my\", \"my\", \"my\", \"my\", \"my\", \"my\", \"my\", \"my\", \"myself\", \"na\", \"na\", \"near\", \"nigga\", \"non\", \"non\", \"not\", \"not\", \"not\", \"not\", \"not\", \"not\", \"not\", \"not\", \"not\", \"not\", \"not.\", \"not.\", \"nothing\", \"nothing\", \"nothing\", \"nothing\", \"of\", \"of\", \"of\", \"of\", \"of\", \"of\", \"of\", \"of\", \"of\", \"of\", \"okay.\", \"on\", \"on\", \"on\", \"on\", \"on\", \"on\", \"on\", \"on\", \"on\", \"on\", \"out.\", \"part\", \"peace\", \"people\", \"people\", \"people\", \"people\", \"people\", \"people\", \"people\", \"people\", \"people\", \"people,\", \"people,\", \"people,\", \"people,\", \"play\", \"play\", \"play\", \"political\", \"pray\", \"present\", \"president\", \"president\", \"pro\", \"problems\", \"proof\", \"propaganda\", \"propaganda\", \"protest\", \"proud\", \"prove\", \"question\", \"r\", \"r\", \"race\", \"racism\", \"racism\", \"racist\", \"racist,\", \"racist.\", \"radical\", \"radical\", \"raised\", \"rape\", \"rape,\", \"rape,\", \"rape,\", \"rape,\", \"rape,\", \"rape,\", \"rape,\", \"rape,\", \"raped\", \"raped\", \"reality\", \"religion\", \"religion,\", \"religion.\", \"religion.\", \"religious\", \"religious\", \"religious\", \"religious\", \"respect\", \"respect\", \"respect\", \"responsible\", \"right.\", \"rights\", \"rules\", \"sad\", \"sad\", \"said\", \"said\", \"said\", \"says\", \"says\", \"says\", \"says\", \"second\", \"sense\", \"set\", \"set\", \"sexist\", \"sexist\", \"sexist,\", \"sexist.\", \"sexist.\", \"sexual\", \"she\", \"she\", \"she\", \"she\", \"she\", \"she\", \"she\", \"shouldn't\", \"showing\", \"side\", \"side\", \"simple\", \"simply\", \"sin\", \"sin\", \"slave\", \"slavery\", \"slur\", \"so\", \"so\", \"so\", \"so\", \"so\", \"so\", \"so\", \"so\", \"so\", \"so\", \"society\", \"son\", \"speak\", \"special\", \"sports\", \"state\", \"stop\", \"stop\", \"stop\", \"stop\", \"stop\", \"stop\", \"story\", \"story\", \"straight\", \"strong\", \"suicide\", \"support\", \"support\", \"support\", \"support\", \"supposed\", \"supposed\", \"swear\", \"take\", \"take\", \"take\", \"take\", \"take\", \"taken\", \"taken\", \"takes\", \"teach\", \"telling\", \"telling\", \"telling\", \"term\", \"terrorism.\", \"terrorist\", \"terrorist\", \"terrorist\", \"terrorist\", \"terrorist.\", \"terrorists\", \"that\", \"that\", \"that\", \"that\", \"that\", \"that\", \"that\", \"that\", \"that\", \"that\", \"that\\u2019s\", \"the\", \"the\", \"the\", \"the\", \"the\", \"the\", \"the\", \"the\", \"the\", \"the\", \"their\", \"their\", \"their\", \"their\", \"their\", \"their\", \"their\", \"their\", \"their\", \"their\", \"them\", \"them\", \"them\", \"them\", \"them\", \"them\", \"them\", \"them,\", \"them.\", \"them.\", \"them.\", \"them.\", \"them.\", \"them.\", \"them.\", \"themselves\", \"they\", \"they\", \"they\", \"they\", \"they\", \"they\", \"they\", \"they\", \"they\", \"they\", \"this\", \"this\", \"this\", \"this\", \"this\", \"this\", \"this\", \"this\", \"this\", \"this\", \"times\", \"to\", \"to\", \"to\", \"to\", \"to\", \"to\", \"to\", \"to\", \"to\", \"to\", \"told\", \"told\", \"told\", \"told\", \"told\", \"totally\", \"treat\", \"true\", \"trust\", \"truth\", \"u\", \"u\", \"u\", \"u\", \"u\", \"u\", \"u.\", \"ugly\", \"used\", \"used\", \"used\", \"used\", \"useless\", \"verses\", \"victim\", \"victims\", \"views\", \"vile\", \"violent\", \"war\", \"war\", \"war\", \"was\", \"was\", \"was\", \"was\", \"was\", \"was\", \"was\", \"was\", \"was\", \"was\", \"wearing\", \"weren't\", \"what\", \"what\", \"what\", \"what\", \"what\", \"what\", \"what\", \"what\", \"what\", \"what\", \"when\", \"when\", \"when\", \"when\", \"when\", \"when\", \"when\", \"when\", \"when\", \"which\", \"which\", \"which\", \"which\", \"white\", \"white\", \"white\", \"who\", \"who\", \"who\", \"who\", \"who\", \"who\", \"who\", \"who\", \"who\", \"wife\", \"will\", \"will\", \"will\", \"will\", \"will\", \"will\", \"will\", \"will\", \"with\", \"with\", \"with\", \"with\", \"with\", \"with\", \"with\", \"with\", \"with\", \"with\", \"woman\", \"woman\", \"woman\", \"woman\", \"woman\", \"woman\", \"woman\", \"woman,\", \"woman.\", \"word\", \"word\", \"world\", \"world\", \"worse\", \"years.\", \"yo\", \"you\", \"you\", \"you\", \"you\", \"you\", \"you\", \"you\", \"you\", \"you\", \"you\", \"you'll\", \"you,\", \"you,\", \"your\", \"your\", \"your\", \"your\", \"your\", \"your\", \"your\", \"your\", \"your\", \"you\\u2019re\", \"\\u2026\", \"\\u2026\", \"\\u2026\"]}, \"R\": 30, \"lambda.step\": 0.01, \"plot.opts\": {\"xlab\": \"PC1\", \"ylab\": \"PC2\"}, \"topic.order\": [3, 7, 5, 4, 8, 9, 2, 10, 6, 1]};\n",
       "\n",
       "function LDAvis_load_lib(url, callback){\n",
       "  var s = document.createElement('script');\n",
       "  s.src = url;\n",
       "  s.async = true;\n",
       "  s.onreadystatechange = s.onload = callback;\n",
       "  s.onerror = function(){console.warn(\"failed to load library \" + url);};\n",
       "  document.getElementsByTagName(\"head\")[0].appendChild(s);\n",
       "}\n",
       "\n",
       "if(typeof(LDAvis) !== \"undefined\"){\n",
       "   // already loaded: just create the visualization\n",
       "   !function(LDAvis){\n",
       "       new LDAvis(\"#\" + \"ldavis_el2401402063979149603377330049\", ldavis_el2401402063979149603377330049_data);\n",
       "   }(LDAvis);\n",
       "}else if(typeof define === \"function\" && define.amd){\n",
       "   // require.js is available: use it to load d3/LDAvis\n",
       "   require.config({paths: {d3: \"https://d3js.org/d3.v5\"}});\n",
       "   require([\"d3\"], function(d3){\n",
       "      window.d3 = d3;\n",
       "      LDAvis_load_lib(\"https://cdn.jsdelivr.net/gh/bmabey/pyLDAvis@3.2.2/pyLDAvis/js/ldavis.v3.0.0.js\", function(){\n",
       "        new LDAvis(\"#\" + \"ldavis_el2401402063979149603377330049\", ldavis_el2401402063979149603377330049_data);\n",
       "      });\n",
       "    });\n",
       "}else{\n",
       "    // require.js not available: dynamically load d3 & LDAvis\n",
       "    LDAvis_load_lib(\"https://d3js.org/d3.v5.js\", function(){\n",
       "         LDAvis_load_lib(\"https://cdn.jsdelivr.net/gh/bmabey/pyLDAvis@3.2.2/pyLDAvis/js/ldavis.v3.0.0.js\", function(){\n",
       "                 new LDAvis(\"#\" + \"ldavis_el2401402063979149603377330049\", ldavis_el2401402063979149603377330049_data);\n",
       "            })\n",
       "         });\n",
       "}\n",
       "</script>"
      ],
      "text/plain": [
       "PreparedData(topic_coordinates=              x         y  topics  cluster       Freq\n",
       "topic                                                \n",
       "2     -0.269616 -0.005733       1        1  52.010695\n",
       "6     -0.139981 -0.061642       2        1  11.788697\n",
       "4     -0.121911 -0.069898       3        1   7.312488\n",
       "3     -0.085546  0.058492       4        1   6.633752\n",
       "7      0.059149  0.192594       5        1   4.952422\n",
       "8     -0.013694  0.121480       6        1   4.947580\n",
       "1      0.007868 -0.100931       7        1   4.521433\n",
       "9      0.107191 -0.062451       8        1   2.754872\n",
       "5      0.236652 -0.007125       9        1   2.730181\n",
       "0      0.219888 -0.064786      10        1   2.347880, topic_info=           Term          Freq         Total Category  logprob  loglift\n",
       "8069       rape   2393.000000   2393.000000  Default  30.0000  30.0000\n",
       "1141        gay   1830.000000   1830.000000  Default  29.0000  29.0000\n",
       "5833      jokes   1545.000000   1545.000000  Default  28.0000  28.0000\n",
       "25            a  10532.000000  10532.000000  Default  27.0000  27.0000\n",
       "20           is   6957.000000   6957.000000  Default  26.0000  26.0000\n",
       "...         ...           ...           ...      ...      ...      ...\n",
       "2603     making     41.111321    416.062129  Topic10  -5.5111   1.4371\n",
       "4306  terrorist     40.462172    595.388467  Topic10  -5.5270   1.0628\n",
       "25            a     53.152250  10532.655957  Topic10  -5.2542  -1.5374\n",
       "5209    calling     27.043225    247.319585  Topic10  -5.9299   1.5384\n",
       "20           is     27.107761   6957.147016  Topic10  -5.9275  -1.7960\n",
       "\n",
       "[627 rows x 6 columns], token_table=      Topic      Freq    Term\n",
       "term                         \n",
       "1823      1  0.026728      !!\n",
       "1823      5  0.026728      !!\n",
       "1823      9  0.962192      !!\n",
       "8062      5  0.754996  #Islam\n",
       "8062      9  0.241288  #Islam\n",
       "...     ...       ...     ...\n",
       "8         9  0.004362    your\n",
       "8689      8  0.994045  you’re\n",
       "2856      6  0.045822       …\n",
       "2856      8  0.916448       …\n",
       "2856     10  0.015274       …\n",
       "\n",
       "[1283 rows x 3 columns], R=30, lambda_step=0.01, plot_opts={'xlab': 'PC1', 'ylab': 'PC2'}, topic_order=[3, 7, 5, 4, 8, 9, 2, 10, 6, 1])"
      ]
     },
     "execution_count": 58,
     "metadata": {},
     "output_type": "execute_result"
    }
   ],
   "source": [
    "import gensim\n",
    "import pyLDAvis \n",
    "from pyLDAvis import *\n",
    "import pyLDAvis.gensim as gensimvis\n",
    "\n",
    "# Preprocessing\n",
    "tokens = [[word for word in sentence.split()] for sentence in df['tweet_text']]\n",
    "dictionary = gensim.corpora.Dictionary(tokens)\n",
    "corpus = [dictionary.doc2bow(token) for token in tokens]\n",
    "\n",
    "# Topic Modeling\n",
    "num_topics = 10\n",
    "lda_model = gensim.models.LdaModel(corpus=corpus, id2word=dictionary, num_topics=num_topics)\n",
    "\n",
    "# Visualization\n",
    "pyLDAvis.enable_notebook()\n",
    "vis = gensimvis.prepare(lda_model, corpus, dictionary)\n",
    "vis"
   ]
  },
  {
   "cell_type": "markdown",
   "metadata": {},
   "source": [
    "# Natural Language Processing\n",
    "---"
   ]
  },
  {
   "cell_type": "markdown",
   "metadata": {},
   "source": [
    "# 1. Data Cleaning"
   ]
  },
  {
   "cell_type": "code",
   "execution_count": null,
   "metadata": {
    "execution": {
     "iopub.execute_input": "2023-03-04T08:31:44.613414Z",
     "iopub.status.busy": "2023-03-04T08:31:44.612936Z",
     "iopub.status.idle": "2023-03-04T08:31:44.622979Z",
     "shell.execute_reply": "2023-03-04T08:31:44.621960Z",
     "shell.execute_reply.started": "2023-03-04T08:31:44.613361Z"
    },
    "trusted": true
   },
   "outputs": [],
   "source": [
    "# Clean the data\n",
    "def clean_text(text):\n",
    "    # Remove HTML tags\n",
    "    text = re.sub('<.*?>', '', text)\n",
    "    \n",
    "    # Remove non-alphabetic characters and convert to lowercase\n",
    "    text = re.sub('[^a-zA-Z]', ' ', text).lower()\n",
    "    \n",
    "    # Remove URLs, mentions, and hashtags from the text\n",
    "    text = re.sub(r'http\\S+', '', text)\n",
    "    text = re.sub(r'@\\S+', '', text)\n",
    "    text = re.sub(r'#\\S+', '', text)\n",
    "    \n",
    "    # Tokenize the text\n",
    "    words = nltk.word_tokenize(text)\n",
    "    \n",
    "    # Remove stopwords\n",
    "    words = [w for w in words if w not in stopwords.words('english')]\n",
    "    \n",
    "    # Stem the words\n",
    "    stemmer = PorterStemmer()\n",
    "    words = [stemmer.stem(w) for w in words]\n",
    "    \n",
    "    # Join the words back into a string\n",
    "    text = ' '.join(words)\n",
    "    return text"
   ]
  },
  {
   "cell_type": "code",
   "execution_count": null,
   "metadata": {
    "execution": {
     "iopub.execute_input": "2023-03-04T08:31:44.625041Z",
     "iopub.status.busy": "2023-03-04T08:31:44.624419Z",
     "iopub.status.idle": "2023-03-04T08:33:03.752337Z",
     "shell.execute_reply": "2023-03-04T08:33:03.751170Z",
     "shell.execute_reply.started": "2023-03-04T08:31:44.625002Z"
    },
    "trusted": true
   },
   "outputs": [
    {
     "name": "stderr",
     "output_type": "stream",
     "text": [
      "100%|██████████| 20000/20000 [01:07<00:00, 298.22it/s]"
     ]
    },
    {
     "name": "stdout",
     "output_type": "stream",
     "text": [
      "CPU times: total: 1min 5s\n",
      "Wall time: 1min 7s\n"
     ]
    },
    {
     "name": "stderr",
     "output_type": "stream",
     "text": [
      "\n"
     ]
    }
   ],
   "source": [
    "%%time\n",
    "\n",
    "tqdm.pandas()\n",
    "\n",
    "df['cleaned_text'] = df['tweet_text'].progress_apply(clean_text)"
   ]
  },
  {
   "cell_type": "markdown",
   "metadata": {},
   "source": [
    "# 2. Feature Extraction"
   ]
  },
  {
   "cell_type": "code",
   "execution_count": null,
   "metadata": {
    "execution": {
     "iopub.execute_input": "2023-03-04T08:33:03.754168Z",
     "iopub.status.busy": "2023-03-04T08:33:03.753793Z",
     "iopub.status.idle": "2023-03-04T08:33:04.750773Z",
     "shell.execute_reply": "2023-03-04T08:33:04.749577Z",
     "shell.execute_reply.started": "2023-03-04T08:33:03.754112Z"
    },
    "trusted": true
   },
   "outputs": [],
   "source": [
    "# Create the Bag of Words model\n",
    "cv = CountVectorizer()\n",
    "X = cv.fit_transform(df['cleaned_text']).toarray()\n",
    "y = df['cyberbullying_type']"
   ]
  },
  {
   "cell_type": "code",
   "execution_count": null,
   "metadata": {
    "execution": {
     "iopub.execute_input": "2023-03-04T08:33:04.753201Z",
     "iopub.status.busy": "2023-03-04T08:33:04.752734Z",
     "iopub.status.idle": "2023-03-04T08:33:08.015048Z",
     "shell.execute_reply": "2023-03-04T08:33:08.013830Z",
     "shell.execute_reply.started": "2023-03-04T08:33:04.753111Z"
    },
    "trusted": true
   },
   "outputs": [],
   "source": [
    "# Split the data into training and testing sets\n",
    "from sklearn.model_selection import train_test_split\n",
    "X_train, X_test, y_train, y_test = train_test_split(X, y, test_size=0.2, random_state=42)"
   ]
  },
  {
   "cell_type": "markdown",
   "metadata": {},
   "source": [
    "# Classification Model\n",
    "---"
   ]
  },
  {
   "cell_type": "markdown",
   "metadata": {},
   "source": [
    "# 1. Logistic Regression Model"
   ]
  },
  {
   "cell_type": "code",
   "execution_count": null,
   "metadata": {
    "execution": {
     "iopub.execute_input": "2023-03-04T08:33:08.017173Z",
     "iopub.status.busy": "2023-03-04T08:33:08.016798Z",
     "iopub.status.idle": "2023-03-04T08:33:08.022310Z",
     "shell.execute_reply": "2023-03-04T08:33:08.021202Z",
     "shell.execute_reply.started": "2023-03-04T08:33:08.017113Z"
    },
    "trusted": true
   },
   "outputs": [],
   "source": [
    "from sklearn.linear_model import LogisticRegression\n",
    "from sklearn.metrics import accuracy_score\n",
    "# train a Logistic Regression Model\n",
    "clf = LogisticRegression(max_iter = 1000)"
   ]
  },
  {
   "cell_type": "code",
   "execution_count": null,
   "metadata": {
    "execution": {
     "iopub.execute_input": "2023-03-04T08:33:08.023913Z",
     "iopub.status.busy": "2023-03-04T08:33:08.023600Z",
     "iopub.status.idle": "2023-03-04T08:35:31.050908Z",
     "shell.execute_reply": "2023-03-04T08:35:31.049635Z",
     "shell.execute_reply.started": "2023-03-04T08:33:08.023881Z"
    },
    "trusted": true
   },
   "outputs": [
    {
     "data": {
      "text/html": [
       "<style>#sk-container-id-1 {\n",
       "  /* Definition of color scheme common for light and dark mode */\n",
       "  --sklearn-color-text: #000;\n",
       "  --sklearn-color-text-muted: #666;\n",
       "  --sklearn-color-line: gray;\n",
       "  /* Definition of color scheme for unfitted estimators */\n",
       "  --sklearn-color-unfitted-level-0: #fff5e6;\n",
       "  --sklearn-color-unfitted-level-1: #f6e4d2;\n",
       "  --sklearn-color-unfitted-level-2: #ffe0b3;\n",
       "  --sklearn-color-unfitted-level-3: chocolate;\n",
       "  /* Definition of color scheme for fitted estimators */\n",
       "  --sklearn-color-fitted-level-0: #f0f8ff;\n",
       "  --sklearn-color-fitted-level-1: #d4ebff;\n",
       "  --sklearn-color-fitted-level-2: #b3dbfd;\n",
       "  --sklearn-color-fitted-level-3: cornflowerblue;\n",
       "\n",
       "  /* Specific color for light theme */\n",
       "  --sklearn-color-text-on-default-background: var(--sg-text-color, var(--theme-code-foreground, var(--jp-content-font-color1, black)));\n",
       "  --sklearn-color-background: var(--sg-background-color, var(--theme-background, var(--jp-layout-color0, white)));\n",
       "  --sklearn-color-border-box: var(--sg-text-color, var(--theme-code-foreground, var(--jp-content-font-color1, black)));\n",
       "  --sklearn-color-icon: #696969;\n",
       "\n",
       "  @media (prefers-color-scheme: dark) {\n",
       "    /* Redefinition of color scheme for dark theme */\n",
       "    --sklearn-color-text-on-default-background: var(--sg-text-color, var(--theme-code-foreground, var(--jp-content-font-color1, white)));\n",
       "    --sklearn-color-background: var(--sg-background-color, var(--theme-background, var(--jp-layout-color0, #111)));\n",
       "    --sklearn-color-border-box: var(--sg-text-color, var(--theme-code-foreground, var(--jp-content-font-color1, white)));\n",
       "    --sklearn-color-icon: #878787;\n",
       "  }\n",
       "}\n",
       "\n",
       "#sk-container-id-1 {\n",
       "  color: var(--sklearn-color-text);\n",
       "}\n",
       "\n",
       "#sk-container-id-1 pre {\n",
       "  padding: 0;\n",
       "}\n",
       "\n",
       "#sk-container-id-1 input.sk-hidden--visually {\n",
       "  border: 0;\n",
       "  clip: rect(1px 1px 1px 1px);\n",
       "  clip: rect(1px, 1px, 1px, 1px);\n",
       "  height: 1px;\n",
       "  margin: -1px;\n",
       "  overflow: hidden;\n",
       "  padding: 0;\n",
       "  position: absolute;\n",
       "  width: 1px;\n",
       "}\n",
       "\n",
       "#sk-container-id-1 div.sk-dashed-wrapped {\n",
       "  border: 1px dashed var(--sklearn-color-line);\n",
       "  margin: 0 0.4em 0.5em 0.4em;\n",
       "  box-sizing: border-box;\n",
       "  padding-bottom: 0.4em;\n",
       "  background-color: var(--sklearn-color-background);\n",
       "}\n",
       "\n",
       "#sk-container-id-1 div.sk-container {\n",
       "  /* jupyter's `normalize.less` sets `[hidden] { display: none; }`\n",
       "     but bootstrap.min.css set `[hidden] { display: none !important; }`\n",
       "     so we also need the `!important` here to be able to override the\n",
       "     default hidden behavior on the sphinx rendered scikit-learn.org.\n",
       "     See: https://github.com/scikit-learn/scikit-learn/issues/21755 */\n",
       "  display: inline-block !important;\n",
       "  position: relative;\n",
       "}\n",
       "\n",
       "#sk-container-id-1 div.sk-text-repr-fallback {\n",
       "  display: none;\n",
       "}\n",
       "\n",
       "div.sk-parallel-item,\n",
       "div.sk-serial,\n",
       "div.sk-item {\n",
       "  /* draw centered vertical line to link estimators */\n",
       "  background-image: linear-gradient(var(--sklearn-color-text-on-default-background), var(--sklearn-color-text-on-default-background));\n",
       "  background-size: 2px 100%;\n",
       "  background-repeat: no-repeat;\n",
       "  background-position: center center;\n",
       "}\n",
       "\n",
       "/* Parallel-specific style estimator block */\n",
       "\n",
       "#sk-container-id-1 div.sk-parallel-item::after {\n",
       "  content: \"\";\n",
       "  width: 100%;\n",
       "  border-bottom: 2px solid var(--sklearn-color-text-on-default-background);\n",
       "  flex-grow: 1;\n",
       "}\n",
       "\n",
       "#sk-container-id-1 div.sk-parallel {\n",
       "  display: flex;\n",
       "  align-items: stretch;\n",
       "  justify-content: center;\n",
       "  background-color: var(--sklearn-color-background);\n",
       "  position: relative;\n",
       "}\n",
       "\n",
       "#sk-container-id-1 div.sk-parallel-item {\n",
       "  display: flex;\n",
       "  flex-direction: column;\n",
       "}\n",
       "\n",
       "#sk-container-id-1 div.sk-parallel-item:first-child::after {\n",
       "  align-self: flex-end;\n",
       "  width: 50%;\n",
       "}\n",
       "\n",
       "#sk-container-id-1 div.sk-parallel-item:last-child::after {\n",
       "  align-self: flex-start;\n",
       "  width: 50%;\n",
       "}\n",
       "\n",
       "#sk-container-id-1 div.sk-parallel-item:only-child::after {\n",
       "  width: 0;\n",
       "}\n",
       "\n",
       "/* Serial-specific style estimator block */\n",
       "\n",
       "#sk-container-id-1 div.sk-serial {\n",
       "  display: flex;\n",
       "  flex-direction: column;\n",
       "  align-items: center;\n",
       "  background-color: var(--sklearn-color-background);\n",
       "  padding-right: 1em;\n",
       "  padding-left: 1em;\n",
       "}\n",
       "\n",
       "\n",
       "/* Toggleable style: style used for estimator/Pipeline/ColumnTransformer box that is\n",
       "clickable and can be expanded/collapsed.\n",
       "- Pipeline and ColumnTransformer use this feature and define the default style\n",
       "- Estimators will overwrite some part of the style using the `sk-estimator` class\n",
       "*/\n",
       "\n",
       "/* Pipeline and ColumnTransformer style (default) */\n",
       "\n",
       "#sk-container-id-1 div.sk-toggleable {\n",
       "  /* Default theme specific background. It is overwritten whether we have a\n",
       "  specific estimator or a Pipeline/ColumnTransformer */\n",
       "  background-color: var(--sklearn-color-background);\n",
       "}\n",
       "\n",
       "/* Toggleable label */\n",
       "#sk-container-id-1 label.sk-toggleable__label {\n",
       "  cursor: pointer;\n",
       "  display: flex;\n",
       "  width: 100%;\n",
       "  margin-bottom: 0;\n",
       "  padding: 0.5em;\n",
       "  box-sizing: border-box;\n",
       "  text-align: center;\n",
       "  align-items: start;\n",
       "  justify-content: space-between;\n",
       "  gap: 0.5em;\n",
       "}\n",
       "\n",
       "#sk-container-id-1 label.sk-toggleable__label .caption {\n",
       "  font-size: 0.6rem;\n",
       "  font-weight: lighter;\n",
       "  color: var(--sklearn-color-text-muted);\n",
       "}\n",
       "\n",
       "#sk-container-id-1 label.sk-toggleable__label-arrow:before {\n",
       "  /* Arrow on the left of the label */\n",
       "  content: \"▸\";\n",
       "  float: left;\n",
       "  margin-right: 0.25em;\n",
       "  color: var(--sklearn-color-icon);\n",
       "}\n",
       "\n",
       "#sk-container-id-1 label.sk-toggleable__label-arrow:hover:before {\n",
       "  color: var(--sklearn-color-text);\n",
       "}\n",
       "\n",
       "/* Toggleable content - dropdown */\n",
       "\n",
       "#sk-container-id-1 div.sk-toggleable__content {\n",
       "  display: none;\n",
       "  text-align: left;\n",
       "  /* unfitted */\n",
       "  background-color: var(--sklearn-color-unfitted-level-0);\n",
       "}\n",
       "\n",
       "#sk-container-id-1 div.sk-toggleable__content.fitted {\n",
       "  /* fitted */\n",
       "  background-color: var(--sklearn-color-fitted-level-0);\n",
       "}\n",
       "\n",
       "#sk-container-id-1 div.sk-toggleable__content pre {\n",
       "  margin: 0.2em;\n",
       "  border-radius: 0.25em;\n",
       "  color: var(--sklearn-color-text);\n",
       "  /* unfitted */\n",
       "  background-color: var(--sklearn-color-unfitted-level-0);\n",
       "}\n",
       "\n",
       "#sk-container-id-1 div.sk-toggleable__content.fitted pre {\n",
       "  /* unfitted */\n",
       "  background-color: var(--sklearn-color-fitted-level-0);\n",
       "}\n",
       "\n",
       "#sk-container-id-1 input.sk-toggleable__control:checked~div.sk-toggleable__content {\n",
       "  /* Expand drop-down */\n",
       "  display: block;\n",
       "  width: 100%;\n",
       "  overflow: visible;\n",
       "}\n",
       "\n",
       "#sk-container-id-1 input.sk-toggleable__control:checked~label.sk-toggleable__label-arrow:before {\n",
       "  content: \"▾\";\n",
       "}\n",
       "\n",
       "/* Pipeline/ColumnTransformer-specific style */\n",
       "\n",
       "#sk-container-id-1 div.sk-label input.sk-toggleable__control:checked~label.sk-toggleable__label {\n",
       "  color: var(--sklearn-color-text);\n",
       "  background-color: var(--sklearn-color-unfitted-level-2);\n",
       "}\n",
       "\n",
       "#sk-container-id-1 div.sk-label.fitted input.sk-toggleable__control:checked~label.sk-toggleable__label {\n",
       "  background-color: var(--sklearn-color-fitted-level-2);\n",
       "}\n",
       "\n",
       "/* Estimator-specific style */\n",
       "\n",
       "/* Colorize estimator box */\n",
       "#sk-container-id-1 div.sk-estimator input.sk-toggleable__control:checked~label.sk-toggleable__label {\n",
       "  /* unfitted */\n",
       "  background-color: var(--sklearn-color-unfitted-level-2);\n",
       "}\n",
       "\n",
       "#sk-container-id-1 div.sk-estimator.fitted input.sk-toggleable__control:checked~label.sk-toggleable__label {\n",
       "  /* fitted */\n",
       "  background-color: var(--sklearn-color-fitted-level-2);\n",
       "}\n",
       "\n",
       "#sk-container-id-1 div.sk-label label.sk-toggleable__label,\n",
       "#sk-container-id-1 div.sk-label label {\n",
       "  /* The background is the default theme color */\n",
       "  color: var(--sklearn-color-text-on-default-background);\n",
       "}\n",
       "\n",
       "/* On hover, darken the color of the background */\n",
       "#sk-container-id-1 div.sk-label:hover label.sk-toggleable__label {\n",
       "  color: var(--sklearn-color-text);\n",
       "  background-color: var(--sklearn-color-unfitted-level-2);\n",
       "}\n",
       "\n",
       "/* Label box, darken color on hover, fitted */\n",
       "#sk-container-id-1 div.sk-label.fitted:hover label.sk-toggleable__label.fitted {\n",
       "  color: var(--sklearn-color-text);\n",
       "  background-color: var(--sklearn-color-fitted-level-2);\n",
       "}\n",
       "\n",
       "/* Estimator label */\n",
       "\n",
       "#sk-container-id-1 div.sk-label label {\n",
       "  font-family: monospace;\n",
       "  font-weight: bold;\n",
       "  display: inline-block;\n",
       "  line-height: 1.2em;\n",
       "}\n",
       "\n",
       "#sk-container-id-1 div.sk-label-container {\n",
       "  text-align: center;\n",
       "}\n",
       "\n",
       "/* Estimator-specific */\n",
       "#sk-container-id-1 div.sk-estimator {\n",
       "  font-family: monospace;\n",
       "  border: 1px dotted var(--sklearn-color-border-box);\n",
       "  border-radius: 0.25em;\n",
       "  box-sizing: border-box;\n",
       "  margin-bottom: 0.5em;\n",
       "  /* unfitted */\n",
       "  background-color: var(--sklearn-color-unfitted-level-0);\n",
       "}\n",
       "\n",
       "#sk-container-id-1 div.sk-estimator.fitted {\n",
       "  /* fitted */\n",
       "  background-color: var(--sklearn-color-fitted-level-0);\n",
       "}\n",
       "\n",
       "/* on hover */\n",
       "#sk-container-id-1 div.sk-estimator:hover {\n",
       "  /* unfitted */\n",
       "  background-color: var(--sklearn-color-unfitted-level-2);\n",
       "}\n",
       "\n",
       "#sk-container-id-1 div.sk-estimator.fitted:hover {\n",
       "  /* fitted */\n",
       "  background-color: var(--sklearn-color-fitted-level-2);\n",
       "}\n",
       "\n",
       "/* Specification for estimator info (e.g. \"i\" and \"?\") */\n",
       "\n",
       "/* Common style for \"i\" and \"?\" */\n",
       "\n",
       ".sk-estimator-doc-link,\n",
       "a:link.sk-estimator-doc-link,\n",
       "a:visited.sk-estimator-doc-link {\n",
       "  float: right;\n",
       "  font-size: smaller;\n",
       "  line-height: 1em;\n",
       "  font-family: monospace;\n",
       "  background-color: var(--sklearn-color-background);\n",
       "  border-radius: 1em;\n",
       "  height: 1em;\n",
       "  width: 1em;\n",
       "  text-decoration: none !important;\n",
       "  margin-left: 0.5em;\n",
       "  text-align: center;\n",
       "  /* unfitted */\n",
       "  border: var(--sklearn-color-unfitted-level-1) 1pt solid;\n",
       "  color: var(--sklearn-color-unfitted-level-1);\n",
       "}\n",
       "\n",
       ".sk-estimator-doc-link.fitted,\n",
       "a:link.sk-estimator-doc-link.fitted,\n",
       "a:visited.sk-estimator-doc-link.fitted {\n",
       "  /* fitted */\n",
       "  border: var(--sklearn-color-fitted-level-1) 1pt solid;\n",
       "  color: var(--sklearn-color-fitted-level-1);\n",
       "}\n",
       "\n",
       "/* On hover */\n",
       "div.sk-estimator:hover .sk-estimator-doc-link:hover,\n",
       ".sk-estimator-doc-link:hover,\n",
       "div.sk-label-container:hover .sk-estimator-doc-link:hover,\n",
       ".sk-estimator-doc-link:hover {\n",
       "  /* unfitted */\n",
       "  background-color: var(--sklearn-color-unfitted-level-3);\n",
       "  color: var(--sklearn-color-background);\n",
       "  text-decoration: none;\n",
       "}\n",
       "\n",
       "div.sk-estimator.fitted:hover .sk-estimator-doc-link.fitted:hover,\n",
       ".sk-estimator-doc-link.fitted:hover,\n",
       "div.sk-label-container:hover .sk-estimator-doc-link.fitted:hover,\n",
       ".sk-estimator-doc-link.fitted:hover {\n",
       "  /* fitted */\n",
       "  background-color: var(--sklearn-color-fitted-level-3);\n",
       "  color: var(--sklearn-color-background);\n",
       "  text-decoration: none;\n",
       "}\n",
       "\n",
       "/* Span, style for the box shown on hovering the info icon */\n",
       ".sk-estimator-doc-link span {\n",
       "  display: none;\n",
       "  z-index: 9999;\n",
       "  position: relative;\n",
       "  font-weight: normal;\n",
       "  right: .2ex;\n",
       "  padding: .5ex;\n",
       "  margin: .5ex;\n",
       "  width: min-content;\n",
       "  min-width: 20ex;\n",
       "  max-width: 50ex;\n",
       "  color: var(--sklearn-color-text);\n",
       "  box-shadow: 2pt 2pt 4pt #999;\n",
       "  /* unfitted */\n",
       "  background: var(--sklearn-color-unfitted-level-0);\n",
       "  border: .5pt solid var(--sklearn-color-unfitted-level-3);\n",
       "}\n",
       "\n",
       ".sk-estimator-doc-link.fitted span {\n",
       "  /* fitted */\n",
       "  background: var(--sklearn-color-fitted-level-0);\n",
       "  border: var(--sklearn-color-fitted-level-3);\n",
       "}\n",
       "\n",
       ".sk-estimator-doc-link:hover span {\n",
       "  display: block;\n",
       "}\n",
       "\n",
       "/* \"?\"-specific style due to the `<a>` HTML tag */\n",
       "\n",
       "#sk-container-id-1 a.estimator_doc_link {\n",
       "  float: right;\n",
       "  font-size: 1rem;\n",
       "  line-height: 1em;\n",
       "  font-family: monospace;\n",
       "  background-color: var(--sklearn-color-background);\n",
       "  border-radius: 1rem;\n",
       "  height: 1rem;\n",
       "  width: 1rem;\n",
       "  text-decoration: none;\n",
       "  /* unfitted */\n",
       "  color: var(--sklearn-color-unfitted-level-1);\n",
       "  border: var(--sklearn-color-unfitted-level-1) 1pt solid;\n",
       "}\n",
       "\n",
       "#sk-container-id-1 a.estimator_doc_link.fitted {\n",
       "  /* fitted */\n",
       "  border: var(--sklearn-color-fitted-level-1) 1pt solid;\n",
       "  color: var(--sklearn-color-fitted-level-1);\n",
       "}\n",
       "\n",
       "/* On hover */\n",
       "#sk-container-id-1 a.estimator_doc_link:hover {\n",
       "  /* unfitted */\n",
       "  background-color: var(--sklearn-color-unfitted-level-3);\n",
       "  color: var(--sklearn-color-background);\n",
       "  text-decoration: none;\n",
       "}\n",
       "\n",
       "#sk-container-id-1 a.estimator_doc_link.fitted:hover {\n",
       "  /* fitted */\n",
       "  background-color: var(--sklearn-color-fitted-level-3);\n",
       "}\n",
       "\n",
       ".estimator-table summary {\n",
       "    padding: .5rem;\n",
       "    font-family: monospace;\n",
       "    cursor: pointer;\n",
       "}\n",
       "\n",
       ".estimator-table details[open] {\n",
       "    padding-left: 0.1rem;\n",
       "    padding-right: 0.1rem;\n",
       "    padding-bottom: 0.3rem;\n",
       "}\n",
       "\n",
       ".estimator-table .parameters-table {\n",
       "    margin-left: auto !important;\n",
       "    margin-right: auto !important;\n",
       "}\n",
       "\n",
       ".estimator-table .parameters-table tr:nth-child(odd) {\n",
       "    background-color: #fff;\n",
       "}\n",
       "\n",
       ".estimator-table .parameters-table tr:nth-child(even) {\n",
       "    background-color: #f6f6f6;\n",
       "}\n",
       "\n",
       ".estimator-table .parameters-table tr:hover {\n",
       "    background-color: #e0e0e0;\n",
       "}\n",
       "\n",
       ".estimator-table table td {\n",
       "    border: 1px solid rgba(106, 105, 104, 0.232);\n",
       "}\n",
       "\n",
       ".user-set td {\n",
       "    color:rgb(255, 94, 0);\n",
       "    text-align: left;\n",
       "}\n",
       "\n",
       ".user-set td.value pre {\n",
       "    color:rgb(255, 94, 0) !important;\n",
       "    background-color: transparent !important;\n",
       "}\n",
       "\n",
       ".default td {\n",
       "    color: black;\n",
       "    text-align: left;\n",
       "}\n",
       "\n",
       ".user-set td i,\n",
       ".default td i {\n",
       "    color: black;\n",
       "}\n",
       "\n",
       ".copy-paste-icon {\n",
       "    background-image: url(data:image/svg+xml;base64,PHN2ZyB4bWxucz0iaHR0cDovL3d3dy53My5vcmcvMjAwMC9zdmciIHZpZXdCb3g9IjAgMCA0NDggNTEyIj48IS0tIUZvbnQgQXdlc29tZSBGcmVlIDYuNy4yIGJ5IEBmb250YXdlc29tZSAtIGh0dHBzOi8vZm9udGF3ZXNvbWUuY29tIExpY2Vuc2UgLSBodHRwczovL2ZvbnRhd2Vzb21lLmNvbS9saWNlbnNlL2ZyZWUgQ29weXJpZ2h0IDIwMjUgRm9udGljb25zLCBJbmMuLS0+PHBhdGggZD0iTTIwOCAwTDMzMi4xIDBjMTIuNyAwIDI0LjkgNS4xIDMzLjkgMTQuMWw2Ny45IDY3LjljOSA5IDE0LjEgMjEuMiAxNC4xIDMzLjlMNDQ4IDMzNmMwIDI2LjUtMjEuNSA0OC00OCA0OGwtMTkyIDBjLTI2LjUgMC00OC0yMS41LTQ4LTQ4bDAtMjg4YzAtMjYuNSAyMS41LTQ4IDQ4LTQ4ek00OCAxMjhsODAgMCAwIDY0LTY0IDAgMCAyNTYgMTkyIDAgMC0zMiA2NCAwIDAgNDhjMCAyNi41LTIxLjUgNDgtNDggNDhMNDggNTEyYy0yNi41IDAtNDgtMjEuNS00OC00OEwwIDE3NmMwLTI2LjUgMjEuNS00OCA0OC00OHoiLz48L3N2Zz4=);\n",
       "    background-repeat: no-repeat;\n",
       "    background-size: 14px 14px;\n",
       "    background-position: 0;\n",
       "    display: inline-block;\n",
       "    width: 14px;\n",
       "    height: 14px;\n",
       "    cursor: pointer;\n",
       "}\n",
       "</style><body><div id=\"sk-container-id-1\" class=\"sk-top-container\"><div class=\"sk-text-repr-fallback\"><pre>LogisticRegression(max_iter=1000)</pre><b>In a Jupyter environment, please rerun this cell to show the HTML representation or trust the notebook. <br />On GitHub, the HTML representation is unable to render, please try loading this page with nbviewer.org.</b></div><div class=\"sk-container\" hidden><div class=\"sk-item\"><div class=\"sk-estimator fitted sk-toggleable\"><input class=\"sk-toggleable__control sk-hidden--visually\" id=\"sk-estimator-id-1\" type=\"checkbox\" checked><label for=\"sk-estimator-id-1\" class=\"sk-toggleable__label fitted sk-toggleable__label-arrow\"><div><div>LogisticRegression</div></div><div><a class=\"sk-estimator-doc-link fitted\" rel=\"noreferrer\" target=\"_blank\" href=\"https://scikit-learn.org/1.7/modules/generated/sklearn.linear_model.LogisticRegression.html\">?<span>Documentation for LogisticRegression</span></a><span class=\"sk-estimator-doc-link fitted\">i<span>Fitted</span></span></div></label><div class=\"sk-toggleable__content fitted\" data-param-prefix=\"\">\n",
       "        <div class=\"estimator-table\">\n",
       "            <details>\n",
       "                <summary>Parameters</summary>\n",
       "                <table class=\"parameters-table\">\n",
       "                  <tbody>\n",
       "                    \n",
       "        <tr class=\"default\">\n",
       "            <td><i class=\"copy-paste-icon\"\n",
       "                 onclick=\"copyToClipboard('penalty',\n",
       "                          this.parentElement.nextElementSibling)\"\n",
       "            ></i></td>\n",
       "            <td class=\"param\">penalty&nbsp;</td>\n",
       "            <td class=\"value\">&#x27;l2&#x27;</td>\n",
       "        </tr>\n",
       "    \n",
       "\n",
       "        <tr class=\"default\">\n",
       "            <td><i class=\"copy-paste-icon\"\n",
       "                 onclick=\"copyToClipboard('dual',\n",
       "                          this.parentElement.nextElementSibling)\"\n",
       "            ></i></td>\n",
       "            <td class=\"param\">dual&nbsp;</td>\n",
       "            <td class=\"value\">False</td>\n",
       "        </tr>\n",
       "    \n",
       "\n",
       "        <tr class=\"default\">\n",
       "            <td><i class=\"copy-paste-icon\"\n",
       "                 onclick=\"copyToClipboard('tol',\n",
       "                          this.parentElement.nextElementSibling)\"\n",
       "            ></i></td>\n",
       "            <td class=\"param\">tol&nbsp;</td>\n",
       "            <td class=\"value\">0.0001</td>\n",
       "        </tr>\n",
       "    \n",
       "\n",
       "        <tr class=\"default\">\n",
       "            <td><i class=\"copy-paste-icon\"\n",
       "                 onclick=\"copyToClipboard('C',\n",
       "                          this.parentElement.nextElementSibling)\"\n",
       "            ></i></td>\n",
       "            <td class=\"param\">C&nbsp;</td>\n",
       "            <td class=\"value\">1.0</td>\n",
       "        </tr>\n",
       "    \n",
       "\n",
       "        <tr class=\"default\">\n",
       "            <td><i class=\"copy-paste-icon\"\n",
       "                 onclick=\"copyToClipboard('fit_intercept',\n",
       "                          this.parentElement.nextElementSibling)\"\n",
       "            ></i></td>\n",
       "            <td class=\"param\">fit_intercept&nbsp;</td>\n",
       "            <td class=\"value\">True</td>\n",
       "        </tr>\n",
       "    \n",
       "\n",
       "        <tr class=\"default\">\n",
       "            <td><i class=\"copy-paste-icon\"\n",
       "                 onclick=\"copyToClipboard('intercept_scaling',\n",
       "                          this.parentElement.nextElementSibling)\"\n",
       "            ></i></td>\n",
       "            <td class=\"param\">intercept_scaling&nbsp;</td>\n",
       "            <td class=\"value\">1</td>\n",
       "        </tr>\n",
       "    \n",
       "\n",
       "        <tr class=\"default\">\n",
       "            <td><i class=\"copy-paste-icon\"\n",
       "                 onclick=\"copyToClipboard('class_weight',\n",
       "                          this.parentElement.nextElementSibling)\"\n",
       "            ></i></td>\n",
       "            <td class=\"param\">class_weight&nbsp;</td>\n",
       "            <td class=\"value\">None</td>\n",
       "        </tr>\n",
       "    \n",
       "\n",
       "        <tr class=\"default\">\n",
       "            <td><i class=\"copy-paste-icon\"\n",
       "                 onclick=\"copyToClipboard('random_state',\n",
       "                          this.parentElement.nextElementSibling)\"\n",
       "            ></i></td>\n",
       "            <td class=\"param\">random_state&nbsp;</td>\n",
       "            <td class=\"value\">None</td>\n",
       "        </tr>\n",
       "    \n",
       "\n",
       "        <tr class=\"default\">\n",
       "            <td><i class=\"copy-paste-icon\"\n",
       "                 onclick=\"copyToClipboard('solver',\n",
       "                          this.parentElement.nextElementSibling)\"\n",
       "            ></i></td>\n",
       "            <td class=\"param\">solver&nbsp;</td>\n",
       "            <td class=\"value\">&#x27;lbfgs&#x27;</td>\n",
       "        </tr>\n",
       "    \n",
       "\n",
       "        <tr class=\"user-set\">\n",
       "            <td><i class=\"copy-paste-icon\"\n",
       "                 onclick=\"copyToClipboard('max_iter',\n",
       "                          this.parentElement.nextElementSibling)\"\n",
       "            ></i></td>\n",
       "            <td class=\"param\">max_iter&nbsp;</td>\n",
       "            <td class=\"value\">1000</td>\n",
       "        </tr>\n",
       "    \n",
       "\n",
       "        <tr class=\"default\">\n",
       "            <td><i class=\"copy-paste-icon\"\n",
       "                 onclick=\"copyToClipboard('multi_class',\n",
       "                          this.parentElement.nextElementSibling)\"\n",
       "            ></i></td>\n",
       "            <td class=\"param\">multi_class&nbsp;</td>\n",
       "            <td class=\"value\">&#x27;deprecated&#x27;</td>\n",
       "        </tr>\n",
       "    \n",
       "\n",
       "        <tr class=\"default\">\n",
       "            <td><i class=\"copy-paste-icon\"\n",
       "                 onclick=\"copyToClipboard('verbose',\n",
       "                          this.parentElement.nextElementSibling)\"\n",
       "            ></i></td>\n",
       "            <td class=\"param\">verbose&nbsp;</td>\n",
       "            <td class=\"value\">0</td>\n",
       "        </tr>\n",
       "    \n",
       "\n",
       "        <tr class=\"default\">\n",
       "            <td><i class=\"copy-paste-icon\"\n",
       "                 onclick=\"copyToClipboard('warm_start',\n",
       "                          this.parentElement.nextElementSibling)\"\n",
       "            ></i></td>\n",
       "            <td class=\"param\">warm_start&nbsp;</td>\n",
       "            <td class=\"value\">False</td>\n",
       "        </tr>\n",
       "    \n",
       "\n",
       "        <tr class=\"default\">\n",
       "            <td><i class=\"copy-paste-icon\"\n",
       "                 onclick=\"copyToClipboard('n_jobs',\n",
       "                          this.parentElement.nextElementSibling)\"\n",
       "            ></i></td>\n",
       "            <td class=\"param\">n_jobs&nbsp;</td>\n",
       "            <td class=\"value\">None</td>\n",
       "        </tr>\n",
       "    \n",
       "\n",
       "        <tr class=\"default\">\n",
       "            <td><i class=\"copy-paste-icon\"\n",
       "                 onclick=\"copyToClipboard('l1_ratio',\n",
       "                          this.parentElement.nextElementSibling)\"\n",
       "            ></i></td>\n",
       "            <td class=\"param\">l1_ratio&nbsp;</td>\n",
       "            <td class=\"value\">None</td>\n",
       "        </tr>\n",
       "    \n",
       "                  </tbody>\n",
       "                </table>\n",
       "            </details>\n",
       "        </div>\n",
       "    </div></div></div></div></div><script>function copyToClipboard(text, element) {\n",
       "    // Get the parameter prefix from the closest toggleable content\n",
       "    const toggleableContent = element.closest('.sk-toggleable__content');\n",
       "    const paramPrefix = toggleableContent ? toggleableContent.dataset.paramPrefix : '';\n",
       "    const fullParamName = paramPrefix ? `${paramPrefix}${text}` : text;\n",
       "\n",
       "    const originalStyle = element.style;\n",
       "    const computedStyle = window.getComputedStyle(element);\n",
       "    const originalWidth = computedStyle.width;\n",
       "    const originalHTML = element.innerHTML.replace('Copied!', '');\n",
       "\n",
       "    navigator.clipboard.writeText(fullParamName)\n",
       "        .then(() => {\n",
       "            element.style.width = originalWidth;\n",
       "            element.style.color = 'green';\n",
       "            element.innerHTML = \"Copied!\";\n",
       "\n",
       "            setTimeout(() => {\n",
       "                element.innerHTML = originalHTML;\n",
       "                element.style = originalStyle;\n",
       "            }, 2000);\n",
       "        })\n",
       "        .catch(err => {\n",
       "            console.error('Failed to copy:', err);\n",
       "            element.style.color = 'red';\n",
       "            element.innerHTML = \"Failed!\";\n",
       "            setTimeout(() => {\n",
       "                element.innerHTML = originalHTML;\n",
       "                element.style = originalStyle;\n",
       "            }, 2000);\n",
       "        });\n",
       "    return false;\n",
       "}\n",
       "\n",
       "document.querySelectorAll('.fa-regular.fa-copy').forEach(function(element) {\n",
       "    const toggleableContent = element.closest('.sk-toggleable__content');\n",
       "    const paramPrefix = toggleableContent ? toggleableContent.dataset.paramPrefix : '';\n",
       "    const paramName = element.parentElement.nextElementSibling.textContent.trim();\n",
       "    const fullParamName = paramPrefix ? `${paramPrefix}${paramName}` : paramName;\n",
       "\n",
       "    element.setAttribute('title', fullParamName);\n",
       "});\n",
       "</script></body>"
      ],
      "text/plain": [
       "LogisticRegression(max_iter=1000)"
      ]
     },
     "execution_count": 108,
     "metadata": {},
     "output_type": "execute_result"
    }
   ],
   "source": [
    "clf.fit(X_train, y_train)"
   ]
  },
  {
   "cell_type": "markdown",
   "metadata": {},
   "source": [
    "# 2. Predictions"
   ]
  },
  {
   "cell_type": "code",
   "execution_count": null,
   "metadata": {
    "execution": {
     "iopub.execute_input": "2023-03-04T08:35:31.057391Z",
     "iopub.status.busy": "2023-03-04T08:35:31.056568Z",
     "iopub.status.idle": "2023-03-04T08:35:31.492997Z",
     "shell.execute_reply": "2023-03-04T08:35:31.491672Z",
     "shell.execute_reply.started": "2023-03-04T08:35:31.057326Z"
    },
    "trusted": true
   },
   "outputs": [
    {
     "data": {
      "text/plain": [
       "array(['gender', 'not_cyberbullying', 'gender', ..., 'gender',\n",
       "       'not_cyberbullying', 'gender'], shape=(4000,), dtype=object)"
      ]
     },
     "execution_count": 109,
     "metadata": {},
     "output_type": "execute_result"
    }
   ],
   "source": [
    "# evaluate the classifier on the test set\n",
    "y_pred = clf.predict(X_test)\n",
    "y_pred"
   ]
  },
  {
   "cell_type": "markdown",
   "metadata": {},
   "source": [
    "# 3. Accuracy Score"
   ]
  },
  {
   "cell_type": "code",
   "execution_count": null,
   "metadata": {
    "execution": {
     "iopub.execute_input": "2023-03-04T08:35:31.495625Z",
     "iopub.status.busy": "2023-03-04T08:35:31.494881Z",
     "iopub.status.idle": "2023-03-04T08:35:31.511848Z",
     "shell.execute_reply": "2023-03-04T08:35:31.510468Z",
     "shell.execute_reply.started": "2023-03-04T08:35:31.495576Z"
    },
    "trusted": true
   },
   "outputs": [
    {
     "name": "stdout",
     "output_type": "stream",
     "text": [
      "Accuracy: 0.914\n"
     ]
    }
   ],
   "source": [
    "acc = accuracy_score(y_test, y_pred)\n",
    "print(\"Accuracy:\", acc)"
   ]
  },
  {
   "cell_type": "markdown",
   "metadata": {},
   "source": [
    "# 4. Confusion Matrix"
   ]
  },
  {
   "cell_type": "code",
   "execution_count": null,
   "metadata": {
    "execution": {
     "iopub.execute_input": "2023-03-04T08:35:31.514702Z",
     "iopub.status.busy": "2023-03-04T08:35:31.513888Z",
     "iopub.status.idle": "2023-03-04T08:35:31.561654Z",
     "shell.execute_reply": "2023-03-04T08:35:31.560281Z",
     "shell.execute_reply.started": "2023-03-04T08:35:31.514654Z"
    },
    "trusted": true
   },
   "outputs": [
    {
     "data": {
      "text/plain": [
       "array([[1424,  175,    3],\n",
       "       [  70, 1499,   31],\n",
       "       [   9,   56,  733]])"
      ]
     },
     "execution_count": 111,
     "metadata": {},
     "output_type": "execute_result"
    }
   ],
   "source": [
    "from sklearn.metrics import confusion_matrix\n",
    "cm = confusion_matrix(y_test, y_pred)\n",
    "cm"
   ]
  },
  {
   "cell_type": "code",
   "execution_count": null,
   "metadata": {
    "execution": {
     "iopub.execute_input": "2023-03-04T08:35:31.565024Z",
     "iopub.status.busy": "2023-03-04T08:35:31.564412Z",
     "iopub.status.idle": "2023-03-04T08:35:31.872084Z",
     "shell.execute_reply": "2023-03-04T08:35:31.871255Z",
     "shell.execute_reply.started": "2023-03-04T08:35:31.564964Z"
    },
    "trusted": true
   },
   "outputs": [
    {
     "data": {
      "text/plain": [
       "<Axes: >"
      ]
     },
     "execution_count": 112,
     "metadata": {},
     "output_type": "execute_result"
    },
    {
     "data": {
      "image/png": "[encoded data removed]",
      "text/plain": [
       "<Figure size 640x480 with 2 Axes>"
      ]
     },
     "metadata": {},
     "output_type": "display_data"
    }
   ],
   "source": [
    "import seaborn as sns\n",
    "sns.heatmap(cm, annot=True)"
   ]
  },
  {
   "cell_type": "markdown",
   "metadata": {},
   "source": [
    "# 5. Classification Report"
   ]
  },
  {
   "cell_type": "code",
   "execution_count": null,
   "metadata": {
    "execution": {
     "iopub.execute_input": "2023-03-04T08:35:56.226274Z",
     "iopub.status.busy": "2023-03-04T08:35:56.225811Z",
     "iopub.status.idle": "2023-03-04T08:35:56.321001Z",
     "shell.execute_reply": "2023-03-04T08:35:56.319853Z",
     "shell.execute_reply.started": "2023-03-04T08:35:56.226232Z"
    },
    "trusted": true
   },
   "outputs": [
    {
     "name": "stdout",
     "output_type": "stream",
     "text": [
      "                   precision    recall  f1-score   support\n",
      "\n",
      "           gender       0.95      0.89      0.92      1602\n",
      "not_cyberbullying       0.87      0.94      0.90      1600\n",
      "         religion       0.96      0.92      0.94       798\n",
      "\n",
      "         accuracy                           0.91      4000\n",
      "        macro avg       0.92      0.91      0.92      4000\n",
      "     weighted avg       0.92      0.91      0.91      4000\n",
      "\n"
     ]
    }
   ],
   "source": [
    "from sklearn.metrics import classification_report\n",
    "report = classification_report(y_test, y_pred)\n",
    "print(report)"
   ]
  },
  {
   "cell_type": "markdown",
   "metadata": {},
   "source": [
    "# Thank You\n",
    "---"
   ]
  }
 ],
 "metadata": {
  "kernelspec": {
   "display_name": "env",
   "language": "python",
   "name": "python3"
  },
  "language_info": {
   "codemirror_mode": {
    "name": "ipython",
    "version": 3
   },
   "file_extension": ".py",
   "mimetype": "text/x-python",
   "name": "python",
   "nbconvert_exporter": "python",
   "pygments_lexer": "ipython3",
   "version": "3.13.7"
  }
 },
 "nbformat": 4,
 "nbformat_minor": 4
}
